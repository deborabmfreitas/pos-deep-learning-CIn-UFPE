{
 "cells": [
  {
   "cell_type": "markdown",
   "id": "77349321-e67b-491a-a284-8640db1acfda",
   "metadata": {},
   "source": [
    "# PCA (Principal Component Analysis)"
   ]
  },
  {
   "cell_type": "markdown",
   "id": "3dd49483-b94e-4a73-8120-092d893810b2",
   "metadata": {},
   "source": [
    "# Implementação"
   ]
  },
  {
   "cell_type": "markdown",
   "id": "78193259-5285-4c7b-acf8-27c0b194cb48",
   "metadata": {},
   "source": [
    "### Bibliotecas utilizadas"
   ]
  },
  {
   "cell_type": "code",
   "execution_count": 2,
   "id": "3b2fdea5-9206-4fc1-be4f-edf737b466b6",
   "metadata": {},
   "outputs": [],
   "source": [
    "# Bibliotecas utilizadas\n",
    "\n",
    "import numpy as np\n",
    "import pandas as pd\n",
    "import matplotlib.pyplot as plt\n",
    "from sklearn.datasets import make_classification\n",
    "from sklearn.preprocessing import StandardScaler\n",
    "from sklearn.decomposition import PCA\n",
    "from sklearn.model_selection import train_test_split\n",
    "from sklearn.linear_model import LogisticRegression\n",
    "from sklearn.metrics import classification_report, roc_auc_score, roc_curve\n",
    "import time"
   ]
  },
  {
   "cell_type": "markdown",
   "id": "dc2737e7-ee53-43a8-8ba7-21df7eb02771",
   "metadata": {},
   "source": [
    "### Dados utilizados"
   ]
  },
  {
   "cell_type": "code",
   "execution_count": 3,
   "id": "f8333775-66c7-476b-8562-b6b2a6e99a4b",
   "metadata": {},
   "outputs": [],
   "source": [
    "# Geração de um dataset sintético com 500 features\n",
    "\n",
    "X, y = make_classification(n_samples=100000, n_features=1000, n_informative=100,\n",
    "                           n_redundant=500, n_classes=2, random_state=42)"
   ]
  },
  {
   "cell_type": "code",
   "execution_count": 4,
   "id": "78b0d6ec-ce2a-4572-938c-b048b6b15d4b",
   "metadata": {},
   "outputs": [
    {
     "name": "stdout",
     "output_type": "stream",
     "text": [
      "n_linhas, n_colunas de X: (100000, 1000)\n",
      "n_linhas, n_colunas de X: (100000,)\n",
      "Dimensões de X: 2\n",
      "Dimensões de y: 1\n"
     ]
    }
   ],
   "source": [
    "# Inspeção dos dados gerados\n",
    "\n",
    "print(f'n_linhas, n_colunas de X: {X.shape}')\n",
    "print(f'n_linhas, n_colunas de X: {y.shape}')\n",
    "\n",
    "print(f'Dimensões de X: {X.ndim}')\n",
    "print(f'Dimensões de y: {y.ndim}')"
   ]
  },
  {
   "cell_type": "code",
   "execution_count": 5,
   "id": "151a8da2-7fb4-4a14-8617-f23c6f146046",
   "metadata": {},
   "outputs": [
    {
     "data": {
      "text/html": [
       "<div>\n",
       "<style scoped>\n",
       "    .dataframe tbody tr th:only-of-type {\n",
       "        vertical-align: middle;\n",
       "    }\n",
       "\n",
       "    .dataframe tbody tr th {\n",
       "        vertical-align: top;\n",
       "    }\n",
       "\n",
       "    .dataframe thead th {\n",
       "        text-align: right;\n",
       "    }\n",
       "</style>\n",
       "<table border=\"1\" class=\"dataframe\">\n",
       "  <thead>\n",
       "    <tr style=\"text-align: right;\">\n",
       "      <th></th>\n",
       "      <th>0</th>\n",
       "      <th>1</th>\n",
       "      <th>2</th>\n",
       "      <th>3</th>\n",
       "      <th>4</th>\n",
       "      <th>5</th>\n",
       "      <th>6</th>\n",
       "      <th>7</th>\n",
       "      <th>8</th>\n",
       "      <th>9</th>\n",
       "      <th>...</th>\n",
       "      <th>990</th>\n",
       "      <th>991</th>\n",
       "      <th>992</th>\n",
       "      <th>993</th>\n",
       "      <th>994</th>\n",
       "      <th>995</th>\n",
       "      <th>996</th>\n",
       "      <th>997</th>\n",
       "      <th>998</th>\n",
       "      <th>999</th>\n",
       "    </tr>\n",
       "  </thead>\n",
       "  <tbody>\n",
       "    <tr>\n",
       "      <th>0</th>\n",
       "      <td>-36.469205</td>\n",
       "      <td>-1.754848</td>\n",
       "      <td>1.062921</td>\n",
       "      <td>17.968408</td>\n",
       "      <td>22.481179</td>\n",
       "      <td>0.814358</td>\n",
       "      <td>-17.571410</td>\n",
       "      <td>-21.359116</td>\n",
       "      <td>-0.666416</td>\n",
       "      <td>-39.311066</td>\n",
       "      <td>...</td>\n",
       "      <td>-0.267885</td>\n",
       "      <td>3.493382</td>\n",
       "      <td>-8.133961</td>\n",
       "      <td>1.263342</td>\n",
       "      <td>2.852839</td>\n",
       "      <td>-0.004847</td>\n",
       "      <td>-5.250780</td>\n",
       "      <td>-42.560590</td>\n",
       "      <td>-0.207623</td>\n",
       "      <td>0.207986</td>\n",
       "    </tr>\n",
       "    <tr>\n",
       "      <th>1</th>\n",
       "      <td>-43.013023</td>\n",
       "      <td>-1.712915</td>\n",
       "      <td>-0.846287</td>\n",
       "      <td>-70.838157</td>\n",
       "      <td>4.086765</td>\n",
       "      <td>-1.629012</td>\n",
       "      <td>5.604231</td>\n",
       "      <td>-18.010283</td>\n",
       "      <td>0.595137</td>\n",
       "      <td>-3.001491</td>\n",
       "      <td>...</td>\n",
       "      <td>0.150830</td>\n",
       "      <td>-0.966398</td>\n",
       "      <td>-1.397634</td>\n",
       "      <td>-0.708457</td>\n",
       "      <td>1.141132</td>\n",
       "      <td>3.361249</td>\n",
       "      <td>-1.792411</td>\n",
       "      <td>43.489189</td>\n",
       "      <td>-2.398963</td>\n",
       "      <td>-0.981798</td>\n",
       "    </tr>\n",
       "    <tr>\n",
       "      <th>2</th>\n",
       "      <td>4.372684</td>\n",
       "      <td>-0.924294</td>\n",
       "      <td>1.055432</td>\n",
       "      <td>-19.721368</td>\n",
       "      <td>9.619650</td>\n",
       "      <td>-1.454115</td>\n",
       "      <td>-20.782047</td>\n",
       "      <td>-14.520253</td>\n",
       "      <td>-0.442481</td>\n",
       "      <td>-6.843783</td>\n",
       "      <td>...</td>\n",
       "      <td>-1.604045</td>\n",
       "      <td>-1.731165</td>\n",
       "      <td>-8.145403</td>\n",
       "      <td>-0.321451</td>\n",
       "      <td>2.163974</td>\n",
       "      <td>26.436324</td>\n",
       "      <td>-6.665523</td>\n",
       "      <td>-6.487041</td>\n",
       "      <td>-1.149262</td>\n",
       "      <td>-0.842410</td>\n",
       "    </tr>\n",
       "    <tr>\n",
       "      <th>3</th>\n",
       "      <td>-19.695046</td>\n",
       "      <td>-0.260747</td>\n",
       "      <td>-1.134741</td>\n",
       "      <td>19.843368</td>\n",
       "      <td>-3.817320</td>\n",
       "      <td>0.711969</td>\n",
       "      <td>-32.989738</td>\n",
       "      <td>16.129005</td>\n",
       "      <td>1.867328</td>\n",
       "      <td>-37.260485</td>\n",
       "      <td>...</td>\n",
       "      <td>-0.141334</td>\n",
       "      <td>-2.929239</td>\n",
       "      <td>-4.711547</td>\n",
       "      <td>-1.911446</td>\n",
       "      <td>0.038135</td>\n",
       "      <td>13.801243</td>\n",
       "      <td>4.558739</td>\n",
       "      <td>-47.133110</td>\n",
       "      <td>0.012212</td>\n",
       "      <td>-1.578762</td>\n",
       "    </tr>\n",
       "    <tr>\n",
       "      <th>4</th>\n",
       "      <td>-18.473750</td>\n",
       "      <td>-1.570423</td>\n",
       "      <td>1.670385</td>\n",
       "      <td>-21.691181</td>\n",
       "      <td>42.945531</td>\n",
       "      <td>1.239184</td>\n",
       "      <td>-30.126282</td>\n",
       "      <td>26.385063</td>\n",
       "      <td>-1.634253</td>\n",
       "      <td>-19.695800</td>\n",
       "      <td>...</td>\n",
       "      <td>1.987024</td>\n",
       "      <td>0.921678</td>\n",
       "      <td>0.540951</td>\n",
       "      <td>0.653479</td>\n",
       "      <td>1.330736</td>\n",
       "      <td>14.276905</td>\n",
       "      <td>1.846400</td>\n",
       "      <td>-1.038765</td>\n",
       "      <td>-0.343697</td>\n",
       "      <td>0.300562</td>\n",
       "    </tr>\n",
       "  </tbody>\n",
       "</table>\n",
       "<p>5 rows × 1000 columns</p>\n",
       "</div>"
      ],
      "text/plain": [
       "         0         1         2          3          4         5          6    \\\n",
       "0 -36.469205 -1.754848  1.062921  17.968408  22.481179  0.814358 -17.571410   \n",
       "1 -43.013023 -1.712915 -0.846287 -70.838157   4.086765 -1.629012   5.604231   \n",
       "2   4.372684 -0.924294  1.055432 -19.721368   9.619650 -1.454115 -20.782047   \n",
       "3 -19.695046 -0.260747 -1.134741  19.843368  -3.817320  0.711969 -32.989738   \n",
       "4 -18.473750 -1.570423  1.670385 -21.691181  42.945531  1.239184 -30.126282   \n",
       "\n",
       "         7         8          9    ...       990       991       992  \\\n",
       "0 -21.359116 -0.666416 -39.311066  ... -0.267885  3.493382 -8.133961   \n",
       "1 -18.010283  0.595137  -3.001491  ...  0.150830 -0.966398 -1.397634   \n",
       "2 -14.520253 -0.442481  -6.843783  ... -1.604045 -1.731165 -8.145403   \n",
       "3  16.129005  1.867328 -37.260485  ... -0.141334 -2.929239 -4.711547   \n",
       "4  26.385063 -1.634253 -19.695800  ...  1.987024  0.921678  0.540951   \n",
       "\n",
       "        993       994        995       996        997       998       999  \n",
       "0  1.263342  2.852839  -0.004847 -5.250780 -42.560590 -0.207623  0.207986  \n",
       "1 -0.708457  1.141132   3.361249 -1.792411  43.489189 -2.398963 -0.981798  \n",
       "2 -0.321451  2.163974  26.436324 -6.665523  -6.487041 -1.149262 -0.842410  \n",
       "3 -1.911446  0.038135  13.801243  4.558739 -47.133110  0.012212 -1.578762  \n",
       "4  0.653479  1.330736  14.276905  1.846400  -1.038765 -0.343697  0.300562  \n",
       "\n",
       "[5 rows x 1000 columns]"
      ]
     },
     "execution_count": 5,
     "metadata": {},
     "output_type": "execute_result"
    }
   ],
   "source": [
    "# Visualização de X\n",
    "\n",
    "pd.DataFrame(X).head()"
   ]
  },
  {
   "cell_type": "code",
   "execution_count": 6,
   "id": "ae27288b-5973-4560-93be-902bd89e401a",
   "metadata": {},
   "outputs": [
    {
     "data": {
      "text/plain": [
       "0\n",
       "0    50035\n",
       "1    49965\n",
       "Name: count, dtype: int64"
      ]
     },
     "execution_count": 6,
     "metadata": {},
     "output_type": "execute_result"
    }
   ],
   "source": [
    "# Distribuição das classes\n",
    "\n",
    "pd.DataFrame(y).value_counts()"
   ]
  },
  {
   "cell_type": "markdown",
   "id": "ed097038-d00b-45ba-9faf-89569c3c3f38",
   "metadata": {},
   "source": [
    "# Padronização dos dados"
   ]
  },
  {
   "cell_type": "markdown",
   "id": "f4b5ce04-7f65-4b1c-982c-0b42c2b3a310",
   "metadata": {},
   "source": [
    "- Aplicação do Standard scaler, que deixa a média = 0 e desvio padrão = 1\n",
    "- Para cada feature (coluna), ele aplica: `z = (x - μ) / σ`"
   ]
  },
  {
   "cell_type": "code",
   "execution_count": 7,
   "id": "720fa111-88b7-4dc3-86d1-90f50f1640ae",
   "metadata": {},
   "outputs": [],
   "source": [
    "scaler = StandardScaler()\n",
    "X_scaled = scaler.fit_transform(X)"
   ]
  },
  {
   "cell_type": "code",
   "execution_count": 8,
   "id": "f9766e44-832b-4ec6-8926-9a95874fdd9a",
   "metadata": {},
   "outputs": [
    {
     "name": "stdout",
     "output_type": "stream",
     "text": [
      "Analisando a transformação das primeiras 10 features\n",
      "Feature | Original Mean | Original Std | Scaled Mean | Scaled Std\n",
      "-----------------------------------------------------------------\n",
      "F 1     |      -2.2974 |     33.0072 |  -0.000000 |  1.000000\n",
      "F 2     |      -0.0025 |      0.9976 |   0.000000 |  1.000000\n",
      "F 3     |      -0.0037 |      1.0021 |   0.000000 |  1.000000\n",
      "F 4     |      -0.9187 |     36.2062 |   0.000000 |  1.000000\n",
      "F 5     |       1.8863 |     35.4250 |   0.000000 |  1.000000\n",
      "F 6     |      -0.0001 |      1.0020 |  -0.000000 |  1.000000\n",
      "F 7     |      -2.0882 |     32.1749 |   0.000000 |  1.000000\n",
      "F 8     |       3.1624 |     30.6175 |   0.000000 |  1.000000\n",
      "F 9     |       0.0031 |      1.0005 |  -0.000000 |  1.000000\n",
      "F10     |      -1.5904 |     33.3537 |   0.000000 |  1.000000\n"
     ]
    }
   ],
   "source": [
    "# Visualizando a transformação\n",
    "\n",
    "print('Analisando a transformação das primeiras 10 features')\n",
    "print('Feature | Original Mean | Original Std | Scaled Mean | Scaled Std')\n",
    "print('-' * 65)\n",
    "\n",
    "for i in range(min(10, X.shape[1])):\n",
    "    print(f'F{i+1:2}     | {np.mean(X[:, i]):12.4f} | {np.std(X[:, i]):11.4f} | {np.mean(X_scaled[:, i]):10.6f} | {np.std(X_scaled[:, i]):9.6f}')"
   ]
  },
  {
   "cell_type": "markdown",
   "id": "f39281c5-273b-4e52-b106-a1d183cef951",
   "metadata": {},
   "source": [
    "# Aplicação do PCA"
   ]
  },
  {
   "cell_type": "code",
   "execution_count": 9,
   "id": "ddce1bcd-cdc5-4a71-a2bc-bc00b0a709f1",
   "metadata": {},
   "outputs": [],
   "source": [
    "# Demonstração do quanto ele mantém a variância explicada mesmo excluindo (reduzindo) as features redundantes"
   ]
  },
  {
   "cell_type": "code",
   "execution_count": 10,
   "id": "682c7a9b-434d-4ae2-ba21-54e00c5af52e",
   "metadata": {},
   "outputs": [
    {
     "data": {
      "text/plain": [
       "(1000,)"
      ]
     },
     "execution_count": 10,
     "metadata": {},
     "output_type": "execute_result"
    }
   ],
   "source": [
    "pca = PCA()\n",
    "pca.fit(X_scaled)\n",
    "cumsum = np.cumsum(pca.explained_variance_ratio_)\n",
    "cumsum.shape"
   ]
  },
  {
   "cell_type": "code",
   "execution_count": 12,
   "id": "fac113b9-02b9-4519-8586-765d92d38d6e",
   "metadata": {},
   "outputs": [
    {
     "data": {
      "image/png": "[encoded data removed]",
      "text/plain": [
       "<Figure size 1000x400 with 1 Axes>"
      ]
     },
     "metadata": {},
     "output_type": "display_data"
    }
   ],
   "source": [
    "plt.figure(figsize=(10, 4))\n",
    "plt.plot(cumsum, linewidth=3)\n",
    "plt.xlabel('Dimensões')\n",
    "plt.ylabel('Variância explicada')\n",
    "plt.annotate('Sem features redundantes', xy=(500, 1.0), xytext=(600, 0.9),\n",
    "             arrowprops=dict(arrowstyle=\"->\"))\n",
    "plt.annotate('Elbow', xy=(100, 0.6), xytext=(200, 0.5),\n",
    "             arrowprops=dict(arrowstyle=\"->\"))\n",
    "plt.grid(True)\n",
    "plt.show()"
   ]
  },
  {
   "cell_type": "markdown",
   "id": "ee3ffd89-8beb-4d12-a5b2-56d39c210dae",
   "metadata": {},
   "source": [
    "- Reduzindo o número de features de 1000 para 500 ele conseguiu manter a variância em 100%, ou seja, conseguiu identificar as features redundantes que foram definidas na geração dos dados sintéticos (n_redundant=500), algo que pode gerar ganho de tempo durante o treinamento\n",
    "- É possível ver o \"Elbow\" aqui, demonstrando que com PCA foi possível encontrar as features informativas (n_informative=100) mantendo 60% da variância explicada."
   ]
  },
  {
   "cell_type": "code",
   "execution_count": 13,
   "id": "b372444d-15e0-47f9-8ad8-2299770044b1",
   "metadata": {},
   "outputs": [],
   "source": [
    "# Mantendo 90% da variância explicada\n",
    "\n",
    "pca = PCA(n_components=0.90)\n",
    "X_pca = pca.fit_transform(X_scaled)"
   ]
  },
  {
   "cell_type": "code",
   "execution_count": 14,
   "id": "d9c25e37-5435-41e0-bf67-f99d3b402e65",
   "metadata": {},
   "outputs": [
    {
     "data": {
      "text/html": [
       "<div>\n",
       "<style scoped>\n",
       "    .dataframe tbody tr th:only-of-type {\n",
       "        vertical-align: middle;\n",
       "    }\n",
       "\n",
       "    .dataframe tbody tr th {\n",
       "        vertical-align: top;\n",
       "    }\n",
       "\n",
       "    .dataframe thead th {\n",
       "        text-align: right;\n",
       "    }\n",
       "</style>\n",
       "<table border=\"1\" class=\"dataframe\">\n",
       "  <thead>\n",
       "    <tr style=\"text-align: right;\">\n",
       "      <th></th>\n",
       "      <th>0</th>\n",
       "      <th>1</th>\n",
       "      <th>2</th>\n",
       "      <th>3</th>\n",
       "      <th>4</th>\n",
       "      <th>5</th>\n",
       "      <th>6</th>\n",
       "      <th>7</th>\n",
       "      <th>8</th>\n",
       "      <th>9</th>\n",
       "      <th>...</th>\n",
       "      <th>382</th>\n",
       "      <th>383</th>\n",
       "      <th>384</th>\n",
       "      <th>385</th>\n",
       "      <th>386</th>\n",
       "      <th>387</th>\n",
       "      <th>388</th>\n",
       "      <th>389</th>\n",
       "      <th>390</th>\n",
       "      <th>391</th>\n",
       "    </tr>\n",
       "  </thead>\n",
       "  <tbody>\n",
       "    <tr>\n",
       "      <th>0</th>\n",
       "      <td>0.931385</td>\n",
       "      <td>-2.380404</td>\n",
       "      <td>-1.375431</td>\n",
       "      <td>-5.802241</td>\n",
       "      <td>-1.443523</td>\n",
       "      <td>4.202796</td>\n",
       "      <td>1.476736</td>\n",
       "      <td>-6.295115</td>\n",
       "      <td>-2.122331</td>\n",
       "      <td>-0.887740</td>\n",
       "      <td>...</td>\n",
       "      <td>-0.486316</td>\n",
       "      <td>-1.087161</td>\n",
       "      <td>-0.173207</td>\n",
       "      <td>-0.330443</td>\n",
       "      <td>-0.029599</td>\n",
       "      <td>0.544064</td>\n",
       "      <td>-0.087665</td>\n",
       "      <td>0.956567</td>\n",
       "      <td>-0.167575</td>\n",
       "      <td>-0.220521</td>\n",
       "    </tr>\n",
       "    <tr>\n",
       "      <th>1</th>\n",
       "      <td>-1.453647</td>\n",
       "      <td>-0.599497</td>\n",
       "      <td>0.361205</td>\n",
       "      <td>-3.191316</td>\n",
       "      <td>1.408303</td>\n",
       "      <td>-2.928017</td>\n",
       "      <td>2.648795</td>\n",
       "      <td>1.465632</td>\n",
       "      <td>2.502264</td>\n",
       "      <td>0.164072</td>\n",
       "      <td>...</td>\n",
       "      <td>-0.692386</td>\n",
       "      <td>-0.469768</td>\n",
       "      <td>0.173158</td>\n",
       "      <td>-0.398106</td>\n",
       "      <td>0.190016</td>\n",
       "      <td>1.512583</td>\n",
       "      <td>0.102505</td>\n",
       "      <td>-0.098347</td>\n",
       "      <td>1.927170</td>\n",
       "      <td>0.697151</td>\n",
       "    </tr>\n",
       "    <tr>\n",
       "      <th>2</th>\n",
       "      <td>6.946667</td>\n",
       "      <td>-2.988740</td>\n",
       "      <td>-1.420460</td>\n",
       "      <td>-0.935624</td>\n",
       "      <td>-0.078947</td>\n",
       "      <td>-7.830687</td>\n",
       "      <td>6.203763</td>\n",
       "      <td>3.038384</td>\n",
       "      <td>1.435253</td>\n",
       "      <td>-2.131364</td>\n",
       "      <td>...</td>\n",
       "      <td>0.728037</td>\n",
       "      <td>0.425793</td>\n",
       "      <td>1.098246</td>\n",
       "      <td>-1.817015</td>\n",
       "      <td>-0.552843</td>\n",
       "      <td>0.215791</td>\n",
       "      <td>-1.332759</td>\n",
       "      <td>-0.414968</td>\n",
       "      <td>0.920047</td>\n",
       "      <td>0.853983</td>\n",
       "    </tr>\n",
       "    <tr>\n",
       "      <th>3</th>\n",
       "      <td>1.378970</td>\n",
       "      <td>6.616379</td>\n",
       "      <td>-0.992028</td>\n",
       "      <td>-1.456509</td>\n",
       "      <td>1.959138</td>\n",
       "      <td>1.462130</td>\n",
       "      <td>2.756139</td>\n",
       "      <td>4.526384</td>\n",
       "      <td>-1.990868</td>\n",
       "      <td>-5.038780</td>\n",
       "      <td>...</td>\n",
       "      <td>-1.057322</td>\n",
       "      <td>-0.708731</td>\n",
       "      <td>1.111273</td>\n",
       "      <td>-0.507467</td>\n",
       "      <td>1.526157</td>\n",
       "      <td>-0.728507</td>\n",
       "      <td>0.341741</td>\n",
       "      <td>-1.179387</td>\n",
       "      <td>0.245966</td>\n",
       "      <td>1.020902</td>\n",
       "    </tr>\n",
       "    <tr>\n",
       "      <th>4</th>\n",
       "      <td>-0.148942</td>\n",
       "      <td>0.834860</td>\n",
       "      <td>1.887326</td>\n",
       "      <td>-6.910522</td>\n",
       "      <td>4.389401</td>\n",
       "      <td>7.529418</td>\n",
       "      <td>5.495932</td>\n",
       "      <td>-5.582340</td>\n",
       "      <td>-5.381992</td>\n",
       "      <td>0.947444</td>\n",
       "      <td>...</td>\n",
       "      <td>-0.780512</td>\n",
       "      <td>0.832461</td>\n",
       "      <td>0.877287</td>\n",
       "      <td>0.324070</td>\n",
       "      <td>0.313533</td>\n",
       "      <td>0.499659</td>\n",
       "      <td>-0.334356</td>\n",
       "      <td>1.047452</td>\n",
       "      <td>-1.156270</td>\n",
       "      <td>1.606943</td>\n",
       "    </tr>\n",
       "    <tr>\n",
       "      <th>...</th>\n",
       "      <td>...</td>\n",
       "      <td>...</td>\n",
       "      <td>...</td>\n",
       "      <td>...</td>\n",
       "      <td>...</td>\n",
       "      <td>...</td>\n",
       "      <td>...</td>\n",
       "      <td>...</td>\n",
       "      <td>...</td>\n",
       "      <td>...</td>\n",
       "      <td>...</td>\n",
       "      <td>...</td>\n",
       "      <td>...</td>\n",
       "      <td>...</td>\n",
       "      <td>...</td>\n",
       "      <td>...</td>\n",
       "      <td>...</td>\n",
       "      <td>...</td>\n",
       "      <td>...</td>\n",
       "      <td>...</td>\n",
       "      <td>...</td>\n",
       "    </tr>\n",
       "    <tr>\n",
       "      <th>99995</th>\n",
       "      <td>-5.226203</td>\n",
       "      <td>5.227384</td>\n",
       "      <td>-2.566844</td>\n",
       "      <td>-0.790530</td>\n",
       "      <td>-0.877226</td>\n",
       "      <td>-0.003676</td>\n",
       "      <td>3.655220</td>\n",
       "      <td>2.689537</td>\n",
       "      <td>-0.488028</td>\n",
       "      <td>1.276884</td>\n",
       "      <td>...</td>\n",
       "      <td>0.532060</td>\n",
       "      <td>1.695618</td>\n",
       "      <td>0.113696</td>\n",
       "      <td>1.080466</td>\n",
       "      <td>-0.292471</td>\n",
       "      <td>0.103096</td>\n",
       "      <td>-0.112110</td>\n",
       "      <td>0.108839</td>\n",
       "      <td>0.790635</td>\n",
       "      <td>1.161457</td>\n",
       "    </tr>\n",
       "    <tr>\n",
       "      <th>99996</th>\n",
       "      <td>3.761514</td>\n",
       "      <td>0.875329</td>\n",
       "      <td>-2.420477</td>\n",
       "      <td>-2.694780</td>\n",
       "      <td>4.999496</td>\n",
       "      <td>6.096044</td>\n",
       "      <td>4.368021</td>\n",
       "      <td>-6.970559</td>\n",
       "      <td>-3.681747</td>\n",
       "      <td>0.559660</td>\n",
       "      <td>...</td>\n",
       "      <td>-0.558414</td>\n",
       "      <td>-0.405578</td>\n",
       "      <td>-0.435294</td>\n",
       "      <td>-0.115936</td>\n",
       "      <td>1.090345</td>\n",
       "      <td>0.862981</td>\n",
       "      <td>-0.267758</td>\n",
       "      <td>2.575193</td>\n",
       "      <td>-0.402324</td>\n",
       "      <td>1.254896</td>\n",
       "    </tr>\n",
       "    <tr>\n",
       "      <th>99997</th>\n",
       "      <td>2.102642</td>\n",
       "      <td>-2.220305</td>\n",
       "      <td>3.632551</td>\n",
       "      <td>0.749395</td>\n",
       "      <td>2.145459</td>\n",
       "      <td>1.699885</td>\n",
       "      <td>0.859715</td>\n",
       "      <td>-4.390886</td>\n",
       "      <td>-1.822159</td>\n",
       "      <td>6.129049</td>\n",
       "      <td>...</td>\n",
       "      <td>-0.551562</td>\n",
       "      <td>-1.015126</td>\n",
       "      <td>-0.539764</td>\n",
       "      <td>0.255765</td>\n",
       "      <td>-1.408172</td>\n",
       "      <td>-0.077402</td>\n",
       "      <td>0.194819</td>\n",
       "      <td>-0.158646</td>\n",
       "      <td>-0.004868</td>\n",
       "      <td>1.198066</td>\n",
       "    </tr>\n",
       "    <tr>\n",
       "      <th>99998</th>\n",
       "      <td>-1.028855</td>\n",
       "      <td>-1.439939</td>\n",
       "      <td>-1.924812</td>\n",
       "      <td>5.526125</td>\n",
       "      <td>-0.424225</td>\n",
       "      <td>3.342647</td>\n",
       "      <td>8.060925</td>\n",
       "      <td>-5.676156</td>\n",
       "      <td>-3.139092</td>\n",
       "      <td>2.054630</td>\n",
       "      <td>...</td>\n",
       "      <td>1.053230</td>\n",
       "      <td>-0.152570</td>\n",
       "      <td>0.875809</td>\n",
       "      <td>-0.636429</td>\n",
       "      <td>0.928412</td>\n",
       "      <td>0.078544</td>\n",
       "      <td>-0.593472</td>\n",
       "      <td>-0.889521</td>\n",
       "      <td>1.066421</td>\n",
       "      <td>-1.166823</td>\n",
       "    </tr>\n",
       "    <tr>\n",
       "      <th>99999</th>\n",
       "      <td>0.196455</td>\n",
       "      <td>-4.851214</td>\n",
       "      <td>-2.874127</td>\n",
       "      <td>2.330155</td>\n",
       "      <td>-2.196157</td>\n",
       "      <td>-1.838766</td>\n",
       "      <td>2.535988</td>\n",
       "      <td>2.510101</td>\n",
       "      <td>6.433442</td>\n",
       "      <td>-6.826219</td>\n",
       "      <td>...</td>\n",
       "      <td>1.623095</td>\n",
       "      <td>-0.435394</td>\n",
       "      <td>-0.378976</td>\n",
       "      <td>1.263756</td>\n",
       "      <td>-1.074623</td>\n",
       "      <td>-0.109813</td>\n",
       "      <td>-1.253846</td>\n",
       "      <td>-0.599956</td>\n",
       "      <td>-1.032372</td>\n",
       "      <td>-0.035894</td>\n",
       "    </tr>\n",
       "  </tbody>\n",
       "</table>\n",
       "<p>100000 rows × 392 columns</p>\n",
       "</div>"
      ],
      "text/plain": [
       "            0         1         2         3         4         5         6    \\\n",
       "0      0.931385 -2.380404 -1.375431 -5.802241 -1.443523  4.202796  1.476736   \n",
       "1     -1.453647 -0.599497  0.361205 -3.191316  1.408303 -2.928017  2.648795   \n",
       "2      6.946667 -2.988740 -1.420460 -0.935624 -0.078947 -7.830687  6.203763   \n",
       "3      1.378970  6.616379 -0.992028 -1.456509  1.959138  1.462130  2.756139   \n",
       "4     -0.148942  0.834860  1.887326 -6.910522  4.389401  7.529418  5.495932   \n",
       "...         ...       ...       ...       ...       ...       ...       ...   \n",
       "99995 -5.226203  5.227384 -2.566844 -0.790530 -0.877226 -0.003676  3.655220   \n",
       "99996  3.761514  0.875329 -2.420477 -2.694780  4.999496  6.096044  4.368021   \n",
       "99997  2.102642 -2.220305  3.632551  0.749395  2.145459  1.699885  0.859715   \n",
       "99998 -1.028855 -1.439939 -1.924812  5.526125 -0.424225  3.342647  8.060925   \n",
       "99999  0.196455 -4.851214 -2.874127  2.330155 -2.196157 -1.838766  2.535988   \n",
       "\n",
       "            7         8         9    ...       382       383       384  \\\n",
       "0     -6.295115 -2.122331 -0.887740  ... -0.486316 -1.087161 -0.173207   \n",
       "1      1.465632  2.502264  0.164072  ... -0.692386 -0.469768  0.173158   \n",
       "2      3.038384  1.435253 -2.131364  ...  0.728037  0.425793  1.098246   \n",
       "3      4.526384 -1.990868 -5.038780  ... -1.057322 -0.708731  1.111273   \n",
       "4     -5.582340 -5.381992  0.947444  ... -0.780512  0.832461  0.877287   \n",
       "...         ...       ...       ...  ...       ...       ...       ...   \n",
       "99995  2.689537 -0.488028  1.276884  ...  0.532060  1.695618  0.113696   \n",
       "99996 -6.970559 -3.681747  0.559660  ... -0.558414 -0.405578 -0.435294   \n",
       "99997 -4.390886 -1.822159  6.129049  ... -0.551562 -1.015126 -0.539764   \n",
       "99998 -5.676156 -3.139092  2.054630  ...  1.053230 -0.152570  0.875809   \n",
       "99999  2.510101  6.433442 -6.826219  ...  1.623095 -0.435394 -0.378976   \n",
       "\n",
       "            385       386       387       388       389       390       391  \n",
       "0     -0.330443 -0.029599  0.544064 -0.087665  0.956567 -0.167575 -0.220521  \n",
       "1     -0.398106  0.190016  1.512583  0.102505 -0.098347  1.927170  0.697151  \n",
       "2     -1.817015 -0.552843  0.215791 -1.332759 -0.414968  0.920047  0.853983  \n",
       "3     -0.507467  1.526157 -0.728507  0.341741 -1.179387  0.245966  1.020902  \n",
       "4      0.324070  0.313533  0.499659 -0.334356  1.047452 -1.156270  1.606943  \n",
       "...         ...       ...       ...       ...       ...       ...       ...  \n",
       "99995  1.080466 -0.292471  0.103096 -0.112110  0.108839  0.790635  1.161457  \n",
       "99996 -0.115936  1.090345  0.862981 -0.267758  2.575193 -0.402324  1.254896  \n",
       "99997  0.255765 -1.408172 -0.077402  0.194819 -0.158646 -0.004868  1.198066  \n",
       "99998 -0.636429  0.928412  0.078544 -0.593472 -0.889521  1.066421 -1.166823  \n",
       "99999  1.263756 -1.074623 -0.109813 -1.253846 -0.599956 -1.032372 -0.035894  \n",
       "\n",
       "[100000 rows x 392 columns]"
      ]
     },
     "execution_count": 14,
     "metadata": {},
     "output_type": "execute_result"
    }
   ],
   "source": [
    "# PCA aplicado\n",
    "\n",
    "pd.DataFrame(X_pca)"
   ]
  },
  {
   "cell_type": "markdown",
   "id": "65becaa8-80d9-4596-a991-d90cb6982be6",
   "metadata": {},
   "source": [
    "# Treinamento de uma regressão logística com e sem PCA"
   ]
  },
  {
   "cell_type": "markdown",
   "id": "14fd56b3-0dfe-40d9-be93-4a7d8d8950d1",
   "metadata": {},
   "source": [
    "## Sem PCA"
   ]
  },
  {
   "cell_type": "code",
   "execution_count": 15,
   "id": "dd64758f-bd85-4204-a648-cb42c02304aa",
   "metadata": {},
   "outputs": [],
   "source": [
    "# Instanciando o modelo\n",
    "\n",
    "lr = LogisticRegression(max_iter=1000)"
   ]
  },
  {
   "cell_type": "code",
   "execution_count": 16,
   "id": "061f07ae-80e1-4f36-b7bb-72ed300830f0",
   "metadata": {},
   "outputs": [],
   "source": [
    "# Split dos dados\n",
    "\n",
    "X_train, X_test, y_train, y_test = train_test_split(X, y, test_size=0.2, random_state=42, stratify=y)"
   ]
  },
  {
   "cell_type": "code",
   "execution_count": 17,
   "id": "b72e317e-8822-44f4-a14f-66b97cd91a24",
   "metadata": {},
   "outputs": [
    {
     "name": "stdout",
     "output_type": "stream",
     "text": [
      "Modelo treinado em 13.83 segundos\n"
     ]
    }
   ],
   "source": [
    "# Treinamento\n",
    "\n",
    "start_time = time.time() # Tempo de treinamento (Início)\n",
    "\n",
    "lr.fit(X_train, y_train)\n",
    "\n",
    "end_time = time.time() # Tempo de treinamento (Fim)\n",
    "\n",
    "training_time = time.time() - start_time\n",
    "print(f'Modelo treinado em {training_time:.2f} segundos')"
   ]
  },
  {
   "cell_type": "code",
   "execution_count": 18,
   "id": "85b1124d-6e42-41d5-a690-c7276747a410",
   "metadata": {},
   "outputs": [
    {
     "name": "stdout",
     "output_type": "stream",
     "text": [
      "              precision    recall  f1-score   support\n",
      "\n",
      "           0       0.83      0.84      0.83     10007\n",
      "           1       0.83      0.82      0.83      9993\n",
      "\n",
      "    accuracy                           0.83     20000\n",
      "   macro avg       0.83      0.83      0.83     20000\n",
      "weighted avg       0.83      0.83      0.83     20000\n",
      "\n",
      "AUC: 0.91\n"
     ]
    }
   ],
   "source": [
    "# Predição\n",
    "\n",
    "y_pred = lr.predict(X_test)\n",
    "y_pred_proba = lr.predict_proba(X_test)[:, 1]\n",
    "print(classification_report(y_test, y_pred))\n",
    "print(f'AUC: {roc_auc_score(y_test, y_pred_proba):.2f}')"
   ]
  },
  {
   "cell_type": "markdown",
   "id": "06a1067a-5463-4cb0-abd9-63d6acd846d1",
   "metadata": {},
   "source": [
    "## Com PCA"
   ]
  },
  {
   "cell_type": "code",
   "execution_count": 19,
   "id": "06986cca-bd26-4427-bbb5-0cd049646a34",
   "metadata": {},
   "outputs": [],
   "source": [
    "lr = LogisticRegression()"
   ]
  },
  {
   "cell_type": "code",
   "execution_count": 20,
   "id": "9eb13514-4a16-4586-8bec-68037e52ebae",
   "metadata": {},
   "outputs": [],
   "source": [
    "X_train, X_test, y_train, y_test = train_test_split(X_pca, y, test_size=0.2, random_state=42, stratify=y)"
   ]
  },
  {
   "cell_type": "code",
   "execution_count": 21,
   "id": "13959b55-3ee9-48f5-a295-855cc4005e1f",
   "metadata": {},
   "outputs": [
    {
     "name": "stdout",
     "output_type": "stream",
     "text": [
      "Modelo treinado em 0.66 segundos\n"
     ]
    }
   ],
   "source": [
    "# Treinamento\n",
    "\n",
    "start_time = time.time() # Tempo de treinamento (Início)\n",
    "\n",
    "lr.fit(X_train, y_train)\n",
    "\n",
    "end_time = time.time() # Tempo de treinamento (Fim)\n",
    "\n",
    "training_time = time.time() - start_time\n",
    "print(f'Modelo treinado em {training_time:.2f} segundos')"
   ]
  },
  {
   "cell_type": "code",
   "execution_count": 22,
   "id": "1de86370-1d2b-4e6e-9e52-c8b1b53218be",
   "metadata": {},
   "outputs": [
    {
     "name": "stdout",
     "output_type": "stream",
     "text": [
      "              precision    recall  f1-score   support\n",
      "\n",
      "           0       0.83      0.84      0.83     10007\n",
      "           1       0.83      0.82      0.83      9993\n",
      "\n",
      "    accuracy                           0.83     20000\n",
      "   macro avg       0.83      0.83      0.83     20000\n",
      "weighted avg       0.83      0.83      0.83     20000\n",
      "\n",
      "AUC: 0.91\n"
     ]
    }
   ],
   "source": [
    "# Predição\n",
    "\n",
    "y_pred = lr.predict(X_test)\n",
    "y_pred_proba = lr.predict_proba(X_test)[:, 1]\n",
    "print(classification_report(y_test, y_pred))\n",
    "print(f'AUC: {roc_auc_score(y_test, y_pred_proba):.2f}')"
   ]
  },
  {
   "cell_type": "markdown",
   "id": "22bc5130-621a-424d-ac65-c305f24224a6",
   "metadata": {},
   "source": [
    "# Conclusões"
   ]
  },
  {
   "cell_type": "markdown",
   "id": "4f8dd21d-25c4-4d42-9abc-65a81281d89b",
   "metadata": {},
   "source": [
    "- A regressão logística sem o PCA no pré-processamento precisou ter o max_iter alterado para 1000 para conseguir convergir, com o PCA isso não foi necessário;\n",
    "  \n",
    "- A aplicação do PCA manteve as métricas inalteradas neste caso, preservando a performance do modelo em relação ao conjunto original (sem PCA). Embora, em geral, possa haver uma leve queda de desempenho, há ganho de tempo de treinamento\n",
    "  \n",
    "- Redução do tempo de treinamento: 95% menor (aproximadamente 21 vezes mais rápido) com o PCA"
   ]
  }
 ],
 "metadata": {
  "kernelspec": {
   "display_name": "Python 3 (ipykernel)",
   "language": "python",
   "name": "python3"
  },
  "language_info": {
   "codemirror_mode": {
    "name": "ipython",
    "version": 3
   },
   "file_extension": ".py",
   "mimetype": "text/x-python",
   "name": "python",
   "nbconvert_exporter": "python",
   "pygments_lexer": "ipython3",
   "version": "3.12.3"
  }
 },
 "nbformat": 4,
 "nbformat_minor": 5
}
