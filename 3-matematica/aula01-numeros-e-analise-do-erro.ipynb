{
 "cells": [
  {
   "cell_type": "markdown",
   "id": "747175f2-6c48-41e3-ba99-81a8eeb48b67",
   "metadata": {},
   "source": [
    "# Representação dos números no computador"
   ]
  },
  {
   "cell_type": "markdown",
   "id": "63b3c256-5957-4ff0-8565-cbc782eddd11",
   "metadata": {},
   "source": [
    "Prof. Adenilton J da Silva"
   ]
  },
  {
   "cell_type": "markdown",
   "id": "8ca53a79-e452-4138-9648-848aa716649b",
   "metadata": {},
   "source": [
    "### Representações numéricas"
   ]
  },
  {
   "cell_type": "markdown",
   "id": "c40526a3-68c9-4a75-a352-83d72b3b2980",
   "metadata": {},
   "source": [
    "* Inteiros: int\n",
    "* Pontos flutuantes: float\n",
    "* Complexos: complex"
   ]
  },
  {
   "cell_type": "code",
   "execution_count": 1,
   "id": "e5bc352f-3806-4b06-8d63-cde68ef72bc6",
   "metadata": {},
   "outputs": [],
   "source": [
    "a = 1"
   ]
  },
  {
   "cell_type": "code",
   "execution_count": 2,
   "id": "0b96da73-cee9-4055-9b1e-3ae064da1d8f",
   "metadata": {},
   "outputs": [
    {
     "data": {
      "text/plain": [
       "int"
      ]
     },
     "execution_count": 2,
     "metadata": {},
     "output_type": "execute_result"
    }
   ],
   "source": [
    "type(a)"
   ]
  },
  {
   "cell_type": "code",
   "execution_count": 3,
   "id": "af786138-e80b-4a2d-b5e6-b8dfd9890d29",
   "metadata": {},
   "outputs": [],
   "source": [
    "b = 2.0"
   ]
  },
  {
   "cell_type": "code",
   "execution_count": 4,
   "id": "fbe683a0-89a7-4298-b476-868b501b9516",
   "metadata": {},
   "outputs": [
    {
     "data": {
      "text/plain": [
       "float"
      ]
     },
     "execution_count": 4,
     "metadata": {},
     "output_type": "execute_result"
    }
   ],
   "source": [
    "type(b)"
   ]
  },
  {
   "cell_type": "code",
   "execution_count": 5,
   "id": "4f9d075b-de84-4018-bd93-e974256190a9",
   "metadata": {},
   "outputs": [],
   "source": [
    "c = 1+1j"
   ]
  },
  {
   "cell_type": "code",
   "execution_count": 6,
   "id": "6718d4bc-46a0-4178-bad5-78b949e216b0",
   "metadata": {},
   "outputs": [
    {
     "data": {
      "text/plain": [
       "complex"
      ]
     },
     "execution_count": 6,
     "metadata": {},
     "output_type": "execute_result"
    }
   ],
   "source": [
    "type(c)"
   ]
  },
  {
   "cell_type": "markdown",
   "id": "c1b974ee-85bc-44ee-8b67-f21294cea4f9",
   "metadata": {},
   "source": [
    "### Float e os erros numéricos"
   ]
  },
  {
   "cell_type": "markdown",
   "id": "205b5772-f042-4ca8-a8f8-82bba4bd8f0e",
   "metadata": {},
   "source": [
    "Máximo de memória armazenada: 64 bits"
   ]
  },
  {
   "cell_type": "code",
   "execution_count": 7,
   "id": "cd1c2c1c-996c-4f2f-add3-4c1663b34a11",
   "metadata": {},
   "outputs": [
    {
     "name": "stdout",
     "output_type": "stream",
     "text": [
      "0.1\n"
     ]
    }
   ],
   "source": [
    "a = 0.1\n",
    "print(a)"
   ]
  },
  {
   "cell_type": "code",
   "execution_count": 8,
   "id": "3809f205-dcd0-4775-a1b3-29ae98bd55a3",
   "metadata": {},
   "outputs": [
    {
     "name": "stdout",
     "output_type": "stream",
     "text": [
      "0.1000000000000000055511151231257827021181583404541015625000000000000000\n"
     ]
    }
   ],
   "source": [
    "print('{:.70f}'.format(a))"
   ]
  },
  {
   "cell_type": "markdown",
   "id": "18bddea2-ba22-46db-84fa-985af3aa70c4",
   "metadata": {},
   "source": [
    "O que são esses números destacados? →\n",
    "**<span>\n",
    "  0.10000000000000000<span style=\"color: red;\">55511151231257827021181583404541015625</span>0000000000000000000000\n",
    "</span>**"
   ]
  },
  {
   "cell_type": "code",
   "execution_count": 9,
   "id": "481db8a3-96e6-446d-8631-71f48d46cb4a",
   "metadata": {},
   "outputs": [
    {
     "data": {
      "text/plain": [
       "True"
      ]
     },
     "execution_count": 9,
     "metadata": {},
     "output_type": "execute_result"
    }
   ],
   "source": [
    "10 * a == 1.0"
   ]
  },
  {
   "cell_type": "code",
   "execution_count": 10,
   "id": "7b476f2a-94a9-416b-8353-724bbab3b7f8",
   "metadata": {},
   "outputs": [],
   "source": [
    "b = a\n",
    "b = b + a\n",
    "b = b + a\n",
    "b = b + a\n",
    "b = b + a\n",
    "b = b + a\n",
    "b = b + a\n",
    "b = b + a\n",
    "b = b + a\n",
    "b = b + a"
   ]
  },
  {
   "cell_type": "code",
   "execution_count": 11,
   "id": "970995e6-6232-4d26-bff1-310b9278cbab",
   "metadata": {},
   "outputs": [
    {
     "data": {
      "text/plain": [
       "False"
      ]
     },
     "execution_count": 11,
     "metadata": {},
     "output_type": "execute_result"
    }
   ],
   "source": [
    "b == 1.0"
   ]
  },
  {
   "cell_type": "code",
   "execution_count": 12,
   "id": "a17a5a90-92f5-4311-a778-60847d08188f",
   "metadata": {},
   "outputs": [
    {
     "name": "stdout",
     "output_type": "stream",
     "text": [
      "0.9999999999999999\n"
     ]
    }
   ],
   "source": [
    "print(b)"
   ]
  },
  {
   "cell_type": "code",
   "execution_count": 13,
   "id": "fa9bc48c-340c-4824-a946-f23088fa7bfc",
   "metadata": {},
   "outputs": [],
   "source": [
    "import numpy as np"
   ]
  },
  {
   "cell_type": "code",
   "execution_count": 14,
   "id": "ca186f5d-2986-402f-84c6-f3a1709bbc84",
   "metadata": {},
   "outputs": [
    {
     "data": {
      "text/plain": [
       "True"
      ]
     },
     "execution_count": 14,
     "metadata": {},
     "output_type": "execute_result"
    }
   ],
   "source": [
    "# Verificando com o isclose para obter mais precisão\n",
    "\n",
    "np.isclose(b,1.0)"
   ]
  },
  {
   "cell_type": "code",
   "execution_count": 15,
   "id": "2900e08c-c18d-4ff8-bdf8-72a98aa279a7",
   "metadata": {},
   "outputs": [
    {
     "name": "stdout",
     "output_type": "stream",
     "text": [
      "Help on _ArrayFunctionDispatcher in module numpy:\n",
      "\n",
      "isclose(a, b, rtol=1e-05, atol=1e-08, equal_nan=False)\n",
      "    Returns a boolean array where two arrays are element-wise equal within a\n",
      "    tolerance.\n",
      "\n",
      "    The tolerance values are positive, typically very small numbers.  The\n",
      "    relative difference (`rtol` * abs(`b`)) and the absolute difference\n",
      "    `atol` are added together to compare against the absolute difference\n",
      "    between `a` and `b`.\n",
      "\n",
      "    .. warning:: The default `atol` is not appropriate for comparing numbers\n",
      "                 that are much smaller than one (see Notes).\n",
      "\n",
      "    Parameters\n",
      "    ----------\n",
      "    a, b : array_like\n",
      "        Input arrays to compare.\n",
      "    rtol : float\n",
      "        The relative tolerance parameter (see Notes).\n",
      "    atol : float\n",
      "        The absolute tolerance parameter (see Notes).\n",
      "    equal_nan : bool\n",
      "        Whether to compare NaN's as equal.  If True, NaN's in `a` will be\n",
      "        considered equal to NaN's in `b` in the output array.\n",
      "\n",
      "    Returns\n",
      "    -------\n",
      "    y : array_like\n",
      "        Returns a boolean array of where `a` and `b` are equal within the\n",
      "        given tolerance. If both `a` and `b` are scalars, returns a single\n",
      "        boolean value.\n",
      "\n",
      "    See Also\n",
      "    --------\n",
      "    allclose\n",
      "    math.isclose\n",
      "\n",
      "    Notes\n",
      "    -----\n",
      "    .. versionadded:: 1.7.0\n",
      "\n",
      "    For finite values, isclose uses the following equation to test whether\n",
      "    two floating point values are equivalent.\n",
      "\n",
      "     absolute(`a` - `b`) <= (`atol` + `rtol` * absolute(`b`))\n",
      "\n",
      "    Unlike the built-in `math.isclose`, the above equation is not symmetric\n",
      "    in `a` and `b` -- it assumes `b` is the reference value -- so that\n",
      "    `isclose(a, b)` might be different from `isclose(b, a)`. Furthermore,\n",
      "    the default value of atol is not zero, and is used to determine what\n",
      "    small values should be considered close to zero. The default value is\n",
      "    appropriate for expected values of order unity: if the expected values\n",
      "    are significantly smaller than one, it can result in false positives.\n",
      "    `atol` should be carefully selected for the use case at hand. A zero value\n",
      "    for `atol` will result in `False` if either `a` or `b` is zero.\n",
      "\n",
      "    `isclose` is not defined for non-numeric data types.\n",
      "    `bool` is considered a numeric data-type for this purpose.\n",
      "\n",
      "    Examples\n",
      "    --------\n",
      "    >>> np.isclose([1e10,1e-7], [1.00001e10,1e-8])\n",
      "    array([ True, False])\n",
      "    >>> np.isclose([1e10,1e-8], [1.00001e10,1e-9])\n",
      "    array([ True, True])\n",
      "    >>> np.isclose([1e10,1e-8], [1.0001e10,1e-9])\n",
      "    array([False,  True])\n",
      "    >>> np.isclose([1.0, np.nan], [1.0, np.nan])\n",
      "    array([ True, False])\n",
      "    >>> np.isclose([1.0, np.nan], [1.0, np.nan], equal_nan=True)\n",
      "    array([ True, True])\n",
      "    >>> np.isclose([1e-8, 1e-7], [0.0, 0.0])\n",
      "    array([ True, False])\n",
      "    >>> np.isclose([1e-100, 1e-7], [0.0, 0.0], atol=0.0)\n",
      "    array([False, False])\n",
      "    >>> np.isclose([1e-10, 1e-10], [1e-20, 0.0])\n",
      "    array([ True,  True])\n",
      "    >>> np.isclose([1e-10, 1e-10], [1e-20, 0.999999e-10], atol=0.0)\n",
      "    array([False,  True])\n",
      "\n"
     ]
    }
   ],
   "source": [
    "# Entendendo a função\n",
    "\n",
    "help(np.isclose)"
   ]
  },
  {
   "cell_type": "markdown",
   "id": "4647dfc3-eff3-480a-a601-6dda2de83336",
   "metadata": {},
   "source": [
    "Há limites na representação dos pontos flutuantes."
   ]
  },
  {
   "cell_type": "code",
   "execution_count": 16,
   "id": "ed7ed52b-d9fa-4120-a6c1-aca2964b593a",
   "metadata": {},
   "outputs": [],
   "source": [
    "a = 2.45 * 10**3"
   ]
  },
  {
   "cell_type": "code",
   "execution_count": 17,
   "id": "126adaa6-df79-4bf8-a687-9be27aa3da22",
   "metadata": {},
   "outputs": [],
   "source": [
    "b = 2.45e3"
   ]
  },
  {
   "cell_type": "code",
   "execution_count": 18,
   "id": "80869efd-d59f-4bf1-ba2a-4f64891706d6",
   "metadata": {},
   "outputs": [
    {
     "data": {
      "text/plain": [
       "True"
      ]
     },
     "execution_count": 18,
     "metadata": {},
     "output_type": "execute_result"
    }
   ],
   "source": [
    "a == b"
   ]
  },
  {
   "cell_type": "code",
   "execution_count": 19,
   "id": "67f0ee3e-d963-47b5-a7ec-c351e7eb13c1",
   "metadata": {},
   "outputs": [
    {
     "data": {
      "text/plain": [
       "True"
      ]
     },
     "execution_count": 19,
     "metadata": {},
     "output_type": "execute_result"
    }
   ],
   "source": [
    "np.isclose(a, b)"
   ]
  },
  {
   "cell_type": "markdown",
   "id": "7703f5b8-8424-4b88-8497-45ab558f13b9",
   "metadata": {},
   "source": [
    "## Entendendo os pontos flutuantes no python"
   ]
  },
  {
   "cell_type": "code",
   "execution_count": 20,
   "id": "fa7b8786-2cae-4bb1-ba84-97fbbb9209a0",
   "metadata": {},
   "outputs": [
    {
     "data": {
      "text/plain": [
       "sys.float_info(max=1.7976931348623157e+308, max_exp=1024, max_10_exp=308, min=2.2250738585072014e-308, min_exp=-1021, min_10_exp=-307, dig=15, mant_dig=53, epsilon=2.220446049250313e-16, radix=2, rounds=1)"
      ]
     },
     "execution_count": 20,
     "metadata": {},
     "output_type": "execute_result"
    }
   ],
   "source": [
    "import sys\n",
    "sys.float_info"
   ]
  },
  {
   "cell_type": "markdown",
   "id": "95c54962-8ecb-4710-b147-1230276f386c",
   "metadata": {},
   "source": [
    "| Campo        | O que significa                                    | Explicação prática                                                                      |\n",
    "| ------------ | -------------------------------------------------- | --------------------------------------------------------------------------------------- |\n",
    "| `max`        | Maior float representável                          | \\~ 1.8 × 10³⁰⁸ → número gigantesco que você pode representar                            |\n",
    "| `max_exp`    | Maior expoente em base 2                           | 1024 → o expoente máximo no formato binário                                             |\n",
    "| `max_10_exp` | Maior expoente em base 10                          | 308 → corresponde a `10³⁰⁸`                                                             |\n",
    "| `min`        | Menor float positivo normalizado                   | \\~ 2.22 × 10⁻³⁰⁸ → menor número positivo que o float consegue representar \"normalmente\" |\n",
    "| `min_exp`    | Menor expoente em base 2                           | -1021                                                                                   |\n",
    "| `min_10_exp` | Menor expoente em base 10                          | -307                                                                                    |\n",
    "| `dig`        | Dígitos decimais de precisão (\\~15)                | O float consegue representar até \\~15 dígitos decimais confiáveis                       |\n",
    "| `mant_dig`   | Dígitos da mantissa em bits                        | 53 bits → a parte fracionária (mantissa) tem 53 bits → isso determina a precisão        |\n",
    "| `epsilon`    | Diferença mínima entre 1.0 e o próximo float maior | \\~ 2.22 × 10⁻¹⁶ → define a **precisão máxima que você pode esperar**                    |\n",
    "| `radix`      | Base do sistema numérico                           | 2 → binário (o computador trabalha em base 2)                                           |\n",
    "| `rounds`     | Tipo de arredondamento                             | 1 → arredondamento para o mais próximo (modo padrão IEEE 754)                           |\n"
   ]
  },
  {
   "cell_type": "code",
   "execution_count": 21,
   "id": "26e77912-9c3e-4450-8637-fe05d8658ee5",
   "metadata": {},
   "outputs": [
    {
     "ename": "OverflowError",
     "evalue": "(34, 'Numerical result out of range')",
     "output_type": "error",
     "traceback": [
      "\u001b[0;31m---------------------------------------------------------------------------\u001b[0m",
      "\u001b[0;31mOverflowError\u001b[0m                             Traceback (most recent call last)",
      "Cell \u001b[0;32mIn[21], line 3\u001b[0m\n\u001b[1;32m      1\u001b[0m \u001b[38;5;66;03m# Testando os limites\u001b[39;00m\n\u001b[0;32m----> 3\u001b[0m \u001b[38;5;241m2.\u001b[39m \u001b[38;5;241m*\u001b[39m \u001b[38;5;241;43m10.\u001b[39;49m\u001b[43m \u001b[49m\u001b[38;5;241;43m*\u001b[39;49m\u001b[38;5;241;43m*\u001b[39;49m\u001b[43m \u001b[49m\u001b[38;5;241;43m340.\u001b[39;49m\n",
      "\u001b[0;31mOverflowError\u001b[0m: (34, 'Numerical result out of range')"
     ]
    }
   ],
   "source": [
    "# Testando os limites\n",
    "\n",
    "2. * 10. ** 340."
   ]
  },
  {
   "cell_type": "markdown",
   "id": "004d9dc7-190e-4dde-8905-a7356e4bfe74",
   "metadata": {},
   "source": [
    "`OverflowError`: erro que ocorre quando o valor de um número excede o limite máximo que pode ser representado no tipo de dado utilizado (indicado em `max`)."
   ]
  },
  {
   "cell_type": "code",
   "execution_count": 22,
   "id": "fca5f8b4-84a6-49f3-a8dd-98020be3a93d",
   "metadata": {},
   "outputs": [
    {
     "data": {
      "text/plain": [
       "0.0"
      ]
     },
     "execution_count": 22,
     "metadata": {},
     "output_type": "execute_result"
    }
   ],
   "source": [
    "# Testando mais limites\n",
    "\n",
    "1.0 * 10 ** -400"
   ]
  },
  {
   "cell_type": "code",
   "execution_count": 23,
   "id": "e96aff12-91f8-40ad-b0f0-109dd9506e6c",
   "metadata": {},
   "outputs": [
    {
     "data": {
      "text/plain": [
       "True"
      ]
     },
     "execution_count": 23,
     "metadata": {},
     "output_type": "execute_result"
    }
   ],
   "source": [
    "1.0 * 10 ** -400 == 0.0"
   ]
  },
  {
   "cell_type": "markdown",
   "id": "96dce392-c64c-4d72-bf9f-bbd585742ddc",
   "metadata": {},
   "source": [
    "O que está ocorrendo acima é um outro erro chamado `underflow`.\n",
    "\n",
    "`Underflow`: erro que ocorre quando um número positivo muito pequeno se aproxima de zero, ficando menor do que o menor valor positivo que o tipo de dado consegue representar (representado em `min`).\n",
    "\n",
    "* Em operações com números de ponto flutuante muito pequenos, o padrão IEEE 754 permite que números menores que min sejam representados como números denormalizados (também chamados subnormais) → números muito pequenos, com menos precisão, ou, se o número for ainda menor: o valor é convertido para zero.\n",
    "\n",
    "* 10 ** -400 é 10 elevado a -400, ou seja, um número extremamente pequeno: 1e-400.\n",
    "\n",
    "* O menor número positivo que o float do Python (IEEE 754 double-precision) consegue representar de forma normalizada é ~2.22e-308 (como vimos em sys.float_info.min).\n",
    "\n",
    "* Qualquer número menor que isso não cabe mais como número normalizado.\n",
    "\n",
    "* No entanto, o python não acusou o erro e converteu para 0."
   ]
  },
  {
   "cell_type": "code",
   "execution_count": 24,
   "id": "0b09f4c3-0814-482b-8e8e-99b1c4a4ff6f",
   "metadata": {},
   "outputs": [
    {
     "data": {
      "text/plain": [
       "1e-308"
      ]
     },
     "execution_count": 24,
     "metadata": {},
     "output_type": "execute_result"
    }
   ],
   "source": [
    "# Testando mais limites - Expoente mínimo\n",
    "\n",
    "1.0 * 10 ** -308"
   ]
  },
  {
   "cell_type": "code",
   "execution_count": 25,
   "id": "69884f1c-6bed-4cab-9b7f-f32b7fdf1995",
   "metadata": {},
   "outputs": [],
   "source": [
    "# Testando mais limites - Representação dos dígitos decimais de precisão\n",
    "\n",
    "a = 0.12345678901234567890123"
   ]
  },
  {
   "cell_type": "code",
   "execution_count": 26,
   "id": "29d52cb5-a601-4bec-90c8-8d2812da46c6",
   "metadata": {},
   "outputs": [
    {
     "name": "stdout",
     "output_type": "stream",
     "text": [
      "0.1234567890123456773698862320998159702867269515991210937500000000000000\n"
     ]
    }
   ],
   "source": [
    "print('{:.70f}'.format(a))"
   ]
  },
  {
   "cell_type": "markdown",
   "id": "b1329e7e-cf3c-48e3-902c-7f76d9456a16",
   "metadata": {},
   "source": [
    "Perda de precisão (garantia de aproximadamente os 15 primeiros dígitos): indicado em `dig`↴ \n",
    "\n",
    "**<span>\n",
    "  0.12345678901234567<span style=\"color: red;\">7369886232099815970286726951599121093750000000000000000000000000000\n",
    "</span>**\n",
    "\n",
    "* Após isso, aparecem erros de aproximação inevitáveis, porque não há bits suficientes na mantissa para representar o número com mais precisão.\n",
    "\n",
    "* O número tem mais de 20 dígitos decimais, mas o tipo float do Python (que é baseado em double precision IEEE 754) garante precisão apenas até cerca de 15 a 17 dígitos significativos."
   ]
  },
  {
   "cell_type": "markdown",
   "id": "1580bab9-993e-428b-8b4b-6821c33c6b99",
   "metadata": {},
   "source": [
    "#### Garantindo maior precisão"
   ]
  },
  {
   "cell_type": "code",
   "execution_count": 27,
   "id": "4e755036-ebea-47a8-bc00-b9e48732e11f",
   "metadata": {},
   "outputs": [
    {
     "name": "stdout",
     "output_type": "stream",
     "text": [
      "0.12345678901234567890123\n"
     ]
    }
   ],
   "source": [
    "from decimal import Decimal, getcontext\n",
    "\n",
    "getcontext().prec = 50  # define 50 dígitos de precisão\n",
    "\n",
    "a = Decimal('0.12345678901234567890123')\n",
    "print(a)"
   ]
  },
  {
   "cell_type": "code",
   "execution_count": 28,
   "id": "d155e301-a82c-4d86-962f-5e1d5ba36105",
   "metadata": {},
   "outputs": [],
   "source": [
    "# OBS: não devemos utilizar == para representar floats"
   ]
  },
  {
   "cell_type": "code",
   "execution_count": 29,
   "id": "bbe3bb00-d907-4944-a9f5-1c9d6ed01ba3",
   "metadata": {},
   "outputs": [
    {
     "data": {
      "text/plain": [
       "True"
      ]
     },
     "execution_count": 29,
     "metadata": {},
     "output_type": "execute_result"
    }
   ],
   "source": [
    "# Testando o epsilon - Diferença mínima entre 1.0 e o próximo float maior\n",
    "\n",
    "1. + sys.float_info.epsilon / 2 == 1.0"
   ]
  },
  {
   "cell_type": "code",
   "execution_count": 30,
   "id": "588f5535-d3eb-4841-a5e3-425fe969411e",
   "metadata": {},
   "outputs": [
    {
     "data": {
      "text/plain": [
       "False"
      ]
     },
     "execution_count": 30,
     "metadata": {},
     "output_type": "execute_result"
    }
   ],
   "source": [
    "1. + sys.float_info.epsilon == 1.0"
   ]
  },
  {
   "cell_type": "markdown",
   "id": "1c4286c1-bf18-4922-8451-f58f05ed5f00",
   "metadata": {},
   "source": [
    "* sys.float_info.epsilon é o menor valor positivo que, somado a 1.0, produz um número diferente de 1.0.\n",
    "\n",
    "* Quando você soma menos que epsilon (por exemplo, epsilon / 2), o número resultante ainda é arredondado para 1.0, porque a diferença é menor que a precisão que o float consegue representar.\n",
    "\n",
    "* Quando soma exatamente epsilon, o resultado já é diferente de 1.0, porque é o limite mínimo onde a diferença é detectada pela representação do float.\n",
    "\n",
    "* Qualquer número entre 1.0 e 1.0 + epsilon não pode ser representado exatamente em ponto flutuante — ele é “arredondado” para 1.0.\n",
    "\n",
    "* Somente a partir de 1.0 + epsilon é possível distinguir um número maior que 1.0 na representação binária do float."
   ]
  },
  {
   "cell_type": "markdown",
   "id": "1ea3d13f-e0c8-4f0c-b848-e54e6f8f74b7",
   "metadata": {},
   "source": [
    "### Cancelamento catastrófico"
   ]
  },
  {
   "cell_type": "markdown",
   "id": "e6eb9dc3-fd9b-40d3-ad0c-6429eee7f2ab",
   "metadata": {},
   "source": [
    "É um fenômeno de erro numérico que ocorre quando você subtrai dois números muito próximos entre si e, por causa da precisão limitada dos números de ponto flutuante, o resultado perde muitos dígitos significativos, ficando altamente impreciso."
   ]
  },
  {
   "cell_type": "code",
   "execution_count": 31,
   "id": "8ab2b278-5199-4160-8bf0-2f3d8995b972",
   "metadata": {},
   "outputs": [
    {
     "name": "stdout",
     "output_type": "stream",
     "text": [
      "1.4142135623730951\n"
     ]
    }
   ],
   "source": [
    "a = np.sqrt(2)\n",
    "print(a)"
   ]
  },
  {
   "cell_type": "code",
   "execution_count": 32,
   "id": "8643520e-b86c-47f3-a527-c471c513d799",
   "metadata": {},
   "outputs": [
    {
     "data": {
      "text/plain": [
       "4.440892098500626e-16"
      ]
     },
     "execution_count": 32,
     "metadata": {},
     "output_type": "execute_result"
    }
   ],
   "source": [
    "a ** 2. - 2."
   ]
  },
  {
   "cell_type": "code",
   "execution_count": 33,
   "id": "5f616dc6-6343-406b-962e-4adb3a50767b",
   "metadata": {},
   "outputs": [
    {
     "data": {
      "text/plain": [
       "44408.92098500626"
      ]
     },
     "execution_count": 33,
     "metadata": {},
     "output_type": "execute_result"
    }
   ],
   "source": [
    "(a ** 2. - 2.) * 1e20"
   ]
  },
  {
   "cell_type": "markdown",
   "id": "b21911c2-398f-4a08-ae57-d997ee43a464",
   "metadata": {},
   "source": [
    "**Tipos de erros**\n",
    "\n",
    "Arredondamento: devido à precisão dos números de ponto flutuante.\n",
    "\n",
    "Discretização\n",
    "\n",
    "Modelagem: Ao desconsiderar algumas variáveis do problema.\n",
    "\n",
    "Entrada: Possíveis erros de medição."
   ]
  },
  {
   "cell_type": "markdown",
   "id": "a4bfece1-0450-44f2-a677-cbf04b57024b",
   "metadata": {},
   "source": [
    "### Representações binárias para decimais e erros"
   ]
  },
  {
   "cell_type": "code",
   "execution_count": 34,
   "id": "816edd52-dd47-49ed-8d3a-039e25bad9c5",
   "metadata": {},
   "outputs": [],
   "source": [
    "teste1 = 0.1"
   ]
  },
  {
   "cell_type": "code",
   "execution_count": 36,
   "id": "bb9eed4f-44d4-4ce7-b76f-9548c25100f2",
   "metadata": {},
   "outputs": [
    {
     "name": "stdout",
     "output_type": "stream",
     "text": [
      "0.1000000000000000055511151231257827021181583404541015625000000000000000\n"
     ]
    }
   ],
   "source": [
    "print('{:.70f}'.format(teste1))"
   ]
  },
  {
   "attachments": {
    "03aef8d4-5955-4365-bef4-5cd587721adf.png": {
     "image/png": "[encoded data removed]"
    }
   },
   "cell_type": "markdown",
   "id": "b85fcf39-cb9b-476f-b3df-b9564a756e57",
   "metadata": {},
   "source": [
    "![image.png](attachment:03aef8d4-5955-4365-bef4-5cd587721adf.png)"
   ]
  },
  {
   "cell_type": "markdown",
   "id": "566c7d1a-a9fd-4c88-aa8e-a7e4583034b5",
   "metadata": {},
   "source": [
    "→ Como não cabe uma dízima infinita em um número de bits finito (ex.: 64 bits), o computador armazena uma aproximação de 0.1  \n",
    "→ Essa aproximação é muito próxima de 0.1, mas não é exatamente 0.1  "
   ]
  },
  {
   "cell_type": "code",
   "execution_count": 35,
   "id": "99c36925-e51d-40ce-84d4-7cd9d48c2132",
   "metadata": {},
   "outputs": [],
   "source": [
    "teste2 = 0.625"
   ]
  },
  {
   "cell_type": "code",
   "execution_count": 37,
   "id": "1ebca33c-038b-4ea7-b41a-bc24bdbeddb9",
   "metadata": {},
   "outputs": [
    {
     "name": "stdout",
     "output_type": "stream",
     "text": [
      "0.6250000000000000000000000000000000000000000000000000000000000000000000\n"
     ]
    }
   ],
   "source": [
    "print('{:.70f}'.format(teste2))"
   ]
  },
  {
   "attachments": {
    "1e811783-f20a-40c8-9ea4-87ae5c2783e6.png": {
     "image/png": "[encoded data removed]"
    }
   },
   "cell_type": "markdown",
   "id": "3806857c-dcc5-4bfb-a979-41339b8b60f4",
   "metadata": {},
   "source": [
    "![image.png](attachment:1e811783-f20a-40c8-9ea4-87ae5c2783e6.png)"
   ]
  }
 ],
 "metadata": {
  "kernelspec": {
   "display_name": "Python 3 (ipykernel)",
   "language": "python",
   "name": "python3"
  },
  "language_info": {
   "codemirror_mode": {
    "name": "ipython",
    "version": 3
   },
   "file_extension": ".py",
   "mimetype": "text/x-python",
   "name": "python",
   "nbconvert_exporter": "python",
   "pygments_lexer": "ipython3",
   "version": "3.12.3"
  }
 },
 "nbformat": 4,
 "nbformat_minor": 5
}
