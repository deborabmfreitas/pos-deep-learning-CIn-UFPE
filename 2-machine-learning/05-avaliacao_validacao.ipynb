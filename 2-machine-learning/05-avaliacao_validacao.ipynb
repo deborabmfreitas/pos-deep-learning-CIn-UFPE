{
 "cells": [
  {
   "cell_type": "markdown",
   "id": "d4b63120-b642-4a4e-8d2e-129d02e0698c",
   "metadata": {},
   "source": [
    "# Métricas de avaliação e validação de dados"
   ]
  },
  {
   "cell_type": "markdown",
   "id": "5ee28cbe-f2c3-49d7-b065-ef3254d03f00",
   "metadata": {},
   "source": [
    "# Bibliotecas"
   ]
  },
  {
   "cell_type": "code",
   "execution_count": 1,
   "id": "7e47d9db",
   "metadata": {},
   "outputs": [],
   "source": [
    "# Manipulacao dos dados\n",
    "import numpy as np\n",
    "import pandas as pd\n",
    "\n",
    "# Divisao dos dados\n",
    "from sklearn.model_selection import train_test_split, KFold, LeaveOneOut, StratifiedKFold, GridSearchCV\n",
    "from sklearn.metrics import classification_report, accuracy_score, ConfusionMatrixDisplay, confusion_matrix, RocCurveDisplay #avaliacao\n",
    "import matplotlib.pyplot as plt #visualizacao\n",
    "from sklearn.tree import DecisionTreeClassifier #algoritmo de classificacao\n",
    "\n",
    "import warnings\n",
    "warnings.filterwarnings('ignore')\n",
    "     "
   ]
  },
  {
   "cell_type": "markdown",
   "id": "ac3a6a09-f0ae-4180-87aa-69c4088af9c2",
   "metadata": {},
   "source": [
    "---"
   ]
  },
  {
   "cell_type": "markdown",
   "id": "2c16f6c3-e55b-4ede-b707-d9204c8a9ee8",
   "metadata": {},
   "source": [
    "# Importação dos dados"
   ]
  },
  {
   "cell_type": "code",
   "execution_count": 2,
   "id": "670451c1",
   "metadata": {
    "scrolled": true
   },
   "outputs": [],
   "source": [
    "# https://archive.ics.uci.edu/dataset/17/breast+cancer+wisconsin+diagnostic\n",
    "\n",
    "dataset = pd.read_csv('https://raw.githubusercontent.com/cynthiamaia/Monitoria-DeepLearning-CIN-AI/main/Datasets/Breast%20Cancer%20Wisconsin%20(Diagnostic).csv')"
   ]
  },
  {
   "cell_type": "markdown",
   "id": "2b8b9b0f-82e3-4487-b47c-aa4cb911d3c1",
   "metadata": {},
   "source": [
    "---"
   ]
  },
  {
   "cell_type": "markdown",
   "id": "7209acfa-c70b-4001-851f-07a8af813fb6",
   "metadata": {},
   "source": [
    "# Inspeção dos dados"
   ]
  },
  {
   "cell_type": "code",
   "execution_count": 3,
   "id": "9a84d15e",
   "metadata": {},
   "outputs": [
    {
     "name": "stdout",
     "output_type": "stream",
     "text": [
      "Tamanho do dataset: (569, 31)\n",
      "\n"
     ]
    },
    {
     "data": {
      "text/html": [
       "<div>\n",
       "<style scoped>\n",
       "    .dataframe tbody tr th:only-of-type {\n",
       "        vertical-align: middle;\n",
       "    }\n",
       "\n",
       "    .dataframe tbody tr th {\n",
       "        vertical-align: top;\n",
       "    }\n",
       "\n",
       "    .dataframe thead th {\n",
       "        text-align: right;\n",
       "    }\n",
       "</style>\n",
       "<table border=\"1\" class=\"dataframe\">\n",
       "  <thead>\n",
       "    <tr style=\"text-align: right;\">\n",
       "      <th></th>\n",
       "      <th>diagnosis</th>\n",
       "      <th>radius_Mean</th>\n",
       "      <th>texture_Mean</th>\n",
       "      <th>periMeter_Mean</th>\n",
       "      <th>area_Mean</th>\n",
       "      <th>sMoothness_Mean</th>\n",
       "      <th>coMpactness_Mean</th>\n",
       "      <th>concavity_Mean</th>\n",
       "      <th>concave points_Mean</th>\n",
       "      <th>syMMetry_Mean</th>\n",
       "      <th>...</th>\n",
       "      <th>radius_worst</th>\n",
       "      <th>texture_worst</th>\n",
       "      <th>periMeter_worst</th>\n",
       "      <th>area_worst</th>\n",
       "      <th>sMoothness_worst</th>\n",
       "      <th>coMpactness_worst</th>\n",
       "      <th>concavity_worst</th>\n",
       "      <th>concave points_worst</th>\n",
       "      <th>syMMetry_worst</th>\n",
       "      <th>fractal_diMension_worst</th>\n",
       "    </tr>\n",
       "  </thead>\n",
       "  <tbody>\n",
       "    <tr>\n",
       "      <th>0</th>\n",
       "      <td>M</td>\n",
       "      <td>17.99</td>\n",
       "      <td>10.38</td>\n",
       "      <td>122.80</td>\n",
       "      <td>1001.0</td>\n",
       "      <td>0.11840</td>\n",
       "      <td>0.27760</td>\n",
       "      <td>0.3001</td>\n",
       "      <td>0.14710</td>\n",
       "      <td>0.2419</td>\n",
       "      <td>...</td>\n",
       "      <td>25.38</td>\n",
       "      <td>17.33</td>\n",
       "      <td>184.60</td>\n",
       "      <td>2019.0</td>\n",
       "      <td>0.1622</td>\n",
       "      <td>0.6656</td>\n",
       "      <td>0.7119</td>\n",
       "      <td>0.2654</td>\n",
       "      <td>0.4601</td>\n",
       "      <td>0.11890</td>\n",
       "    </tr>\n",
       "    <tr>\n",
       "      <th>1</th>\n",
       "      <td>M</td>\n",
       "      <td>20.57</td>\n",
       "      <td>17.77</td>\n",
       "      <td>132.90</td>\n",
       "      <td>1326.0</td>\n",
       "      <td>0.08474</td>\n",
       "      <td>0.07864</td>\n",
       "      <td>0.0869</td>\n",
       "      <td>0.07017</td>\n",
       "      <td>0.1812</td>\n",
       "      <td>...</td>\n",
       "      <td>24.99</td>\n",
       "      <td>23.41</td>\n",
       "      <td>158.80</td>\n",
       "      <td>1956.0</td>\n",
       "      <td>0.1238</td>\n",
       "      <td>0.1866</td>\n",
       "      <td>0.2416</td>\n",
       "      <td>0.1860</td>\n",
       "      <td>0.2750</td>\n",
       "      <td>0.08902</td>\n",
       "    </tr>\n",
       "    <tr>\n",
       "      <th>2</th>\n",
       "      <td>M</td>\n",
       "      <td>19.69</td>\n",
       "      <td>21.25</td>\n",
       "      <td>130.00</td>\n",
       "      <td>1203.0</td>\n",
       "      <td>0.10960</td>\n",
       "      <td>0.15990</td>\n",
       "      <td>0.1974</td>\n",
       "      <td>0.12790</td>\n",
       "      <td>0.2069</td>\n",
       "      <td>...</td>\n",
       "      <td>23.57</td>\n",
       "      <td>25.53</td>\n",
       "      <td>152.50</td>\n",
       "      <td>1709.0</td>\n",
       "      <td>0.1444</td>\n",
       "      <td>0.4245</td>\n",
       "      <td>0.4504</td>\n",
       "      <td>0.2430</td>\n",
       "      <td>0.3613</td>\n",
       "      <td>0.08758</td>\n",
       "    </tr>\n",
       "    <tr>\n",
       "      <th>3</th>\n",
       "      <td>M</td>\n",
       "      <td>11.42</td>\n",
       "      <td>20.38</td>\n",
       "      <td>77.58</td>\n",
       "      <td>386.1</td>\n",
       "      <td>0.14250</td>\n",
       "      <td>0.28390</td>\n",
       "      <td>0.2414</td>\n",
       "      <td>0.10520</td>\n",
       "      <td>0.2597</td>\n",
       "      <td>...</td>\n",
       "      <td>14.91</td>\n",
       "      <td>26.50</td>\n",
       "      <td>98.87</td>\n",
       "      <td>567.7</td>\n",
       "      <td>0.2098</td>\n",
       "      <td>0.8663</td>\n",
       "      <td>0.6869</td>\n",
       "      <td>0.2575</td>\n",
       "      <td>0.6638</td>\n",
       "      <td>0.17300</td>\n",
       "    </tr>\n",
       "    <tr>\n",
       "      <th>4</th>\n",
       "      <td>M</td>\n",
       "      <td>20.29</td>\n",
       "      <td>14.34</td>\n",
       "      <td>135.10</td>\n",
       "      <td>1297.0</td>\n",
       "      <td>0.10030</td>\n",
       "      <td>0.13280</td>\n",
       "      <td>0.1980</td>\n",
       "      <td>0.10430</td>\n",
       "      <td>0.1809</td>\n",
       "      <td>...</td>\n",
       "      <td>22.54</td>\n",
       "      <td>16.67</td>\n",
       "      <td>152.20</td>\n",
       "      <td>1575.0</td>\n",
       "      <td>0.1374</td>\n",
       "      <td>0.2050</td>\n",
       "      <td>0.4000</td>\n",
       "      <td>0.1625</td>\n",
       "      <td>0.2364</td>\n",
       "      <td>0.07678</td>\n",
       "    </tr>\n",
       "  </tbody>\n",
       "</table>\n",
       "<p>5 rows × 31 columns</p>\n",
       "</div>"
      ],
      "text/plain": [
       "  diagnosis  radius_Mean  texture_Mean  periMeter_Mean  area_Mean  \\\n",
       "0         M        17.99         10.38          122.80     1001.0   \n",
       "1         M        20.57         17.77          132.90     1326.0   \n",
       "2         M        19.69         21.25          130.00     1203.0   \n",
       "3         M        11.42         20.38           77.58      386.1   \n",
       "4         M        20.29         14.34          135.10     1297.0   \n",
       "\n",
       "   sMoothness_Mean  coMpactness_Mean  concavity_Mean  concave points_Mean  \\\n",
       "0          0.11840           0.27760          0.3001              0.14710   \n",
       "1          0.08474           0.07864          0.0869              0.07017   \n",
       "2          0.10960           0.15990          0.1974              0.12790   \n",
       "3          0.14250           0.28390          0.2414              0.10520   \n",
       "4          0.10030           0.13280          0.1980              0.10430   \n",
       "\n",
       "   syMMetry_Mean  ...  radius_worst  texture_worst  periMeter_worst  \\\n",
       "0         0.2419  ...         25.38          17.33           184.60   \n",
       "1         0.1812  ...         24.99          23.41           158.80   \n",
       "2         0.2069  ...         23.57          25.53           152.50   \n",
       "3         0.2597  ...         14.91          26.50            98.87   \n",
       "4         0.1809  ...         22.54          16.67           152.20   \n",
       "\n",
       "   area_worst  sMoothness_worst  coMpactness_worst  concavity_worst  \\\n",
       "0      2019.0            0.1622             0.6656           0.7119   \n",
       "1      1956.0            0.1238             0.1866           0.2416   \n",
       "2      1709.0            0.1444             0.4245           0.4504   \n",
       "3       567.7            0.2098             0.8663           0.6869   \n",
       "4      1575.0            0.1374             0.2050           0.4000   \n",
       "\n",
       "   concave points_worst  syMMetry_worst  fractal_diMension_worst  \n",
       "0                0.2654          0.4601                  0.11890  \n",
       "1                0.1860          0.2750                  0.08902  \n",
       "2                0.2430          0.3613                  0.08758  \n",
       "3                0.2575          0.6638                  0.17300  \n",
       "4                0.1625          0.2364                  0.07678  \n",
       "\n",
       "[5 rows x 31 columns]"
      ]
     },
     "execution_count": 3,
     "metadata": {},
     "output_type": "execute_result"
    }
   ],
   "source": [
    "print(f\"Tamanho do dataset: {dataset.shape}\\n\")\n",
    "dataset.head()"
   ]
  },
  {
   "cell_type": "code",
   "execution_count": 4,
   "id": "68d275ca",
   "metadata": {},
   "outputs": [],
   "source": [
    "X = dataset.drop(columns=[\"diagnosis\"], axis = 1) #Diagnosis -> Target\n",
    "y = dataset[\"diagnosis\"]\n",
    "\n",
    "# Separando o conjunto de dados em treinamento e teste\n",
    "\n",
    "X_train, X_test, y_train, y_test = train_test_split(X, y, test_size=0.3, random_state=42) # Random_state: Usar um valor inteiro produzirá os mesmos resultados em diferentes chamadas."
   ]
  },
  {
   "cell_type": "markdown",
   "id": "db3f8f21-dbcb-4f70-8a8a-cbbdb259c001",
   "metadata": {},
   "source": [
    "---"
   ]
  },
  {
   "cell_type": "markdown",
   "id": "b6ca968f-e50c-4dec-99ee-2909a58bca99",
   "metadata": {},
   "source": [
    "# Métricas"
   ]
  },
  {
   "cell_type": "code",
   "execution_count": 5,
   "id": "33c4ce7e",
   "metadata": {},
   "outputs": [
    {
     "name": "stdout",
     "output_type": "stream",
     "text": [
      "              precision    recall  f1-score   support\n",
      "\n",
      "           B       0.97      0.92      0.94       108\n",
      "           M       0.87      0.95      0.91        63\n",
      "\n",
      "    accuracy                           0.93       171\n",
      "   macro avg       0.92      0.93      0.93       171\n",
      "weighted avg       0.93      0.93      0.93       171\n",
      "\n"
     ]
    },
    {
     "data": {
      "text/plain": [
       "'Acurácia: Calcula a razão das predições corretas.\\nPrecisão: Mede a capacidade do classificador de não classificar uma instância positiva como negativa.\\nRevocação (recall): Mede a capacidade do classificador de encontrar todas as instâncias positivas.\\nScore F1: É a média harmônica entre precisão e revocação. Caso você não tenha um objetivo concreto que dê prioridade a precisão ou revocação, F1 é uma boa forma de avaliação.\\n'"
      ]
     },
     "execution_count": 5,
     "metadata": {},
     "output_type": "execute_result"
    }
   ],
   "source": [
    "model = DecisionTreeClassifier(random_state=199)\n",
    "\n",
    "# treinando o modelo\n",
    "\n",
    "model.fit(X_train, y_train)\n",
    "\n",
    "# predição\n",
    "y_pred = model.predict(X_test)\n",
    "\n",
    "print(classification_report(y_test, y_pred)) #Existem várias formas de avaliar um modelo de aprendizagem, dependendo da tarefa que o modelo irá realizar.\n",
    "\n",
    "\"\"\"Acurácia: Calcula a razão das predições corretas.\n",
    "Precisão: Mede a capacidade do classificador de não classificar uma instância positiva como negativa.\n",
    "Revocação (recall): Mede a capacidade do classificador de encontrar todas as instâncias positivas.\n",
    "Score F1: É a média harmônica entre precisão e revocação. Caso você não tenha um objetivo concreto que dê prioridade a precisão ou revocação, F1 é uma boa forma de avaliação.\n",
    "\"\"\"     "
   ]
  },
  {
   "cell_type": "markdown",
   "id": "ec82b8f0-8e2f-4690-8ae4-c1edfbb0f368",
   "metadata": {},
   "source": [
    "---"
   ]
  },
  {
   "cell_type": "markdown",
   "id": "33b6c936",
   "metadata": {},
   "source": [
    "\n",
    "#### Matriz de confusão\n",
    "##### a função confusion matrix retorna uma matriz com a contagem de como cada  uma das classes está sendo classificada corretamente ou erroneamente"
   ]
  },
  {
   "cell_type": "code",
   "execution_count": 6,
   "id": "fdee6777",
   "metadata": {},
   "outputs": [
    {
     "data": {
      "text/plain": [
       "array([[99,  9],\n",
       "       [ 3, 60]])"
      ]
     },
     "execution_count": 6,
     "metadata": {},
     "output_type": "execute_result"
    }
   ],
   "source": [
    "confusion_matrix(y_test, y_pred)\n"
   ]
  },
  {
   "cell_type": "code",
   "execution_count": 7,
   "id": "b4d380bf",
   "metadata": {},
   "outputs": [
    {
     "data": {
      "image/png": "[encoded data removed]",
      "text/plain": [
       "<Figure size 640x480 with 2 Axes>"
      ]
     },
     "metadata": {},
     "output_type": "display_data"
    }
   ],
   "source": [
    "cm = confusion_matrix(y_test, y_pred)\n",
    "disp = ConfusionMatrixDisplay(confusion_matrix=cm)\n",
    "disp.plot()\n",
    "plt.show()"
   ]
  },
  {
   "cell_type": "markdown",
   "id": "1915767b-46b8-46fa-aede-3fa41877126c",
   "metadata": {},
   "source": [
    "---"
   ]
  },
  {
   "cell_type": "markdown",
   "id": "5056162a",
   "metadata": {},
   "source": [
    "##### ROC: \n",
    "###### Mede o trade-off entre a taxa de falsos positivos e a taxa de verdadeiros positivos. Quanto maior a área abaixo da curva, melhor o classificador."
   ]
  },
  {
   "cell_type": "code",
   "execution_count": 8,
   "id": "ae8b0f17",
   "metadata": {},
   "outputs": [
    {
     "data": {
      "image/png": "[encoded data removed]",
      "text/plain": [
       "<Figure size 640x480 with 1 Axes>"
      ]
     },
     "metadata": {},
     "output_type": "display_data"
    }
   ],
   "source": [
    "RocCurveDisplay.from_estimator(model, X_test, y_test)\n",
    "plt.show()"
   ]
  },
  {
   "cell_type": "markdown",
   "id": "54b87329-9b9e-4e78-b60c-32ab9c8fd6b4",
   "metadata": {},
   "source": [
    "---"
   ]
  },
  {
   "cell_type": "markdown",
   "id": "5be4b8f0",
   "metadata": {},
   "source": [
    "#### HOLD-OUT\n",
    "##### Uma pequena fração do dataset é separada para teste e outra para treino. A fração de treino pode ser dividida subsequentemente em quaisquer outros subconjuntos, o importante é garantir que o dataset de teste não é utilizado durante treino, otimização ou concepção do modelo."
   ]
  },
  {
   "cell_type": "code",
   "execution_count": 9,
   "id": "e0b06be7",
   "metadata": {},
   "outputs": [
    {
     "name": "stdout",
     "output_type": "stream",
     "text": [
      "Random state 199: 0.916083916083916\n",
      "Random state 200: 0.9370629370629371\n",
      "Random state 201: 0.9370629370629371\n",
      "Random state 202: 0.9440559440559441\n",
      "\n",
      "Aleatório:\n",
      "Sem random_state: 0.8881118881118881\n"
     ]
    }
   ],
   "source": [
    "def test_model(X_train, X_test, y_train, y_test, model_class=DecisionTreeClassifier):\n",
    "    model = model_class(random_state=199)\n",
    "    model.fit(X_train, y_train)\n",
    "\n",
    "    #predição\n",
    "    y_pred = model.predict(X_test)\n",
    "        \n",
    "    return accuracy_score(y_test,y_pred)\n",
    "\n",
    "random_states = [199, 200, 201, 202]\n",
    "\n",
    "for rs in random_states:\n",
    "    X_train, X_test, y_train, y_test = train_test_split(X, y, random_state=rs)\n",
    "    print(f\"Random state {rs}: {test_model(X_train, X_test, y_train, y_test)}\")\n",
    "\n",
    "# Aleatório\n",
    "print(\"\\nAleatório:\")\n",
    "X_train, X_test, y_train, y_test = train_test_split(X, y)\n",
    "print(f\"Sem random_state: {test_model(X_train, X_test, y_train, y_test)}\")\n"
   ]
  },
  {
   "cell_type": "code",
   "execution_count": 10,
   "id": "162628de",
   "metadata": {},
   "outputs": [
    {
     "name": "stdout",
     "output_type": "stream",
     "text": [
      "Min: 0.888 Max: 0.951\n",
      "Hold-out: 0.921 +- (0.021)\n"
     ]
    }
   ],
   "source": [
    "def hold_out():\n",
    "  accuracies_list = []\n",
    "  for i in range(0, 30):\n",
    "      X_train, X_test, y_train, y_test = train_test_split(X, y, random_state=199+i) #variando o random state para criar amostras diferentes\n",
    "      accuracies_list.append(test_model(X_train, X_test, y_train, y_test))\n",
    "\n",
    "  accuracies = np.array(accuracies_list)\n",
    "  print(\"Min: %.3f Max: %.3f\" %(accuracies.min(), accuracies.max()))\n",
    "  print(\"Hold-out: %.3f +- (%.3f)\" %(accuracies.mean(), accuracies.std()))\n",
    "\n",
    "hold_out()\n",
    " \n",
    "#Podemos adicionar repetição e realizar vários hold-outs para avaliar várias vezes a performance de um algoritmo.\n",
    "    "
   ]
  },
  {
   "cell_type": "markdown",
   "id": "f3c1aac1-541a-4c20-b17e-05f4e40fc6b4",
   "metadata": {},
   "source": [
    "---"
   ]
  },
  {
   "cell_type": "markdown",
   "id": "8110e876",
   "metadata": {},
   "source": [
    "#### LEAVE-ONE-OUT\n",
    "##### https://scikit-learn.org/stable/modules/generated/sklearn.model_selection.LeaveOneOut.html\n",
    "##### Fornece índices de treinamento/teste para dividir os dados em conjuntos de treinamento/teste.\n",
    "##### Cada amostra é usada uma vez como um conjunto de teste (singleton) enquanto as amostras restantes formam o conjunto de treinamento."
   ]
  },
  {
   "cell_type": "code",
   "execution_count": 11,
   "id": "30a4e849",
   "metadata": {},
   "outputs": [
    {
     "name": "stdout",
     "output_type": "stream",
     "text": [
      "Leave-One-Out: 0.924\n"
     ]
    }
   ],
   "source": [
    "def loo(loo):\n",
    "    y_true, y_pred = list(), list()\n",
    "    for train_index, test_index in loo.split(X):\n",
    "          X_train, X_test = X.iloc[train_index], X.iloc[test_index]\n",
    "          y_train, y_test = y.iloc[train_index], y.iloc[test_index]\n",
    "          model = DecisionTreeClassifier(random_state=199)\n",
    "          model.fit(X_train, y_train)\n",
    "          pred = model.predict(X_test)\n",
    "          y_true.append(y_test)\n",
    "          y_pred.append(pred[0])\n",
    "          \n",
    "    print(\"Leave-One-Out: %.3f\" %(accuracy_score(y_true, y_pred)))\n",
    "loo(LeaveOneOut())"
   ]
  },
  {
   "cell_type": "markdown",
   "id": "a1bed6ef-1638-4711-a4d3-4be2ba722c5a",
   "metadata": {},
   "source": [
    "---"
   ]
  },
  {
   "cell_type": "markdown",
   "id": "fa9d9cbc",
   "metadata": {},
   "source": [
    "#### KFOLD\n",
    "##### https://scikit-learn.org/stable/modules/generated/sklearn.model_selection.KFold.html\n",
    "##### Fornece índices de treinamento/teste para dividir dados em conjuntos de treinamento/teste. Divide o conjunto de dados em k folds consecutivos (sem embaralhar \"shuffle\" por padrão)"
   ]
  },
  {
   "cell_type": "code",
   "execution_count": 12,
   "id": "d8494556",
   "metadata": {},
   "outputs": [
    {
     "name": "stdout",
     "output_type": "stream",
     "text": [
      "Fold 0: 0.947\n",
      "Fold 1: 0.930\n",
      "Fold 2: 0.895\n",
      "Fold 3: 0.947\n",
      "Fold 4: 0.947\n",
      "\n",
      "Acurácia média (desvio): 0.933 +- (0.020)\n"
     ]
    }
   ],
   "source": [
    "def evaluate_model(kf):\n",
    "    accuracies_list = []\n",
    "    fold = 0\n",
    "    for train, test in kf.split(X, y):\n",
    "        \n",
    "        X_train, X_test = X.iloc[train], X.iloc[test]\n",
    "        y_train, y_test = y.iloc[train], y.iloc[test]\n",
    "\n",
    "        model = DecisionTreeClassifier(random_state=199)\n",
    "        model.fit(X_train, y_train)\n",
    "        y_pred = model.predict(X_test)\n",
    "        \n",
    "        print(\"Fold %d: %.3f\" %(fold, accuracy_score(y_test, y_pred)))\n",
    "        \n",
    "        accuracies_list.append(accuracy_score(y_test, y_pred))\n",
    "        fold += 1\n",
    "\n",
    "    accuracies = np.array(accuracies_list)\n",
    "    print(\"\\nAcurácia média (desvio): %.3f +- (%.3f)\" %(accuracies.mean(), accuracies.std()))\n",
    "\n",
    "evaluate_model(KFold(n_splits=5, random_state=42, shuffle=True))\n",
    "     "
   ]
  },
  {
   "cell_type": "markdown",
   "id": "efba1f13-cfc7-4722-b270-4121f28a0296",
   "metadata": {},
   "source": [
    "---"
   ]
  },
  {
   "cell_type": "markdown",
   "id": "89578419",
   "metadata": {},
   "source": [
    "#### GRID SEARCH CV\n",
    "##### https://scikit-learn.org/stable/modules/generated/sklearn.model_selection.GridSearchCV.html\n",
    "##### O Grid-search é usado para encontrar os hiperparâmetros ideais de um modelo que resultem em previsões mais \"precisas\"."
   ]
  },
  {
   "cell_type": "code",
   "execution_count": 13,
   "id": "282a9561",
   "metadata": {},
   "outputs": [
    {
     "name": "stdout",
     "output_type": "stream",
     "text": [
      "Melhor parametro: {'max_depth': 30, 'max_features': 10, 'min_samples_split': 10}\n",
      "Fold 0: 0.921\n",
      "Melhor parametro: {'max_depth': 5, 'max_features': 10, 'min_samples_split': 10}\n",
      "Fold 1: 0.912\n",
      "Melhor parametro: {'max_depth': 5, 'max_features': 10, 'min_samples_split': 30}\n",
      "Fold 2: 0.921\n",
      "Melhor parametro: {'max_depth': 30, 'max_features': 10, 'min_samples_split': 10}\n",
      "Fold 3: 0.939\n",
      "Melhor parametro: {'max_depth': 5, 'max_features': 30, 'min_samples_split': 10}\n",
      "Fold 4: 0.938\n",
      "\n",
      "Acurácia média (desvio): 0.926 +- (0.010)\n"
     ]
    },
    {
     "data": {
      "text/html": [
       "<div>\n",
       "<style scoped>\n",
       "    .dataframe tbody tr th:only-of-type {\n",
       "        vertical-align: middle;\n",
       "    }\n",
       "\n",
       "    .dataframe tbody tr th {\n",
       "        vertical-align: top;\n",
       "    }\n",
       "\n",
       "    .dataframe thead th {\n",
       "        text-align: right;\n",
       "    }\n",
       "</style>\n",
       "<table border=\"1\" class=\"dataframe\">\n",
       "  <thead>\n",
       "    <tr style=\"text-align: right;\">\n",
       "      <th></th>\n",
       "      <th>mean_fit_time</th>\n",
       "      <th>std_fit_time</th>\n",
       "      <th>mean_score_time</th>\n",
       "      <th>std_score_time</th>\n",
       "      <th>param_max_depth</th>\n",
       "      <th>param_max_features</th>\n",
       "      <th>param_min_samples_split</th>\n",
       "      <th>params</th>\n",
       "      <th>split0_test_score</th>\n",
       "      <th>split1_test_score</th>\n",
       "      <th>split2_test_score</th>\n",
       "      <th>split3_test_score</th>\n",
       "      <th>split4_test_score</th>\n",
       "      <th>mean_test_score</th>\n",
       "      <th>std_test_score</th>\n",
       "      <th>rank_test_score</th>\n",
       "    </tr>\n",
       "  </thead>\n",
       "  <tbody>\n",
       "    <tr>\n",
       "      <th>0</th>\n",
       "      <td>0.002941</td>\n",
       "      <td>0.000153</td>\n",
       "      <td>0.001021</td>\n",
       "      <td>0.000025</td>\n",
       "      <td>5</td>\n",
       "      <td>10</td>\n",
       "      <td>10</td>\n",
       "      <td>{'max_depth': 5, 'max_features': 10, 'min_samp...</td>\n",
       "      <td>0.923913</td>\n",
       "      <td>0.890110</td>\n",
       "      <td>0.868132</td>\n",
       "      <td>0.923077</td>\n",
       "      <td>0.967033</td>\n",
       "      <td>0.914453</td>\n",
       "      <td>0.033665</td>\n",
       "      <td>4</td>\n",
       "    </tr>\n",
       "    <tr>\n",
       "      <th>1</th>\n",
       "      <td>0.002681</td>\n",
       "      <td>0.000084</td>\n",
       "      <td>0.001085</td>\n",
       "      <td>0.000080</td>\n",
       "      <td>5</td>\n",
       "      <td>10</td>\n",
       "      <td>30</td>\n",
       "      <td>{'max_depth': 5, 'max_features': 10, 'min_samp...</td>\n",
       "      <td>0.902174</td>\n",
       "      <td>0.879121</td>\n",
       "      <td>0.901099</td>\n",
       "      <td>0.923077</td>\n",
       "      <td>0.967033</td>\n",
       "      <td>0.914501</td>\n",
       "      <td>0.029720</td>\n",
       "      <td>3</td>\n",
       "    </tr>\n",
       "    <tr>\n",
       "      <th>2</th>\n",
       "      <td>0.005635</td>\n",
       "      <td>0.000470</td>\n",
       "      <td>0.001288</td>\n",
       "      <td>0.000255</td>\n",
       "      <td>5</td>\n",
       "      <td>30</td>\n",
       "      <td>10</td>\n",
       "      <td>{'max_depth': 5, 'max_features': 30, 'min_samp...</td>\n",
       "      <td>0.923913</td>\n",
       "      <td>0.901099</td>\n",
       "      <td>0.956044</td>\n",
       "      <td>0.945055</td>\n",
       "      <td>0.912088</td>\n",
       "      <td>0.927640</td>\n",
       "      <td>0.020348</td>\n",
       "      <td>1</td>\n",
       "    </tr>\n",
       "    <tr>\n",
       "      <th>3</th>\n",
       "      <td>0.005613</td>\n",
       "      <td>0.000412</td>\n",
       "      <td>0.001199</td>\n",
       "      <td>0.000104</td>\n",
       "      <td>5</td>\n",
       "      <td>30</td>\n",
       "      <td>30</td>\n",
       "      <td>{'max_depth': 5, 'max_features': 30, 'min_samp...</td>\n",
       "      <td>0.891304</td>\n",
       "      <td>0.901099</td>\n",
       "      <td>0.901099</td>\n",
       "      <td>0.945055</td>\n",
       "      <td>0.923077</td>\n",
       "      <td>0.912327</td>\n",
       "      <td>0.019395</td>\n",
       "      <td>5</td>\n",
       "    </tr>\n",
       "    <tr>\n",
       "      <th>4</th>\n",
       "      <td>0.003179</td>\n",
       "      <td>0.000308</td>\n",
       "      <td>0.001178</td>\n",
       "      <td>0.000082</td>\n",
       "      <td>30</td>\n",
       "      <td>10</td>\n",
       "      <td>10</td>\n",
       "      <td>{'max_depth': 30, 'max_features': 10, 'min_sam...</td>\n",
       "      <td>0.869565</td>\n",
       "      <td>0.890110</td>\n",
       "      <td>0.901099</td>\n",
       "      <td>0.923077</td>\n",
       "      <td>0.956044</td>\n",
       "      <td>0.907979</td>\n",
       "      <td>0.029599</td>\n",
       "      <td>7</td>\n",
       "    </tr>\n",
       "    <tr>\n",
       "      <th>5</th>\n",
       "      <td>0.002978</td>\n",
       "      <td>0.000176</td>\n",
       "      <td>0.001186</td>\n",
       "      <td>0.000300</td>\n",
       "      <td>30</td>\n",
       "      <td>10</td>\n",
       "      <td>30</td>\n",
       "      <td>{'max_depth': 30, 'max_features': 10, 'min_sam...</td>\n",
       "      <td>0.923913</td>\n",
       "      <td>0.868132</td>\n",
       "      <td>0.868132</td>\n",
       "      <td>0.901099</td>\n",
       "      <td>0.967033</td>\n",
       "      <td>0.905662</td>\n",
       "      <td>0.037249</td>\n",
       "      <td>8</td>\n",
       "    </tr>\n",
       "    <tr>\n",
       "      <th>6</th>\n",
       "      <td>0.005968</td>\n",
       "      <td>0.000770</td>\n",
       "      <td>0.001253</td>\n",
       "      <td>0.000089</td>\n",
       "      <td>30</td>\n",
       "      <td>30</td>\n",
       "      <td>10</td>\n",
       "      <td>{'max_depth': 30, 'max_features': 30, 'min_sam...</td>\n",
       "      <td>0.913043</td>\n",
       "      <td>0.901099</td>\n",
       "      <td>0.956044</td>\n",
       "      <td>0.923077</td>\n",
       "      <td>0.912088</td>\n",
       "      <td>0.921070</td>\n",
       "      <td>0.018821</td>\n",
       "      <td>2</td>\n",
       "    </tr>\n",
       "    <tr>\n",
       "      <th>7</th>\n",
       "      <td>0.005718</td>\n",
       "      <td>0.000636</td>\n",
       "      <td>0.001188</td>\n",
       "      <td>0.000239</td>\n",
       "      <td>30</td>\n",
       "      <td>30</td>\n",
       "      <td>30</td>\n",
       "      <td>{'max_depth': 30, 'max_features': 30, 'min_sam...</td>\n",
       "      <td>0.891304</td>\n",
       "      <td>0.901099</td>\n",
       "      <td>0.901099</td>\n",
       "      <td>0.945055</td>\n",
       "      <td>0.923077</td>\n",
       "      <td>0.912327</td>\n",
       "      <td>0.019395</td>\n",
       "      <td>5</td>\n",
       "    </tr>\n",
       "  </tbody>\n",
       "</table>\n",
       "</div>"
      ],
      "text/plain": [
       "   mean_fit_time  std_fit_time  mean_score_time  std_score_time  \\\n",
       "0       0.002941      0.000153         0.001021        0.000025   \n",
       "1       0.002681      0.000084         0.001085        0.000080   \n",
       "2       0.005635      0.000470         0.001288        0.000255   \n",
       "3       0.005613      0.000412         0.001199        0.000104   \n",
       "4       0.003179      0.000308         0.001178        0.000082   \n",
       "5       0.002978      0.000176         0.001186        0.000300   \n",
       "6       0.005968      0.000770         0.001253        0.000089   \n",
       "7       0.005718      0.000636         0.001188        0.000239   \n",
       "\n",
       "   param_max_depth  param_max_features  param_min_samples_split  \\\n",
       "0                5                  10                       10   \n",
       "1                5                  10                       30   \n",
       "2                5                  30                       10   \n",
       "3                5                  30                       30   \n",
       "4               30                  10                       10   \n",
       "5               30                  10                       30   \n",
       "6               30                  30                       10   \n",
       "7               30                  30                       30   \n",
       "\n",
       "                                              params  split0_test_score  \\\n",
       "0  {'max_depth': 5, 'max_features': 10, 'min_samp...           0.923913   \n",
       "1  {'max_depth': 5, 'max_features': 10, 'min_samp...           0.902174   \n",
       "2  {'max_depth': 5, 'max_features': 30, 'min_samp...           0.923913   \n",
       "3  {'max_depth': 5, 'max_features': 30, 'min_samp...           0.891304   \n",
       "4  {'max_depth': 30, 'max_features': 10, 'min_sam...           0.869565   \n",
       "5  {'max_depth': 30, 'max_features': 10, 'min_sam...           0.923913   \n",
       "6  {'max_depth': 30, 'max_features': 30, 'min_sam...           0.913043   \n",
       "7  {'max_depth': 30, 'max_features': 30, 'min_sam...           0.891304   \n",
       "\n",
       "   split1_test_score  split2_test_score  split3_test_score  split4_test_score  \\\n",
       "0           0.890110           0.868132           0.923077           0.967033   \n",
       "1           0.879121           0.901099           0.923077           0.967033   \n",
       "2           0.901099           0.956044           0.945055           0.912088   \n",
       "3           0.901099           0.901099           0.945055           0.923077   \n",
       "4           0.890110           0.901099           0.923077           0.956044   \n",
       "5           0.868132           0.868132           0.901099           0.967033   \n",
       "6           0.901099           0.956044           0.923077           0.912088   \n",
       "7           0.901099           0.901099           0.945055           0.923077   \n",
       "\n",
       "   mean_test_score  std_test_score  rank_test_score  \n",
       "0         0.914453        0.033665                4  \n",
       "1         0.914501        0.029720                3  \n",
       "2         0.927640        0.020348                1  \n",
       "3         0.912327        0.019395                5  \n",
       "4         0.907979        0.029599                7  \n",
       "5         0.905662        0.037249                8  \n",
       "6         0.921070        0.018821                2  \n",
       "7         0.912327        0.019395                5  "
      ]
     },
     "execution_count": 13,
     "metadata": {},
     "output_type": "execute_result"
    }
   ],
   "source": [
    "def grid_Search(skf):\n",
    "  accuracies_list = []\n",
    "  fold = 0\n",
    "\n",
    "  for train, test in skf.split(X, y):\n",
    "        X_train, X_test = X.iloc[train], X.iloc[test]\n",
    "        y_train, y_test = y.iloc[train], y.iloc[test]\n",
    "\n",
    "        model = DecisionTreeClassifier(random_state=199)\n",
    "        parameters = {'min_samples_split': [10, 30],\n",
    "                        'max_depth':[5, 30],\n",
    "                        'max_features':[10, 30]\n",
    "                        }\n",
    "    \n",
    "        grid = GridSearchCV(estimator = model,             # É o DecisionTree\n",
    "                    param_grid = parameters,           # É aquele dicionário com valores para serem testados.\n",
    "                    scoring = 'accuracy',              # A métrica de avaliação\n",
    "                    cv = 5)\n",
    "        \n",
    "        grid.fit(X_train, y_train)\n",
    "\n",
    "        y_pred = grid.predict(X_test)\n",
    "    \n",
    "        print(\"Melhor parametro:\", grid.best_params_)         \n",
    "        print(\"Fold %d: %.3f\" %(fold, accuracy_score(y_test, y_pred)))\n",
    "        \n",
    "        accuracies_list.append(accuracy_score(y_test, y_pred))\n",
    "        fold += 1\n",
    "    \n",
    "    \n",
    "  accuracies = np.array(accuracies_list)\n",
    "  print(\"\\nAcurácia média (desvio): %.3f +- (%.3f)\" %(accuracies.mean(), accuracies.std()))\n",
    "  return pd.DataFrame(grid.cv_results_)\n",
    "\n",
    "grid_Search(StratifiedKFold(n_splits=5, random_state=42, shuffle=True))"
   ]
  }
 ],
 "metadata": {
  "kernelspec": {
   "display_name": "Python 3 (ipykernel)",
   "language": "python",
   "name": "python3"
  },
  "language_info": {
   "codemirror_mode": {
    "name": "ipython",
    "version": 3
   },
   "file_extension": ".py",
   "mimetype": "text/x-python",
   "name": "python",
   "nbconvert_exporter": "python",
   "pygments_lexer": "ipython3",
   "version": "3.12.3"
  }
 },
 "nbformat": 4,
 "nbformat_minor": 5
}
