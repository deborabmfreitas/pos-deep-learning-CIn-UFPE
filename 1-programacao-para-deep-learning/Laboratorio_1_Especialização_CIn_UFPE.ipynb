{
 "cells": [
  {
   "cell_type": "markdown",
   "metadata": {
    "id": "JlH5Cvoa5eJj"
   },
   "source": [
    "#### Assuntos do Laboratório 1:\n",
    "- Tipos de variáveis\n",
    "- Operações aritméticas\n",
    "- Operações lógicas"
   ]
  },
  {
   "cell_type": "markdown",
   "metadata": {},
   "source": [
    "---"
   ]
  },
  {
   "cell_type": "markdown",
   "metadata": {
    "id": "pTsmyiWA5UK3"
   },
   "source": [
    "### Questão 0:\n",
    "Escreva um programa que declara a variável **x** com o valor inicial 10."
   ]
  },
  {
   "cell_type": "code",
   "execution_count": 1,
   "metadata": {
    "id": "PLyJ6kWZ5cic"
   },
   "outputs": [],
   "source": [
    "x = 10"
   ]
  },
  {
   "cell_type": "markdown",
   "metadata": {},
   "source": [
    "---"
   ]
  },
  {
   "cell_type": "markdown",
   "metadata": {
    "id": "EMvmwDWswVo1"
   },
   "source": [
    "### Questao 1:\n",
    "\n",
    "Crie um programa que possua 4 variáveis (anoNascimento, anoAtual, idade, mesesVividos). anoNascimento será inicializada com o ano do seu nascimento, anoAtual será inicializada com o ano atual e a idade será o cálculo da diferença entre as duas variáveis anoAtual e anoNascimento, e mesesVividos armazenará a quantidade de meses vividos."
   ]
  },
  {
   "cell_type": "code",
   "execution_count": 2,
   "metadata": {
    "id": "PMvN35cJvwWf"
   },
   "outputs": [
    {
     "name": "stdout",
     "output_type": "stream",
     "text": [
      "anoNascimento: 1998\n",
      "anoAtual = 2025\n",
      "idade: 27\n",
      "mesesVividos: 324\n"
     ]
    }
   ],
   "source": [
    "anoNascimento = 1998\n",
    "anoAtual = 2025\n",
    "idade = anoAtual - anoNascimento\n",
    "mesesVividos = idade * 12\n",
    "print(f'anoNascimento: {anoNascimento}\\nanoAtual = {anoAtual}\\nidade: {idade}\\nmesesVividos: {mesesVividos}')"
   ]
  },
  {
   "cell_type": "markdown",
   "metadata": {},
   "source": [
    "---"
   ]
  },
  {
   "cell_type": "markdown",
   "metadata": {
    "id": "eA61dQhWxPVU"
   },
   "source": [
    "### Questao 2:\n",
    "\n",
    "Faça um programa que considera que existem caminhões de vacina em Pernambuco que transportam  10283 vacinas em cada caminhão. Sabendo que há 2.493.219 que precisam ser vacinados, depois da viagem de quantos caminhões essa população estará vacinada?"
   ]
  },
  {
   "cell_type": "code",
   "execution_count": 3,
   "metadata": {},
   "outputs": [],
   "source": [
    "def caminhoes_de_vacina():\n",
    "    caminhao_1 = 10283  # Total de vacinas de um caminhão\n",
    "    pop_vacina = int(input('Quantas pessoas precisam ser vacinadas? '))\n",
    "\n",
    "    # Calcula a quantidade de viagens (arredondando para cima se sobrar pessoas)\n",
    "    totViagens = pop_vacina // caminhao_1\n",
    "    if pop_vacina % caminhao_1 != 0:\n",
    "        totViagens += 1  # Adiciona uma viagem extra se houver sobra\n",
    "\n",
    "    total_vacinas = caminhao_1 * totViagens\n",
    "\n",
    "    print(f'Total de viagens: {totViagens}')\n",
    "    print(f'Total de vacinas transportadas: {total_vacinas}')"
   ]
  },
  {
   "cell_type": "code",
   "execution_count": null,
   "metadata": {},
   "outputs": [],
   "source": [
    "caminhoes_de_vacina()"
   ]
  },
  {
   "cell_type": "markdown",
   "metadata": {},
   "source": [
    "---"
   ]
  },
  {
   "cell_type": "markdown",
   "metadata": {
    "id": "dcqGWjtyxdRq"
   },
   "source": [
    "### Questão 3:\n",
    "\n",
    "Peça ao usuário 3 valores Booleanos (b1, b2, b3) e imprima o resultado da expressão (b1 and b2) or b3\n"
   ]
  },
  {
   "cell_type": "markdown",
   "metadata": {},
   "source": [
    "| Operador   | Sintaxe         | Condição para resultar em True               |\n",
    "|------------|-----------------|-----------------------------------------------|\n",
    "| **E (and)**  | `var1 and var2` | Ambos `var1` e `var2` devem ser True         |\n",
    "| **OU (or)**  | `var1 or var2`  | Pelo menos um entre `var1` ou `var2` é True   |\n",
    "| **NÃO (not)**| `not var1`      | Inverte `var1`: True → False, False → True     |"
   ]
  },
  {
   "cell_type": "code",
   "execution_count": null,
   "metadata": {
    "id": "g4RlHMWnxgc2"
   },
   "outputs": [],
   "source": [
    "b1 = input('Escreva True ou False: ') == 'True'\n",
    "b2 = input('Escreva True ou False: ') == 'True'\n",
    "b3 = input('Escreva True ou False: ') == 'True'\n",
    "\n",
    "print(f'Resultado: {(b1 and b2) or b3}')"
   ]
  },
  {
   "cell_type": "markdown",
   "metadata": {},
   "source": [
    "---"
   ]
  },
  {
   "cell_type": "markdown",
   "metadata": {
    "id": "iUa6I3VaxdZT"
   },
   "source": [
    "### Questão 4:\n",
    "\n",
    "Escreva um programa que receba do usuário um número inteiro x de três dígitos (exemplo: 498) e imprima na tela um número contendo os dígitos invertidos de x (894). Use somente os operadores aritméticos vistos nessa aula.\n",
    "\n"
   ]
  },
  {
   "cell_type": "code",
   "execution_count": null,
   "metadata": {
    "id": "Df-myMkuxrAh"
   },
   "outputs": [],
   "source": [
    "# sequencia[start:stop:step]\n",
    "\n",
    "num_inteiro = input('Digite aqui um número de 3 dígitos: ')\n",
    "if len(num_inteiro) > 3:\n",
    "    num_inteiro+=num_inteiro[:2]\n",
    "    invertido = num_inteiro[::-1]\n",
    "else:\n",
    "    invertido = num_inteiro[::-1]\n",
    "\n",
    "print(f'Número invertido: {invertido}')"
   ]
  }
 ],
 "metadata": {
  "colab": {
   "provenance": []
  },
  "kernelspec": {
   "display_name": "Python 3 (ipykernel)",
   "language": "python",
   "name": "python3"
  },
  "language_info": {
   "codemirror_mode": {
    "name": "ipython",
    "version": 3
   },
   "file_extension": ".py",
   "mimetype": "text/x-python",
   "name": "python",
   "nbconvert_exporter": "python",
   "pygments_lexer": "ipython3",
   "version": "3.12.3"
  }
 },
 "nbformat": 4,
 "nbformat_minor": 4
}
