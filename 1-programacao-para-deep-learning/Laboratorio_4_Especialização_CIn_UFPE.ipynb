{
 "cells": [
  {
   "cell_type": "markdown",
   "metadata": {
    "id": "SBP_iLT85zx6"
   },
   "source": [
    "#### Assunto do Laboratório 4:\n",
    "- Listas\n",
    "- Comando de iteração FOR"
   ]
  },
  {
   "cell_type": "markdown",
   "metadata": {},
   "source": [
    "---"
   ]
  },
  {
   "cell_type": "markdown",
   "metadata": {
    "id": "FoJl0XJo7ZYa"
   },
   "source": [
    "### Questão 1:\n",
    "\n",
    "Faça um programa que leia 10 números reais e mostre-os na ordem inversa."
   ]
  },
  {
   "cell_type": "code",
   "execution_count": 16,
   "metadata": {
    "id": "dRXGY9JV7eNK"
   },
   "outputs": [
    {
     "name": "stdin",
     "output_type": "stream",
     "text": [
      "Digite o número real 1:  10\n",
      "Digite o número real 2:  11\n",
      "Digite o número real 3:  12\n",
      "Digite o número real 4:  13\n",
      "Digite o número real 5:  14\n",
      "Digite o número real 6:  15\n",
      "Digite o número real 7:  16\n",
      "Digite o número real 8:  17\n",
      "Digite o número real 9:  18\n",
      "Digite o número real 10:  19\n"
     ]
    },
    {
     "name": "stdout",
     "output_type": "stream",
     "text": [
      "Ordem inversa: [19.0, 18.0, 17.0, 16.0, 15.0, 14.0, 13.0, 12.0, 11.0, 10.0]\n"
     ]
    }
   ],
   "source": [
    "num_list = []\n",
    "\n",
    "for i in range(1,11):\n",
    "    num = float(input(f'Digite o número real {i}: '))\n",
    "    num_list.append(num)\n",
    "\n",
    "print(f'Ordem inversa: {num_list[::-1]}')"
   ]
  },
  {
   "cell_type": "markdown",
   "metadata": {},
   "source": [
    "---"
   ]
  },
  {
   "cell_type": "markdown",
   "metadata": {
    "id": "MlQA7wfu6448"
   },
   "source": [
    "### Questão 2:\n",
    "\n",
    "Crie um programa que armazena vários números inteiros. A leitura deve parar até que o usuário dê como entrada um valor negativo.\n",
    "Em seguida, peça ao usuário um outro número $x$.\n",
    "Deve-se imprimir todos os números lidos menores que $x$."
   ]
  },
  {
   "cell_type": "code",
   "execution_count": 15,
   "metadata": {},
   "outputs": [
    {
     "name": "stdin",
     "output_type": "stream",
     "text": [
      "Digite um número inteiro (negativo para parar):  10\n",
      "Digite um número inteiro (negativo para parar):  20\n",
      "Digite um número inteiro (negativo para parar):  30\n",
      "Digite um número inteiro (negativo para parar):  -2\n",
      "Digite um número x:  25\n"
     ]
    },
    {
     "name": "stdout",
     "output_type": "stream",
     "text": [
      "Números menores que 25: [10, 20]\n"
     ]
    }
   ],
   "source": [
    "num_list = []\n",
    "menores_que_x = []\n",
    "\n",
    "while True:\n",
    "    num = int(input(\"Digite um número inteiro (negativo para parar): \"))\n",
    "    if num < 0:\n",
    "        break\n",
    "    num_list.append(num)\n",
    "\n",
    "x = int(input(\"Digite um número x: \"))\n",
    "\n",
    "for num in num_list:\n",
    "    if num < x:\n",
    "        menores_que_x.append(num)\n",
    "        \n",
    "print(f\"Números menores que {x}: {menores_que_x}\")"
   ]
  },
  {
   "cell_type": "markdown",
   "metadata": {},
   "source": [
    "---"
   ]
  },
  {
   "cell_type": "markdown",
   "metadata": {
    "id": "Wkjt84777pWn"
   },
   "source": [
    "### Questão 3:\n",
    "\n",
    "Faça um programa que leia um vetor de 5 números inteiros, mostre a soma e a multiplicação desses números."
   ]
  },
  {
   "cell_type": "code",
   "execution_count": 27,
   "metadata": {},
   "outputs": [
    {
     "name": "stdin",
     "output_type": "stream",
     "text": [
      "Digite um número inteiro:  10\n",
      "Digite um número inteiro:  20\n",
      "Digite um número inteiro:  30\n",
      "Digite um número inteiro:  40\n",
      "Digite um número inteiro:  50\n"
     ]
    },
    {
     "name": "stdout",
     "output_type": "stream",
     "text": [
      "Soma dos números: 150\n",
      "Multiplicação dos números: 12000000\n"
     ]
    }
   ],
   "source": [
    "num_list = []\n",
    "multiplicacao_numeros = 1\n",
    "\n",
    "while len(num_list) < 5:\n",
    "    num = int(input('Digite um número inteiro: '))\n",
    "    num_list.append(num)\n",
    "\n",
    "for i in num_list:\n",
    "    multiplicacao_numeros *= i\n",
    "\n",
    "print('Soma dos números:', sum(num_list))\n",
    "print('Multiplicação dos números:', multiplicacao_numeros)"
   ]
  },
  {
   "cell_type": "markdown",
   "metadata": {},
   "source": [
    "---"
   ]
  },
  {
   "cell_type": "markdown",
   "metadata": {
    "id": "T9qOKmZs71OP"
   },
   "source": [
    "### Questão 4:\n",
    "\n",
    "Faça um programa que leia dois vetores com 10 elementos cada. Gere um terceiro vetor de 20 elementos, cujos valores deverão ser compostos pelos elementos intercalados dos dois outros vetores."
   ]
  },
  {
   "cell_type": "code",
   "execution_count": 37,
   "metadata": {
    "id": "uPjXiecS74Np"
   },
   "outputs": [
    {
     "name": "stdin",
     "output_type": "stream",
     "text": [
      "Digite um número inteiro para a lista 1 (10x):  1\n",
      "Digite um número inteiro para a lista 1 (10x):  2\n",
      "Digite um número inteiro para a lista 1 (10x):  3\n",
      "Digite um número inteiro para a lista 1 (10x):  4\n",
      "Digite um número inteiro para a lista 1 (10x):  5\n",
      "Digite um número inteiro para a lista 1 (10x):  6\n",
      "Digite um número inteiro para a lista 1 (10x):  7\n",
      "Digite um número inteiro para a lista 1 (10x):  8\n",
      "Digite um número inteiro para a lista 1 (10x):  9\n",
      "Digite um número inteiro para a lista 1 (10x):  10\n",
      "Digite um número inteiro para a lista 2 (10x):  11\n",
      "Digite um número inteiro para a lista 2 (10x):  12\n",
      "Digite um número inteiro para a lista 2 (10x):  13\n",
      "Digite um número inteiro para a lista 2 (10x):  14\n",
      "Digite um número inteiro para a lista 2 (10x):  15\n",
      "Digite um número inteiro para a lista 2 (10x):  16\n",
      "Digite um número inteiro para a lista 2 (10x):  17\n",
      "Digite um número inteiro para a lista 2 (10x):  18\n",
      "Digite um número inteiro para a lista 2 (10x):  19\n",
      "Digite um número inteiro para a lista 2 (10x):  20\n"
     ]
    },
    {
     "name": "stdout",
     "output_type": "stream",
     "text": [
      "\n",
      "Vetor intercalado (20 elementos):\n",
      "[1, 11, 2, 12, 3, 13, 4, 14, 5, 15, 6, 16, 7, 17, 8, 18, 9, 19, 10, 20]\n"
     ]
    }
   ],
   "source": [
    "vetor_1 = []\n",
    "vetor_2 = []\n",
    "vetor_3 = []\n",
    "\n",
    "# Lendo 10 elementos para o primeiro vetor\n",
    "while len(vetor_1) < 10:\n",
    "    num = int(input('Digite um número inteiro para a lista 1 (10x): '))\n",
    "    vetor_1.append(num)\n",
    "\n",
    "# Lendo 10 elementos para o segundo vetor\n",
    "while len(vetor_2) < 10:\n",
    "    num = int(input('Digite um número inteiro para a lista 2 (10x): '))\n",
    "    vetor_2.append(num)\n",
    "\n",
    "# Intercalando os vetores\n",
    "for i in range(10):\n",
    "    vetor_3.append(vetor_1[i])\n",
    "    vetor_3.append(vetor_2[i])\n",
    "\n",
    "# Exibindo o vetor final\n",
    "print(\"\\nVetor intercalado (20 elementos):\")\n",
    "print(vetor_3)"
   ]
  },
  {
   "cell_type": "markdown",
   "metadata": {},
   "source": [
    "---"
   ]
  },
  {
   "cell_type": "markdown",
   "metadata": {
    "id": "_hDUBPA-8Aio"
   },
   "source": [
    "### Questão 5:\n",
    "\n",
    "Faça um programa que receba a temperatura média de cada mês do ano e armazene-as em uma lista. Após isto, calcule a média anual das temperaturas e mostre todas as temperaturas acima da média anual, e em que mês elas ocorreram (mostrar o mês por extenso: 1 – Janeiro, 2 – Fevereiro, . . . )."
   ]
  },
  {
   "cell_type": "code",
   "execution_count": 42,
   "metadata": {
    "id": "KAKQru5T8DdQ"
   },
   "outputs": [
    {
     "name": "stdin",
     "output_type": "stream",
     "text": [
      "Digite a temperatura média de Janeiro:  32\n",
      "Digite a temperatura média de Fevereiro:  33\n",
      "Digite a temperatura média de Março:  29\n",
      "Digite a temperatura média de Abril:  30\n",
      "Digite a temperatura média de Maio:  59\n",
      "Digite a temperatura média de Junho:  29\n",
      "Digite a temperatura média de Julho:  27\n",
      "Digite a temperatura média de Agosto:  28\n",
      "Digite a temperatura média de Setembro:  30\n",
      "Digite a temperatura média de Outubro:  31\n",
      "Digite a temperatura média de Novembro:  32\n",
      "Digite a temperatura média de Dezembro:  33\n"
     ]
    },
    {
     "name": "stdout",
     "output_type": "stream",
     "text": [
      "\n",
      "Média anual de temperatura: 32.75°C\n",
      "\n",
      "Meses com temperatura acima da média anual:\n",
      "2 - Fevereiro: 33.00°C\n",
      "5 - Maio: 59.00°C\n",
      "12 - Dezembro: 33.00°C\n"
     ]
    }
   ],
   "source": [
    "# Lista com os nomes dos meses\n",
    "meses = [\"Janeiro\", \"Fevereiro\", \"Março\", \"Abril\", \"Maio\", \"Junho\",\n",
    "         \"Julho\", \"Agosto\", \"Setembro\", \"Outubro\", \"Novembro\", \"Dezembro\"]\n",
    "\n",
    "# Lista para armazenar as temperaturas\n",
    "temperaturas = []\n",
    "contador = 0\n",
    "\n",
    "while contador < 12:\n",
    "    temp = float(input(f'Digite a temperatura média de {meses[contador]}: '))\n",
    "    temperaturas.append(temp)\n",
    "    contador += 1\n",
    "\n",
    "# Cálculo da média\n",
    "media_anual = sum(temperaturas) / len(temperaturas)\n",
    "\n",
    "# Saída formatada\n",
    "print(f\"\\nMédia anual de temperatura: {media_anual:.2f}°C\")\n",
    "print(\"\\nMeses com temperatura acima da média anual:\")\n",
    "\n",
    "for i in range(12):\n",
    "    if temperaturas[i] > media_anual:\n",
    "        print(f\"{i+1} - {meses[i]}: {temperaturas[i]:.2f}°C\")"
   ]
  },
  {
   "cell_type": "markdown",
   "metadata": {},
   "source": [
    "---"
   ]
  },
  {
   "cell_type": "markdown",
   "metadata": {
    "id": "xgARmo8p1G1S"
   },
   "source": [
    "### Questão 6:\n",
    "\n",
    "Crie um programa que lê uma sequência de números positivos do teclado, armazenando-os em uma lista. Quando o usuário digitar um número negativo, seu programa deve parar de ler os números do teclado e calcular a média e variância de todos os números armazenados e imprimir esse valor.\n",
    "\n",
    "media = $\\frac{1}{n} \\sum_{i=0}^n x_i$\n",
    "\n",
    "variancia = $\\frac{1}{n} \\sum_{i=0}^n (x_i - \\text{média})^2 $"
   ]
  },
  {
   "cell_type": "code",
   "execution_count": 41,
   "metadata": {
    "id": "ftTZoL601LPS"
   },
   "outputs": [
    {
     "name": "stdin",
     "output_type": "stream",
     "text": [
      "Digite um número positivo (ou negativo para sair):  20\n",
      "Digite um número positivo (ou negativo para sair):  40\n",
      "Digite um número positivo (ou negativo para sair):  30\n",
      "Digite um número positivo (ou negativo para sair):  -3\n"
     ]
    },
    {
     "name": "stdout",
     "output_type": "stream",
     "text": [
      "\n",
      "Média: 30.00\n",
      "Variância: 66.67\n"
     ]
    }
   ],
   "source": [
    "num_list = []\n",
    "\n",
    "num = float(input(\"Digite um número positivo (ou negativo para sair): \"))\n",
    "while num >= 0:\n",
    "    num_list.append(num)\n",
    "    num = float(input(\"Digite um número positivo (ou negativo para sair): \"))\n",
    "\n",
    "# Verifica se a lista não está vazia\n",
    "if len(num_list) > 0:\n",
    "    media = sum(num_list) / len(num_list)\n",
    "    variancia = sum((x - media) ** 2 for x in num_list) / len(num_list)\n",
    "\n",
    "    print(f\"\\nMédia: {media:.2f}\")\n",
    "    print(f\"Variância: {variancia:.2f}\")\n",
    "else:\n",
    "    print(\"\\nNenhum número positivo foi inserido.\")"
   ]
  },
  {
   "cell_type": "markdown",
   "metadata": {},
   "source": [
    "---"
   ]
  },
  {
   "cell_type": "markdown",
   "metadata": {
    "id": "04SOq_-E7jo2"
   },
   "source": [
    "### Questão 7:\n",
    "\n",
    "Em uma competição de salto em distância cada atleta tem direito a cinco saltos. O resultado do atleta será determinado pela média dos cinco valores restantes. Você deve fazer um programa que receba o nome e as cinco distâncias alcançadas pelo atleta em seus saltos e depois informe o nome, os saltos e a média dos saltos. O programa deve ser encerrado quando não for informado o nome do atleta. A saída do programa deve ser conforme o exemplo abaixo:\n",
    "\n",
    "Atleta: Rodrigo Curvêllo\n",
    "\n",
    "Primeiro Salto: 6.5 m\n",
    "\n",
    "Segundo Salto: 6.1 m\n",
    "\n",
    "Terceiro Salto: 6.2 m\n",
    "\n",
    "Quarto Salto: 5.4 m\n",
    "\n",
    "Quinto Salto: 5.3 m\n",
    "\n",
    "\n",
    ".\n",
    ".\n",
    ".\n",
    "\n",
    "\n",
    "Resultado final:\n",
    "\n",
    "Atleta: Rodrigo Curvêllo\n",
    "\n",
    "Saltos: 6.5 - 6.1 - 6.2 - 5.4 - 5.3\n",
    "\n",
    "Média dos saltos: 5.9 m"
   ]
  },
  {
   "cell_type": "code",
   "execution_count": 43,
   "metadata": {
    "id": "1j8OPmQD85wj"
   },
   "outputs": [
    {
     "name": "stdin",
     "output_type": "stream",
     "text": [
      "Atleta:  Débora Freitas\n",
      "Primeiro Salto:  10\n",
      "Segundo Salto:  10\n",
      "Terceiro Salto:  10\n",
      "Quarto Salto:  10\n",
      "Quinto Salto:  10\n"
     ]
    },
    {
     "name": "stdout",
     "output_type": "stream",
     "text": [
      "\n",
      "Resultado final:\n",
      "Atleta: Débora Freitas\n",
      "Saltos: 10.0 - 10.0 - 10.0 - 10.0 - 10.0\n",
      "Média dos saltos: 10.0 m\n",
      "\n"
     ]
    },
    {
     "name": "stdin",
     "output_type": "stream",
     "text": [
      "Atleta:  \n"
     ]
    }
   ],
   "source": [
    "nomes_saltos = [\"Primeiro\", \"Segundo\", \"Terceiro\", \"Quarto\", \"Quinto\"]\n",
    "\n",
    "while True:\n",
    "    nome = input(\"Atleta: \")\n",
    "\n",
    "    if nome.strip() == \"\":\n",
    "        break\n",
    "\n",
    "    saltos = []\n",
    "\n",
    "    for i in range(5):\n",
    "        salto = float(input(f\"{nomes_saltos[i]} Salto: \"))\n",
    "        saltos.append(salto)\n",
    "\n",
    "    media = sum(saltos) / len(saltos)\n",
    "\n",
    "    print(\"\\nResultado final:\")\n",
    "    print(f\"Atleta: {nome}\")\n",
    "    print(\"Saltos:\", \" - \".join(f\"{s:.1f}\" for s in saltos))\n",
    "    print(f\"Média dos saltos: {media:.1f} m\\n\")"
   ]
  },
  {
   "cell_type": "markdown",
   "metadata": {},
   "source": [
    "---"
   ]
  },
  {
   "cell_type": "markdown",
   "metadata": {
    "id": "ZDg_s8Nx861N"
   },
   "source": [
    "### Questão 8:\n",
    "\n",
    "Crie um programa que lê um inteiro N do teclado, calcula todos os números primos entre 1 e N e os guarda em uma lista. Ao final da execução, o programa apresenta todos, separados por vírgulas (mas sem vírgula depois do último!)\n"
   ]
  },
  {
   "cell_type": "code",
   "execution_count": 44,
   "metadata": {
    "id": "U0gR5Nsp7i_l"
   },
   "outputs": [
    {
     "name": "stdin",
     "output_type": "stream",
     "text": [
      "Digite um número inteiro positivo:  45\n"
     ]
    },
    {
     "name": "stdout",
     "output_type": "stream",
     "text": [
      "2, 3, 5, 7, 11, 13, 17, 19, 23, 29, 31, 37, 41, 43\n"
     ]
    }
   ],
   "source": [
    "# Lista para armazenar os números primos\n",
    "primos = []\n",
    "\n",
    "# Solicita ao usuário um número inteiro positivo\n",
    "N = int(input(\"Digite um número inteiro positivo: \"))\n",
    "while N <= 0:\n",
    "    print(\"Por favor, digite um número maior que zero.\")\n",
    "    N = int(input(\"Digite um número inteiro positivo: \"))\n",
    "\n",
    "# Verifica todos os números de 2 até N\n",
    "for num in range(2, N + 1):\n",
    "    eh_primo = True  # Assume que o número é primo\n",
    "\n",
    "    # Verifica se num é divisível por algum número de 2 até num - 1\n",
    "    i = 2\n",
    "    while i < num:\n",
    "        if num % i == 0:\n",
    "            eh_primo = False\n",
    "            break\n",
    "        i += 1\n",
    "\n",
    "    if eh_primo:\n",
    "        primos.append(num)\n",
    "\n",
    "# Exibe os números primos separados por vírgula (sem vírgula final)\n",
    "for i in range(len(primos)):\n",
    "    if i < len(primos) - 1:\n",
    "        print(primos[i], end=\", \")\n",
    "    else:\n",
    "        print(primos[i])"
   ]
  }
 ],
 "metadata": {
  "colab": {
   "provenance": []
  },
  "kernelspec": {
   "display_name": "Python 3 (ipykernel)",
   "language": "python",
   "name": "python3"
  },
  "language_info": {
   "codemirror_mode": {
    "name": "ipython",
    "version": 3
   },
   "file_extension": ".py",
   "mimetype": "text/x-python",
   "name": "python",
   "nbconvert_exporter": "python",
   "pygments_lexer": "ipython3",
   "version": "3.12.3"
  }
 },
 "nbformat": 4,
 "nbformat_minor": 4
}
