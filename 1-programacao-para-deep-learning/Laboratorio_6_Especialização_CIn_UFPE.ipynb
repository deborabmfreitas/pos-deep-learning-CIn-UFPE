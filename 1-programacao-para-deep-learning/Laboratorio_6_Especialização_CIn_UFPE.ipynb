{
 "cells": [
  {
   "cell_type": "markdown",
   "metadata": {
    "id": "5b0JgHd19utr"
   },
   "source": [
    "#### Assunto do Laboratório 6:\n",
    "- Funções"
   ]
  },
  {
   "cell_type": "markdown",
   "metadata": {},
   "source": [
    "---"
   ]
  },
  {
   "cell_type": "markdown",
   "metadata": {
    "id": "S20Kdlr691MV"
   },
   "source": [
    "### Questão 1:\n",
    "\n",
    "Faça uma função que imprima o seguinte texto:\n",
    "\n",
    "\\*\\*\\*\\*\\*\\*\\*\\*\\*\\*\\*\\*\\*\\*\\*\\*\\*\\*\\*\\*\\*\\*\\*\n",
    "\n",
    "Especialização em Deep Learning\n",
    "\n",
    "\\*\\*\\*\\*\\*\\*\\*\\*\\*\\*\\*\\*\\*\\*\\*\\*\\*\\*\\*\\*\\*\\*\\*\n"
   ]
  },
  {
   "cell_type": "code",
   "execution_count": 1,
   "metadata": {
    "id": "BwOxhAeg-ACp"
   },
   "outputs": [],
   "source": [
    "def nome_especialização():\n",
    "    print('Especialização em Deep Learning')"
   ]
  },
  {
   "cell_type": "code",
   "execution_count": 2,
   "metadata": {},
   "outputs": [
    {
     "name": "stdout",
     "output_type": "stream",
     "text": [
      "Especialização em Deep Learning\n"
     ]
    }
   ],
   "source": [
    "nome_especialização()"
   ]
  },
  {
   "cell_type": "markdown",
   "metadata": {},
   "source": [
    "---"
   ]
  },
  {
   "cell_type": "markdown",
   "metadata": {
    "id": "vZCKFy6Q-A9g"
   },
   "source": [
    "### Questão 2:\n",
    "\n",
    "Escreva uma função _desenha_retangulo_solido_ que exibe um retângulo sólido composto inteiramente do mesmo caractere. A função deverá ser capaz de desenhar retângulos de tamanho parametrizável, de modo que os parâmetros deverão incluir quantidade de linhas, quantidade de\n",
    "colunas e caractere desejado. Por exemplo, se a quantidade de linhas for 5, quantidade de colunas for 20 e o caractere for ’M’, a função deverá exibir:\n",
    "\n",
    "\n",
    "MMMMMMMMMMMMMMMMMMMM\n",
    "\n",
    "MMMMMMMMMMMMMMMMMMMM\n",
    "\n",
    "MMMMMMMMMMMMMMMMMMMM\n",
    "\n",
    "MMMMMMMMMMMMMMMMMMMM\n",
    "\n",
    "MMMMMMMMMMMMMMMMMMMM"
   ]
  },
  {
   "cell_type": "code",
   "execution_count": 3,
   "metadata": {
    "id": "gqr3RF75-Joi"
   },
   "outputs": [],
   "source": [
    "def desenha_retangulo_solido(linhas, colunas, caractere):\n",
    "    for _ in range(linhas):\n",
    "        print(caractere * colunas)"
   ]
  },
  {
   "cell_type": "code",
   "execution_count": 4,
   "metadata": {},
   "outputs": [
    {
     "name": "stdout",
     "output_type": "stream",
     "text": [
      "MMMMMMMMMMMMMMMMMMMM\n",
      "MMMMMMMMMMMMMMMMMMMM\n",
      "MMMMMMMMMMMMMMMMMMMM\n",
      "MMMMMMMMMMMMMMMMMMMM\n",
      "MMMMMMMMMMMMMMMMMMMM\n"
     ]
    }
   ],
   "source": [
    "desenha_retangulo_solido(5, 20, 'M')"
   ]
  },
  {
   "cell_type": "code",
   "execution_count": 5,
   "metadata": {},
   "outputs": [
    {
     "name": "stdout",
     "output_type": "stream",
     "text": [
      "<3<3<3<3<3<3<3<3<3<3\n",
      "<3<3<3<3<3<3<3<3<3<3\n",
      "<3<3<3<3<3<3<3<3<3<3\n",
      "<3<3<3<3<3<3<3<3<3<3\n",
      "<3<3<3<3<3<3<3<3<3<3\n"
     ]
    }
   ],
   "source": [
    "desenha_retangulo_solido(5, 10, '<3')"
   ]
  },
  {
   "cell_type": "markdown",
   "metadata": {},
   "source": [
    "---"
   ]
  },
  {
   "cell_type": "markdown",
   "metadata": {
    "id": "J2FhRnwM9Ms2"
   },
   "source": [
    "### Questão 3:\n",
    "\n",
    "Fazer um programa que receba um número que corresponda a um mês. A função deve retornar a string do nome do mês correspondente. Caso o usuário digite um número fora do intervalo permitido, deverá retornar uma mensagem de erro \"MÊS INVALIDO\"."
   ]
  },
  {
   "cell_type": "code",
   "execution_count": 6,
   "metadata": {},
   "outputs": [],
   "source": [
    "def retorno_mes(numero_mes):\n",
    "    dic_meses = {1:'Janeiro',\n",
    "                2:'Fevereiro',\n",
    "                3:'Março',\n",
    "                4:'Abril',\n",
    "                5:'Maio',\n",
    "                6:'Junho',\n",
    "                7:'Julho',\n",
    "                8:'Agosto',\n",
    "                9:'Setembro',\n",
    "                10:'Outubro',\n",
    "                11:'Novembro',\n",
    "                12:'Dezembro'}\n",
    "    \n",
    "    if numero_mes not in dic_meses:\n",
    "        print('Mês inválido')\n",
    "    else:\n",
    "        print(f'O mês escolhido foi: {dic_meses.get(numero_mes)}')"
   ]
  },
  {
   "cell_type": "code",
   "execution_count": 7,
   "metadata": {},
   "outputs": [
    {
     "name": "stdout",
     "output_type": "stream",
     "text": [
      "O mês escolhido foi: Julho\n"
     ]
    }
   ],
   "source": [
    "retorno_mes(numero_mes=7)"
   ]
  },
  {
   "cell_type": "code",
   "execution_count": 8,
   "metadata": {},
   "outputs": [
    {
     "name": "stdout",
     "output_type": "stream",
     "text": [
      "Mês inválido\n"
     ]
    }
   ],
   "source": [
    "retorno_mes(numero_mes=13)"
   ]
  },
  {
   "cell_type": "markdown",
   "metadata": {},
   "source": [
    "---"
   ]
  },
  {
   "cell_type": "markdown",
   "metadata": {
    "id": "aWCv-i7t9QCq"
   },
   "source": [
    "### Questão 4:\n",
    "\n",
    " Fazer uma função que calcula e retorna o fatorial de um número inteiro qualquer."
   ]
  },
  {
   "cell_type": "code",
   "execution_count": 9,
   "metadata": {
    "id": "9uXEEBsH9U93"
   },
   "outputs": [],
   "source": [
    "def fatorial_inteiro(n):\n",
    "    if n == 0:\n",
    "        return 1\n",
    "    else:\n",
    "        return n * fatorial_inteiro(n-1) # Recursão"
   ]
  },
  {
   "cell_type": "code",
   "execution_count": 10,
   "metadata": {},
   "outputs": [
    {
     "data": {
      "text/plain": [
       "6"
      ]
     },
     "execution_count": 10,
     "metadata": {},
     "output_type": "execute_result"
    }
   ],
   "source": [
    "fatorial_inteiro(3)"
   ]
  },
  {
   "cell_type": "code",
   "execution_count": 11,
   "metadata": {},
   "outputs": [
    {
     "data": {
      "text/plain": [
       "40320"
      ]
     },
     "execution_count": 11,
     "metadata": {},
     "output_type": "execute_result"
    }
   ],
   "source": [
    "fatorial_inteiro(8)"
   ]
  },
  {
   "cell_type": "markdown",
   "metadata": {},
   "source": [
    "**1ª vez:**\n",
    "\n",
    "n = 3  \n",
    "return 3 * fatorial_inteiro(2)\n",
    "\n",
    "**2ª vez:**\n",
    "\n",
    "n = 2  \n",
    "return 2 * fatorial_inteiro(1)\n",
    "\n",
    "**3ª vez:**\n",
    "\n",
    "n = 1  \n",
    "return 1 * fatorial_inteiro(0)\n",
    "\n",
    "**4ª vez:**\n",
    "\n",
    "n = 0  \n",
    "return 1"
   ]
  },
  {
   "cell_type": "markdown",
   "metadata": {},
   "source": [
    "---"
   ]
  },
  {
   "cell_type": "markdown",
   "metadata": {
    "id": "0F86MPIp-MxF"
   },
   "source": [
    "### Questão 5:\n",
    "\n",
    "Fazer uma função que receba um caractere como parâmetro e retorne 1 caso o caractere seja uma consoante, ou 0 caso contrário."
   ]
  },
  {
   "cell_type": "code",
   "execution_count": 12,
   "metadata": {
    "id": "WZ-NICgO-Q35"
   },
   "outputs": [],
   "source": [
    "def retorna_caractere(caractere):\n",
    "    consoantes = ['b', 'c', 'd', 'f', 'g', 'h', 'j', 'k', 'l', 'm', \n",
    "              'n', 'p', 'q', 'r', 's', 't', 'v', 'w', 'x', 'y', 'z']\n",
    "\n",
    "    if caractere in consoantes:\n",
    "        return 1\n",
    "    else:\n",
    "        return 0"
   ]
  },
  {
   "cell_type": "code",
   "execution_count": 13,
   "metadata": {},
   "outputs": [
    {
     "data": {
      "text/plain": [
       "1"
      ]
     },
     "execution_count": 13,
     "metadata": {},
     "output_type": "execute_result"
    }
   ],
   "source": [
    "retorna_caractere('c')"
   ]
  },
  {
   "cell_type": "code",
   "execution_count": 14,
   "metadata": {},
   "outputs": [
    {
     "data": {
      "text/plain": [
       "0"
      ]
     },
     "execution_count": 14,
     "metadata": {},
     "output_type": "execute_result"
    }
   ],
   "source": [
    "retorna_caractere('a')"
   ]
  },
  {
   "cell_type": "markdown",
   "metadata": {},
   "source": [
    "---"
   ]
  },
  {
   "cell_type": "markdown",
   "metadata": {
    "id": "-Gr7xwMW-UY7"
   },
   "source": [
    "### Questão 6:\n",
    "\n",
    "Construa uma função chamada _to_lower_case_ que receba uma string. A função deverá retornar uma outra string cujo conteúdo seja o\n",
    "mesmo da string original, mas com todas as letras minúsculas. Considere que pode haver caracteres ASCII que não são letras, como pontos e vírgula.  Considere que não será passado caracteres com acentuação ou marcação especial (acento, trema, cedilha)."
   ]
  },
  {
   "cell_type": "code",
   "execution_count": 15,
   "metadata": {},
   "outputs": [],
   "source": [
    "import unidecode"
   ]
  },
  {
   "cell_type": "code",
   "execution_count": 16,
   "metadata": {
    "id": "iZgxIV8K-d87"
   },
   "outputs": [],
   "source": [
    "def to_lower_case(string):\n",
    "    print(unidecode.unidecode(string.lower()))"
   ]
  },
  {
   "cell_type": "code",
   "execution_count": 17,
   "metadata": {},
   "outputs": [
    {
     "name": "stdout",
     "output_type": "stream",
     "text": [
      "debora\n"
     ]
    }
   ],
   "source": [
    "to_lower_case('Débora')"
   ]
  },
  {
   "cell_type": "markdown",
   "metadata": {},
   "source": [
    "---"
   ]
  },
  {
   "cell_type": "markdown",
   "metadata": {
    "id": "ZPpt0X7pUNSE"
   },
   "source": [
    "### Questão 7:\n",
    "\n",
    "Escreva\t uma\t função\t que\t receba 3\t notas\t de\t um\t aluno\t e\t uma\t letra.\t Se\t a\tletra\tfor\t\"A\"\ta\tfunção\tretorna a\tmédia\taritmética\tdas\tnotas do\taluno,\tse\tfor\t\"P\",\t a\t sua\t média\t ponderada\t (pesos:\t 5,\t 3\t e\t 2)\t e\t se\t for\t \"H\",\t a\t sua\t média\tharmônica."
   ]
  },
  {
   "cell_type": "code",
   "execution_count": 18,
   "metadata": {
    "id": "L3gLGbUdUWsx"
   },
   "outputs": [],
   "source": [
    "def media(n1, n2, n3, letra):\n",
    "    if letra == 'A':\n",
    "        return (n1 + n2 + n3) / 3\n",
    "    elif letra == 'P':\n",
    "        return (n1 * 5 + n2 * 3 + n3 * 2) / 10\n",
    "    elif letra == 'H':\n",
    "        return 3 / (1/n1 + 1/n2 + 1/n3)"
   ]
  },
  {
   "cell_type": "code",
   "execution_count": 19,
   "metadata": {},
   "outputs": [
    {
     "data": {
      "text/plain": [
       "8.5"
      ]
     },
     "execution_count": 19,
     "metadata": {},
     "output_type": "execute_result"
    }
   ],
   "source": [
    "media(10,8,7.5,'A')"
   ]
  },
  {
   "cell_type": "code",
   "execution_count": 20,
   "metadata": {},
   "outputs": [
    {
     "data": {
      "text/plain": [
       "8.9"
      ]
     },
     "execution_count": 20,
     "metadata": {},
     "output_type": "execute_result"
    }
   ],
   "source": [
    "media(10,8,7.5,'P')"
   ]
  },
  {
   "cell_type": "code",
   "execution_count": 21,
   "metadata": {},
   "outputs": [
    {
     "data": {
      "text/plain": [
       "8.372093023255815"
      ]
     },
     "execution_count": 21,
     "metadata": {},
     "output_type": "execute_result"
    }
   ],
   "source": [
    "media(10,8,7.5,'H')"
   ]
  },
  {
   "cell_type": "markdown",
   "metadata": {},
   "source": [
    "---"
   ]
  },
  {
   "cell_type": "markdown",
   "metadata": {
    "id": "r04DPX4oVKiB"
   },
   "source": [
    "### Questão 8:\n",
    "\n",
    "Faça uma função que recebe uma lista de strings (por exemplo: [\"Fernando\", \"José\", \"Maria\", \"Pedro\"]) que representa uma lista de convidados, assim como recebe como entrada um nome como uma string. A função deve retornar *True* se essa string está na lista de convidados, ou *False* caso contrário.\n"
   ]
  },
  {
   "cell_type": "code",
   "execution_count": 22,
   "metadata": {
    "id": "X05kEu0zVGag"
   },
   "outputs": [],
   "source": [
    "def convidado(lista_convidados, pessoa):\n",
    "    if pessoa in lista_convidados:\n",
    "        return True\n",
    "    else:\n",
    "        return False"
   ]
  },
  {
   "cell_type": "code",
   "execution_count": 23,
   "metadata": {},
   "outputs": [],
   "source": [
    "lista = ['Fernando', 'José', 'Maria', 'Pedro']"
   ]
  },
  {
   "cell_type": "code",
   "execution_count": 24,
   "metadata": {},
   "outputs": [
    {
     "data": {
      "text/plain": [
       "True"
      ]
     },
     "execution_count": 24,
     "metadata": {},
     "output_type": "execute_result"
    }
   ],
   "source": [
    "convidado(lista, 'Maria')"
   ]
  },
  {
   "cell_type": "code",
   "execution_count": 25,
   "metadata": {},
   "outputs": [
    {
     "data": {
      "text/plain": [
       "False"
      ]
     },
     "execution_count": 25,
     "metadata": {},
     "output_type": "execute_result"
    }
   ],
   "source": [
    "convidado(lista, 'Débora')"
   ]
  },
  {
   "cell_type": "markdown",
   "metadata": {},
   "source": [
    "---"
   ]
  },
  {
   "cell_type": "markdown",
   "metadata": {
    "id": "OxTjURugUaGu"
   },
   "source": [
    "### Questão 9:\n",
    "\n",
    "Faça uma função que recebe uma lista de listas com produtos e valores\n",
    "(por exemplo: [ [\"Feijão\", 9.95], [\"Macarrão\", 4.32], [\"Arroz\", 7.43]]), e uma lista de compras (por exemplo: [\"Feijão\", \"Arroz\"]).\n",
    ".\n",
    "Sua função deve retornar o valor a ser pago por essa lista de compras."
   ]
  },
  {
   "cell_type": "code",
   "execution_count": 26,
   "metadata": {
    "id": "8Snir4J2V07-"
   },
   "outputs": [],
   "source": [
    "def valor_a_pagar(produtos, lista_compras):\n",
    "    total = 0\n",
    "    for item in lista_compras:\n",
    "        for produto in produtos:\n",
    "            if produto[0] == item:\n",
    "                total += produto[1]\n",
    "                break\n",
    "    return total"
   ]
  },
  {
   "cell_type": "code",
   "execution_count": 27,
   "metadata": {},
   "outputs": [
    {
     "name": "stdout",
     "output_type": "stream",
     "text": [
      "17.38\n"
     ]
    }
   ],
   "source": [
    "produtos = [[\"Feijão\", 9.95], [\"Macarrão\", 4.32], [\"Arroz\", 7.43]]\n",
    "lista_compras = [\"Feijão\", \"Arroz\"]\n",
    "print(valor_a_pagar(produtos, lista_compras))"
   ]
  },
  {
   "cell_type": "markdown",
   "metadata": {},
   "source": [
    "---"
   ]
  },
  {
   "cell_type": "markdown",
   "metadata": {
    "id": "0GmoqyGaV3Lq"
   },
   "source": [
    "### Questão 10:\n",
    "\n",
    "Faça um programa que use a função _valorPagamento_ para determinar o valor a ser pago por uma prestação de uma conta. O programa deverá solicitar ao usuário o valor da prestação e o número de dias em atraso e passar estes valores para a função valorPagamento, que calculará o valor a ser pago e devolverá este valor ao programa que a chamou. O programa deverá então exibir o valor a ser pago na tela. Após a execução o programa deverá voltar a pedir outro valor de prestação e assim continuar até que seja informado um valor igual a zero para a prestação. Neste momento o programa deverá ser encerrado, exibindo o relatório do dia, que conterá a quantidade e o valor total de prestações pagas no dia. O cálculo do valor a ser pago é feito da seguinte forma. Para pagamentos sem atraso, cobrar o valor da prestação. Quando houver atraso, cobrar 3% de multa, mais 0,1% de juros por dia de atraso."
   ]
  },
  {
   "cell_type": "code",
   "execution_count": 28,
   "metadata": {
    "id": "e9GZTiPbWV91"
   },
   "outputs": [
    {
     "name": "stdin",
     "output_type": "stream",
     "text": [
      "Valor da prestação (0 para sair):  500\n",
      "Dias em atraso:  7\n"
     ]
    },
    {
     "name": "stdout",
     "output_type": "stream",
     "text": [
      "Valor a pagar: R$ 518.50\n"
     ]
    },
    {
     "name": "stdin",
     "output_type": "stream",
     "text": [
      "Valor da prestação (0 para sair):  0\n"
     ]
    },
    {
     "name": "stdout",
     "output_type": "stream",
     "text": [
      "\n",
      "Total de prestações pagas: 1\n",
      "Valor total pago: R$ 518.50\n"
     ]
    }
   ],
   "source": [
    "def valorPagamento(valor, atraso):\n",
    "    if atraso == 0:\n",
    "        return valor\n",
    "    return valor * (1 + 0.03 + 0.001 * atraso)\n",
    "\n",
    "total = 0\n",
    "count = 0\n",
    "\n",
    "while True:\n",
    "    valor = float(input(\"Valor da prestação (0 para sair): \"))\n",
    "    if valor == 0:\n",
    "        break\n",
    "    atraso = int(input(\"Dias em atraso: \"))\n",
    "    pagar = valorPagamento(valor, atraso)\n",
    "    print(f\"Valor a pagar: R$ {pagar:.2f}\")\n",
    "    total += pagar\n",
    "    count += 1\n",
    "\n",
    "print(f\"\\nTotal de prestações pagas: {count}\")\n",
    "print(f\"Valor total pago: R$ {total:.2f}\")"
   ]
  }
 ],
 "metadata": {
  "colab": {
   "provenance": []
  },
  "kernelspec": {
   "display_name": "Python 3 (ipykernel)",
   "language": "python",
   "name": "python3"
  },
  "language_info": {
   "codemirror_mode": {
    "name": "ipython",
    "version": 3
   },
   "file_extension": ".py",
   "mimetype": "text/x-python",
   "name": "python",
   "nbconvert_exporter": "python",
   "pygments_lexer": "ipython3",
   "version": "3.12.3"
  }
 },
 "nbformat": 4,
 "nbformat_minor": 4
}
