{
 "cells": [
  {
   "cell_type": "markdown",
   "metadata": {
    "id": "SBP_iLT85zx6"
   },
   "source": [
    "#### Assunto do Laboratório 3:\n",
    "- Comando de iteração While"
   ]
  },
  {
   "cell_type": "markdown",
   "metadata": {},
   "source": [
    "---"
   ]
  },
  {
   "cell_type": "markdown",
   "metadata": {
    "id": "xgARmo8p1G1S"
   },
   "source": [
    "### Questão 1:\n",
    "\n",
    "Crie um programa que imprima todos os números pares de 0 a 100."
   ]
  },
  {
   "cell_type": "code",
   "execution_count": 12,
   "metadata": {},
   "outputs": [
    {
     "name": "stdout",
     "output_type": "stream",
     "text": [
      "0\n",
      "2\n",
      "4\n",
      "6\n",
      "8\n",
      "10\n",
      "12\n",
      "14\n",
      "16\n",
      "18\n",
      "20\n",
      "22\n",
      "24\n",
      "26\n",
      "28\n",
      "30\n",
      "32\n",
      "34\n",
      "36\n",
      "38\n",
      "40\n",
      "42\n",
      "44\n",
      "46\n",
      "48\n",
      "50\n",
      "52\n",
      "54\n",
      "56\n",
      "58\n",
      "60\n",
      "62\n",
      "64\n",
      "66\n",
      "68\n",
      "70\n",
      "72\n",
      "74\n",
      "76\n",
      "78\n",
      "80\n",
      "82\n",
      "84\n",
      "86\n",
      "88\n",
      "90\n",
      "92\n",
      "94\n",
      "96\n",
      "98\n",
      "100\n"
     ]
    }
   ],
   "source": [
    "num_list = 0\n",
    "\n",
    "while num_list <= 100:\n",
    "    print(num_list)\n",
    "    num_list += 2"
   ]
  },
  {
   "cell_type": "markdown",
   "metadata": {},
   "source": [
    "---"
   ]
  },
  {
   "cell_type": "markdown",
   "metadata": {
    "id": "CoXpwF-S1jpD"
   },
   "source": [
    "### Questão 2:\n",
    "\n",
    "Desenvolver um algoritmo que efetue a soma de todos os números ímpares que são múltiplos de três e que se encontram no conjunto dos números de 1 até 500."
   ]
  },
  {
   "cell_type": "code",
   "execution_count": 17,
   "metadata": {
    "id": "cP5aW8Wx1lzB"
   },
   "outputs": [
    {
     "name": "stdout",
     "output_type": "stream",
     "text": [
      "Soma dos ímpares múltiplos de 3 entre 1 e 500: 20667\n"
     ]
    }
   ],
   "source": [
    "lista_nums = 1\n",
    "lista_soma = 0\n",
    "\n",
    "while lista_nums <= 500:\n",
    "    if lista_nums % 3 == 0 and lista_nums % 2 != 0:\n",
    "        lista_soma += lista_nums\n",
    "    lista_nums += 1\n",
    "    \n",
    "print(\"Soma dos ímpares múltiplos de 3 entre 1 e 500:\", lista_soma)"
   ]
  },
  {
   "cell_type": "markdown",
   "metadata": {},
   "source": [
    "---"
   ]
  },
  {
   "cell_type": "markdown",
   "metadata": {
    "id": "YbYcwRqD1p9m"
   },
   "source": [
    "### Questão 3:\n",
    "\n",
    "Desenvolver um algoritmo que leia a altura de 15 pessoas. Este programa deverá calcular e mostrar :\n",
    "\n",
    "a. A menor altura do grupo;\n",
    "\n",
    "b. A maior altura do grupo;"
   ]
  },
  {
   "cell_type": "code",
   "execution_count": 18,
   "metadata": {
    "colab": {
     "base_uri": "https://localhost:8080/"
    },
    "id": "99SPhTHK1vpn",
    "outputId": "de2b756a-883c-4312-ff2d-b2b2804fcc08"
   },
   "outputs": [
    {
     "name": "stdin",
     "output_type": "stream",
     "text": [
      "Digite a altura: 1 1.50\n",
      "Digite a altura: 2 1.34\n",
      "Digite a altura: 3 1.64\n",
      "Digite a altura: 4 2.00\n",
      "Digite a altura: 5 1.98\n",
      "Digite a altura: 6 1.95\n",
      "Digite a altura: 7 1.40\n",
      "Digite a altura: 8 1.66\n",
      "Digite a altura: 9 1.54\n",
      "Digite a altura: 10 2.10\n",
      "Digite a altura: 11 1.32\n",
      "Digite a altura: 12 1.57\n",
      "Digite a altura: 13 1.62\n",
      "Digite a altura: 14 1.67\n",
      "Digite a altura: 15 1.32\n"
     ]
    },
    {
     "name": "stdout",
     "output_type": "stream",
     "text": [
      "A maior altura é:  2.1 e a menor altura é:  1.32\n"
     ]
    }
   ],
   "source": [
    "cont = 0\n",
    "\n",
    "maior_altura = 0\n",
    "menor_altura = 999999999\n",
    "\n",
    "while cont < 15:\n",
    "    altura = float(input (\"Digite a altura: \"+str(cont+1)))\n",
    "    if altura > maior_altura:\n",
    "        maior_altura = altura\n",
    "    if altura < menor_altura:\n",
    "        menor_altura = altura\n",
    "    cont+=1\n",
    "\n",
    "print (\"A maior altura é: \", maior_altura, \"e a menor altura é: \", menor_altura)"
   ]
  },
  {
   "cell_type": "markdown",
   "metadata": {},
   "source": [
    "---"
   ]
  },
  {
   "cell_type": "markdown",
   "metadata": {
    "id": "Jpmd0T431Opv"
   },
   "source": [
    "### Questão 4:\n",
    "\n",
    "Construa um programa que lê um número inteiro N a partir do teclado e calcula a raiz quinta inteira desse número, se houver. Caso não haja, ele deve informar isso ao usuário."
   ]
  },
  {
   "cell_type": "code",
   "execution_count": 27,
   "metadata": {
    "colab": {
     "base_uri": "https://localhost:8080/"
    },
    "id": "R1Ww8HpJywz_",
    "outputId": "a5130bac-d0ba-404e-d999-05f710a6623f"
   },
   "outputs": [
    {
     "name": "stdin",
     "output_type": "stream",
     "text": [
      "Digite um número inteiro:  65\n"
     ]
    },
    {
     "name": "stdout",
     "output_type": "stream",
     "text": [
      "65 não tem raiz quinta inteira\n"
     ]
    }
   ],
   "source": [
    "x = int(input(\"Digite um número inteiro: \"))\n",
    "i =1\n",
    "raiz_quinta = 0\n",
    "\n",
    "while i < x and raiz_quinta == 0:\n",
    "  if i**5 == x:\n",
    "    raiz_quinta = i\n",
    "    print(f\"A raiz quinta de {x} é {raiz_quinta}.\")\n",
    "  i += 1\n",
    "\n",
    "if raiz_quinta == 0:\n",
    "  print(f\"{x} não tem raiz quinta inteira\")"
   ]
  },
  {
   "cell_type": "markdown",
   "metadata": {},
   "source": [
    "---"
   ]
  },
  {
   "cell_type": "markdown",
   "metadata": {
    "id": "oOj04WB91dPr"
   },
   "source": [
    "### Questão 5:\n",
    "\n",
    "Escrever um algoritmo que leia uma quantidade desconhecida de números e conte quantos deles estão nos seguintes intervalos: [0-25], [26-50], [51-75] e [76-100]. A entrada de dados deve terminar quando for lido um número negativo."
   ]
  },
  {
   "cell_type": "code",
   "execution_count": 31,
   "metadata": {
    "colab": {
     "base_uri": "https://localhost:8080/"
    },
    "id": "0BOxc3XD19xS",
    "outputId": "666de2c7-8ccc-4ed2-b367-03a103b2c223"
   },
   "outputs": [
    {
     "name": "stdin",
     "output_type": "stream",
     "text": [
      "Digite um número (negativo para sair):  10\n",
      "Digite um número (negativo para sair):  25\n",
      "Digite um número (negativo para sair):  27\n",
      "Digite um número (negativo para sair):  45\n",
      "Digite um número (negativo para sair):  90\n",
      "Digite um número (negativo para sair):  -1\n"
     ]
    },
    {
     "name": "stdout",
     "output_type": "stream",
     "text": [
      "Quantidade de números no intervalo [0-25]: 2\n",
      "Quantidade de números no intervalo [26-50]: 2\n",
      "Quantidade de números no intervalo [51-75]: 0\n",
      "Quantidade de números no intervalo [76-100]: 1\n"
     ]
    }
   ],
   "source": [
    "cont_0_25 = 0\n",
    "cont_26_50 = 0\n",
    "cont_51_75 = 0\n",
    "cont_76_100 = 0\n",
    "\n",
    "while True:\n",
    "    numero = int(input(\"Digite um número (negativo para sair): \"))\n",
    "    if numero < 0:\n",
    "        break\n",
    "    if 0 <= numero <= 25:\n",
    "        cont_0_25 += 1\n",
    "    elif 26 <= numero <= 50:\n",
    "        cont_26_50 += 1\n",
    "    elif 51 <= numero <= 75:\n",
    "        cont_51_75 += 1\n",
    "    elif 76 <= numero <= 100:\n",
    "        cont_76_100 += 1\n",
    "\n",
    "print(f\"Quantidade de números no intervalo [0-25]: {cont_0_25}\")\n",
    "print(f\"Quantidade de números no intervalo [26-50]: {cont_26_50}\")\n",
    "print(f\"Quantidade de números no intervalo [51-75]: {cont_51_75}\")\n",
    "print(f\"Quantidade de números no intervalo [76-100]: {cont_76_100}\")"
   ]
  },
  {
   "cell_type": "markdown",
   "metadata": {},
   "source": [
    "---"
   ]
  },
  {
   "cell_type": "markdown",
   "metadata": {
    "id": "NETHSKP94ZiU"
   },
   "source": [
    "### Questão 6:\n",
    "\n",
    "Faça um algoritmo estruturado que leia uma quantidade não determinada de números positivos. Calcule a quantidade de números pares e ímpares, a média de valores pares e a média geral dos números lidos. O número que encerrará a leitura será zero."
   ]
  },
  {
   "cell_type": "code",
   "execution_count": 33,
   "metadata": {
    "id": "jGqNeLpm1HXQ"
   },
   "outputs": [
    {
     "name": "stdin",
     "output_type": "stream",
     "text": [
      "Digite um número positivo (0 para sair):  10\n",
      "Digite um número positivo (0 para sair):  15\n",
      "Digite um número positivo (0 para sair):  20\n",
      "Digite um número positivo (0 para sair):  25\n",
      "Digite um número positivo (0 para sair):  30\n",
      "Digite um número positivo (0 para sair):  35\n",
      "Digite um número positivo (0 para sair):  40\n",
      "Digite um número positivo (0 para sair):  45\n",
      "Digite um número positivo (0 para sair):  50\n",
      "Digite um número positivo (0 para sair):  55\n",
      "Digite um número positivo (0 para sair):  60\n",
      "Digite um número positivo (0 para sair):  65\n",
      "Digite um número positivo (0 para sair):  70\n",
      "Digite um número positivo (0 para sair):  75\n",
      "Digite um número positivo (0 para sair):  0\n"
     ]
    },
    {
     "name": "stdout",
     "output_type": "stream",
     "text": [
      "Quantidade de números pares: 7\n",
      "Quantidade de números ímpares: 7\n",
      "Média dos números pares: 40.00\n",
      "Média geral dos números: 42.50\n"
     ]
    }
   ],
   "source": [
    "cont_pares = 0\n",
    "cont_impares = 0\n",
    "soma_pares = 0\n",
    "soma_total = 0\n",
    "cont_total = 0\n",
    "\n",
    "while True:\n",
    "    numero = int(input(\"Digite um número positivo (0 para sair): \"))\n",
    "    if numero == 0:\n",
    "        break\n",
    "    \n",
    "    if numero > 0:\n",
    "        cont_total += 1\n",
    "        soma_total += numero\n",
    "        \n",
    "        if numero % 2 == 0:\n",
    "            cont_pares += 1\n",
    "            soma_pares += numero\n",
    "        else:\n",
    "            cont_impares += 1\n",
    "\n",
    "if cont_pares > 0:\n",
    "    media_pares = soma_pares / cont_pares\n",
    "else:\n",
    "    media_pares = 0\n",
    "\n",
    "if cont_total > 0:\n",
    "    media_geral = soma_total / cont_total\n",
    "else:\n",
    "    media_geral = 0\n",
    "\n",
    "print(f\"Quantidade de números pares: {cont_pares}\")\n",
    "print(f\"Quantidade de números ímpares: {cont_impares}\")\n",
    "print(f\"Média dos números pares: {media_pares:.2f}\")\n",
    "print(f\"Média geral dos números: {media_geral:.2f}\")"
   ]
  }
 ],
 "metadata": {
  "colab": {
   "provenance": []
  },
  "kernelspec": {
   "display_name": "Python 3 (ipykernel)",
   "language": "python",
   "name": "python3"
  },
  "language_info": {
   "codemirror_mode": {
    "name": "ipython",
    "version": 3
   },
   "file_extension": ".py",
   "mimetype": "text/x-python",
   "name": "python",
   "nbconvert_exporter": "python",
   "pygments_lexer": "ipython3",
   "version": "3.12.3"
  }
 },
 "nbformat": 4,
 "nbformat_minor": 4
}
