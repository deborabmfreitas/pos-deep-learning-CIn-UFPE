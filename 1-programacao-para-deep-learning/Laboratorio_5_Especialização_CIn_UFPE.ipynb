{
 "cells": [
  {
   "cell_type": "markdown",
   "metadata": {
    "id": "5b0JgHd19utr"
   },
   "source": [
    "#### Assunto do Laboratório 5:\n",
    "- Strings"
   ]
  },
  {
   "cell_type": "markdown",
   "metadata": {},
   "source": [
    "---"
   ]
  },
  {
   "cell_type": "markdown",
   "metadata": {
    "id": "S20Kdlr691MV"
   },
   "source": [
    "### Questão 1:\n",
    "\n",
    "Escreva um programa que receba uma string como entrada do usuário e imprima o tamanho da string."
   ]
  },
  {
   "cell_type": "code",
   "execution_count": 5,
   "metadata": {
    "id": "BwOxhAeg-ACp"
   },
   "outputs": [
    {
     "name": "stdin",
     "output_type": "stream",
     "text": [
      "Digite alguma palavra:  Paralelepípedo\n"
     ]
    },
    {
     "name": "stdout",
     "output_type": "stream",
     "text": [
      "A palavra ao contrário é: odepípelelaraP\n"
     ]
    }
   ],
   "source": [
    "string = input('Digite alguma palavra: ')\n",
    "print(f'A palavra ao contrário é: {string[::-1]}')"
   ]
  },
  {
   "cell_type": "markdown",
   "metadata": {},
   "source": [
    "---"
   ]
  },
  {
   "cell_type": "markdown",
   "metadata": {
    "id": "vZCKFy6Q-A9g"
   },
   "source": [
    "### Questão 2:\n",
    "\n",
    "Escreva um programa que receba uma string como entrada do usuário e imprima a quantidade de vogais."
   ]
  },
  {
   "cell_type": "code",
   "execution_count": 8,
   "metadata": {
    "id": "gqr3RF75-Joi"
   },
   "outputs": [
    {
     "name": "stdin",
     "output_type": "stream",
     "text": [
      "Digite uma string:  Paralelepípedo\n"
     ]
    },
    {
     "name": "stdout",
     "output_type": "stream",
     "text": [
      "7\n"
     ]
    }
   ],
   "source": [
    "vogais = \"aeiouAEIOUáéíóú\"\n",
    "print(sum(1 for letra in input(\"Digite uma string: \") if letra in vogais))"
   ]
  },
  {
   "cell_type": "markdown",
   "metadata": {},
   "source": [
    "---"
   ]
  },
  {
   "cell_type": "markdown",
   "metadata": {
    "id": "J2FhRnwM9Ms2"
   },
   "source": [
    "### Questão 3:\n",
    "\n",
    "Implemente um programa que solicita o tamanho da lista de palavras que o usuário dará como entrada. Após o usuário inserir as palavras, o programa deve imprimir as palavras da lista que sejam diferentes da palavra “segredo”.\n"
   ]
  },
  {
   "cell_type": "code",
   "execution_count": 10,
   "metadata": {
    "id": "opwem2_G9O42"
   },
   "outputs": [
    {
     "name": "stdin",
     "output_type": "stream",
     "text": [
      "Digite o número de palavras que você irá inserir:  3\n",
      "Digite a palavra 1:  Chocolate\n",
      "Digite a palavra 2:  Segredo\n",
      "Digite a palavra 3:  segredo\n"
     ]
    },
    {
     "name": "stdout",
     "output_type": "stream",
     "text": [
      "\n",
      "Palavras diferentes de 'segredo':\n",
      "Chocolate\n"
     ]
    }
   ],
   "source": [
    "tamanho = int(input(\"Digite o número de palavras que você irá inserir: \"))\n",
    "palavras = []\n",
    "\n",
    "for i in range(tamanho):\n",
    "    palavra = input(f\"Digite a palavra {i + 1}: \")\n",
    "    palavras.append(palavra)\n",
    "\n",
    "print(\"\\nPalavras diferentes de 'segredo':\")\n",
    "for palavra in palavras:\n",
    "    if palavra != \"segredo\" and palavra != \"Segredo\":\n",
    "        print(palavra)"
   ]
  },
  {
   "cell_type": "markdown",
   "metadata": {},
   "source": [
    "---"
   ]
  },
  {
   "cell_type": "markdown",
   "metadata": {
    "id": "aWCv-i7t9QCq"
   },
   "source": [
    "### Questão 4:\n",
    "\n",
    "Implemente um programa que solicita para o usuário vários nomes de alunos até que ele dê como entrada uma string vazia. Por fim, exiba aqueles nomes que começam com as letras de A até M.\n"
   ]
  },
  {
   "cell_type": "code",
   "execution_count": 12,
   "metadata": {
    "id": "9uXEEBsH9U93"
   },
   "outputs": [
    {
     "name": "stdin",
     "output_type": "stream",
     "text": [
      "Digite o número de alunos que você irá inserir:  5\n",
      "Digite o nome do aluno 1:  Débora\n",
      "Digite o nome do aluno 2:  Natália\n",
      "Digite o nome do aluno 3:  Bruno\n",
      "Digite o nome do aluno 4:  Ana\n",
      "Digite o nome do aluno 5:  Pepe\n"
     ]
    },
    {
     "name": "stdout",
     "output_type": "stream",
     "text": [
      "\n",
      "Alunos cujos nomes começam com as letras de A até M:\n",
      "Débora\n",
      "Bruno\n",
      "Ana\n"
     ]
    }
   ],
   "source": [
    "tamanho = int(input(\"Digite o número de alunos que você irá inserir: \"))\n",
    "alunos = []\n",
    "\n",
    "for i in range(tamanho):\n",
    "    nome = input(f\"Digite o nome do aluno {i + 1}: \")\n",
    "    alunos.append(nome)\n",
    "\n",
    "print(\"\\nAlunos cujos nomes começam com as letras de A até M:\")\n",
    "for nome in alunos:\n",
    "    if nome[0].upper() >= \"A\" and nome[0].upper() <= \"M\":\n",
    "        print(nome)"
   ]
  },
  {
   "cell_type": "markdown",
   "metadata": {},
   "source": [
    "---"
   ]
  },
  {
   "cell_type": "markdown",
   "metadata": {
    "id": "0F86MPIp-MxF"
   },
   "source": [
    "### Questão 5:\n",
    "\n",
    "Implemente um programa que solicita 5 nomes para o usuário. Seu programa deve transformar os nomes fornecidos para os mesmos nomes com caracteres maiúsculos\n"
   ]
  },
  {
   "cell_type": "code",
   "execution_count": 14,
   "metadata": {},
   "outputs": [
    {
     "name": "stdin",
     "output_type": "stream",
     "text": [
      "Digite o nome 1:  Pepe\n",
      "Digite o nome 2:  Minerva\n",
      "Digite o nome 3:  Deb\n",
      "Digite o nome 4:  Frank\n",
      "Digite o nome 5:  Abacaxi\n"
     ]
    },
    {
     "name": "stdout",
     "output_type": "stream",
     "text": [
      "\n",
      "Nomes em letras maiúsculas:\n",
      "PEPE\n",
      "MINERVA\n",
      "DEB\n",
      "FRANK\n",
      "ABACAXI\n"
     ]
    }
   ],
   "source": [
    "nomes = []\n",
    "\n",
    "for i in range(5):\n",
    "    nome = input(f\"Digite o nome {i + 1}: \")\n",
    "    nomes.append(nome.upper())\n",
    "\n",
    "print(\"\\nNomes em letras maiúsculas:\")\n",
    "for nome in nomes:\n",
    "    print(nome)"
   ]
  },
  {
   "cell_type": "markdown",
   "metadata": {},
   "source": [
    "---"
   ]
  },
  {
   "cell_type": "markdown",
   "metadata": {
    "id": "-Gr7xwMW-UY7"
   },
   "source": [
    "### Questão 6:\n",
    "\n",
    "Implemente um programa que receba uma frase do usuário. O programa deve imprimir a frase com todas as palavras começando com a letra maiúscula e todas as outras começando com a letra minúscula.\n",
    "Exemplo:\n",
    "\n",
    "Input:“o GATO roeu a roupa DO REI de roMA”\n",
    "\n",
    "Output: “O Gato Roeu A Roupa Do Rei De Roma”\n"
   ]
  },
  {
   "cell_type": "code",
   "execution_count": 15,
   "metadata": {
    "id": "iZgxIV8K-d87"
   },
   "outputs": [
    {
     "name": "stdin",
     "output_type": "stream",
     "text": [
      "Digite uma frase:  Tá chovendo bastante hoje\n"
     ]
    },
    {
     "name": "stdout",
     "output_type": "stream",
     "text": [
      "\n",
      "Frase formatada:\n",
      "Tá Chovendo Bastante Hoje\n"
     ]
    }
   ],
   "source": [
    "frase = input(\"Digite uma frase: \")\n",
    "\n",
    "frase_formatada = ' '.join(palavra.capitalize() for palavra in frase.split())\n",
    "\n",
    "print(\"\\nFrase formatada:\")\n",
    "print(frase_formatada)"
   ]
  }
 ],
 "metadata": {
  "colab": {
   "provenance": []
  },
  "kernelspec": {
   "display_name": "Python 3 (ipykernel)",
   "language": "python",
   "name": "python3"
  },
  "language_info": {
   "codemirror_mode": {
    "name": "ipython",
    "version": 3
   },
   "file_extension": ".py",
   "mimetype": "text/x-python",
   "name": "python",
   "nbconvert_exporter": "python",
   "pygments_lexer": "ipython3",
   "version": "3.12.3"
  }
 },
 "nbformat": 4,
 "nbformat_minor": 4
}
