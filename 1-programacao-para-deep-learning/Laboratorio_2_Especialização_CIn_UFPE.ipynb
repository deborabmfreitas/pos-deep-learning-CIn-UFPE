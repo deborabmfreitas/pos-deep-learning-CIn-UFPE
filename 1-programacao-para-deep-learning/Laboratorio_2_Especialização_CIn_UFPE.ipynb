{
 "cells": [
  {
   "cell_type": "markdown",
   "metadata": {
    "id": "7j3AXNih5q-k"
   },
   "source": [
    "#### Assuntos do Laboratório 2:\n",
    "- Tipos de variáveis\n",
    "- Comandos de entrada e saída\n",
    "- Comando Condicional"
   ]
  },
  {
   "cell_type": "markdown",
   "metadata": {},
   "source": [
    "---"
   ]
  },
  {
   "cell_type": "markdown",
   "metadata": {
    "id": "8LAONhSBx9ZL"
   },
   "source": [
    "### Questão 1:\n",
    "\n",
    "Peça ao usuário um número inteiro como entrada e imprima se o número é PAR ou ÍMPAR."
   ]
  },
  {
   "cell_type": "code",
   "execution_count": 1,
   "metadata": {
    "id": "wXqYmNrmyBQ-"
   },
   "outputs": [
    {
     "name": "stdin",
     "output_type": "stream",
     "text": [
      "Digite um número:  11\n"
     ]
    },
    {
     "name": "stdout",
     "output_type": "stream",
     "text": [
      "Não é par\n"
     ]
    }
   ],
   "source": [
    "numero = int(input('Digite um número: '))\n",
    "\n",
    "if (numero %2 == 0):\n",
    "  print('É par')\n",
    "else:\n",
    "  print('Não é par')"
   ]
  },
  {
   "cell_type": "markdown",
   "metadata": {},
   "source": [
    "---"
   ]
  },
  {
   "cell_type": "markdown",
   "metadata": {
    "id": "SysOhxnZx7mb"
   },
   "source": [
    "### Questão 2:\n",
    "\n",
    "\n",
    "Escreva um programa que peça a data atual (dia, mês e ano como números inteiros) e peça a data de nascimento do usuário (dia, mês e ano como números inteiros). O programa deve imprimir a idade do usuário.\n",
    "\n"
   ]
  },
  {
   "cell_type": "code",
   "execution_count": 2,
   "metadata": {},
   "outputs": [
    {
     "name": "stdin",
     "output_type": "stream",
     "text": [
      "Qual o número do dia atual? 19\n",
      "Qual o número do mês atual? 06\n",
      "Qual o número do ano atual? 2025\n",
      "Qual o número do dia do seu aniversário? 30\n",
      "Qual o número do mês do seu aniversário? 07\n",
      "Qual o número do ano do seu aniversário? 1998\n"
     ]
    },
    {
     "name": "stdout",
     "output_type": "stream",
     "text": [
      "Você tem: 26\n",
      "Você terá 27 daqui a 1 (mês/meses).\n"
     ]
    }
   ],
   "source": [
    "dia_atual = int(input('Qual o número do dia atual?'))\n",
    "mes_atual = int(input('Qual o número do mês atual?'))\n",
    "ano_atual = int(input('Qual o número do ano atual?'))\n",
    "\n",
    "dia_aniver = int(input('Qual o número do dia do seu aniversário?'))\n",
    "mes_aniver = int(input('Qual o número do mês do seu aniversário?'))\n",
    "ano_aniver = int(input('Qual o número do ano do seu aniversário?'))\n",
    "\n",
    "# print(f'Você tem: {ano_atual - ano_aniver}')\n",
    "\n",
    "if mes_atual > mes_aniver:\n",
    "    print(f'Você tem: {ano_atual - ano_aniver} anos.')\n",
    "\n",
    "elif mes_atual == mes_aniver and dia_atual > dia_aniver:\n",
    "    print(f'Você tem {ano_atual - ano_aniver}')\n",
    "    \n",
    "else:\n",
    "    dif_meses = abs(mes_atual - mes_aniver)\n",
    "    if dif_meses == 0:\n",
    "        print(f'Você tem: {(ano_atual - ano_aniver) - 1} anos.')\n",
    "        print(f'Você completará mais um ano ainda neste mês =)')\n",
    "    else:\n",
    "        print(f'Você tem: {(ano_atual - ano_aniver) - 1}')\n",
    "        print(f'Você terá {ano_atual - ano_aniver} daqui a {dif_meses} (mês/meses).')"
   ]
  },
  {
   "cell_type": "markdown",
   "metadata": {},
   "source": [
    "---"
   ]
  },
  {
   "cell_type": "markdown",
   "metadata": {
    "id": "zctEO1LOyO7-"
   },
   "source": [
    "### Questão 3:\n",
    "\n",
    "Escreva um programa que verifique se um ponto está dentro de um círculo. Você deve receber dois inteiros (a,b) e um inteiro r que são a posição do centro da circunferência e o valor de seu raio respectivamente. Logo em seguida, você irá pedir o valor do ponto (x,y) que deve ser checado se está dentro ou fora da circunferência. Considere que se o ponto estiver exatamente em cima do bordo da circunferência ele é considerado dentro da circunferência.\n"
   ]
  },
  {
   "cell_type": "code",
   "execution_count": 3,
   "metadata": {},
   "outputs": [
    {
     "name": "stdin",
     "output_type": "stream",
     "text": [
      "Digite o valor a:  5\n",
      "Digite o valor b:  6\n",
      "Digite o valor r:  7\n",
      "Digite o valor x:  6\n",
      "Digite o valor y:  9\n"
     ]
    },
    {
     "name": "stdout",
     "output_type": "stream",
     "text": [
      "Dentro da circunferência\n"
     ]
    }
   ],
   "source": [
    "a = int(input('Digite o valor a: '))\n",
    "b = int(input('Digite o valor b: '))\n",
    "r = int(input('Digite o valor r: '))\n",
    "x = int(input('Digite o valor x: '))\n",
    "y = int(input('Digite o valor y: '))\n",
    "\n",
    "if ((a-x)**2 + (y-b)**2)**0.5 > r:\n",
    "  print('Fora da circunferência')\n",
    "else:\n",
    "  print('Dentro da circunferência')"
   ]
  },
  {
   "cell_type": "markdown",
   "metadata": {},
   "source": [
    "---"
   ]
  },
  {
   "cell_type": "markdown",
   "metadata": {
    "id": "MUNn-Shmy3PP"
   },
   "source": [
    "### Questão 4:\n",
    "\n",
    "Tendo como dados de entrada a altura (float) e o sexo (M ou F) de uma pessoa, construa um algoritmo que calcule seu peso esperado médio, utilizando as seguintes fórmulas:\n",
    "\n",
    "● para homens: (72.7 * h) – 58;\n",
    "\n",
    "● para mulheres: (62.1 * h) – 44.7."
   ]
  },
  {
   "cell_type": "code",
   "execution_count": 4,
   "metadata": {},
   "outputs": [
    {
     "name": "stdin",
     "output_type": "stream",
     "text": [
      "Digite sua altura (ex: 1.75):  1.68\n",
      "Digite a inicial maíscula do seu sexo biológico (ex: M / F):  F\n"
     ]
    },
    {
     "name": "stdout",
     "output_type": "stream",
     "text": [
      "Seu peso esperado é: 59.63 kg\n"
     ]
    }
   ],
   "source": [
    "altura = float(input(\"Digite sua altura (ex: 1.75): \"))\n",
    "sexo = input(\"Digite a inicial maíscula do seu sexo biológico (ex: M / F): \")\n",
    "\n",
    "if sexo == 'M':\n",
    "    peso_esperado_se_homem = (72.7 * altura) - 58\n",
    "    print(f'Seu peso esperado é: {round(peso_esperado_se_homem,2)} kg')\n",
    "    \n",
    "elif sexo == 'F':\n",
    "    peso_esperado_se_mulher = (62.1 * altura) - 44.7\n",
    "    print(f'Seu peso esperado é: {round(peso_esperado_se_mulher,2)} kg')\n",
    "\n",
    "else:\n",
    "    print('Você digitou um sexo biológico inválido, digite M ou F')"
   ]
  },
  {
   "cell_type": "markdown",
   "metadata": {},
   "source": [
    "---"
   ]
  },
  {
   "cell_type": "markdown",
   "metadata": {
    "id": "B3pYfUXIzd0_"
   },
   "source": [
    "### Questão 5:\n",
    "\n",
    "O IMC – Indice de Massa Corporal é um critério da Organização Mundial de Saúde para dar uma indicação sobre a condição de peso de uma pessoa adulta. A fórmula é IMC = $\\frac{\\text{peso}}{ \\text{altura}^2}$. Elabore um algoritmo que leia o peso e a altura de um adulto e mostre sua condição de acordo com a tabela abaixo.\n",
    "\n",
    "**IMC em adultos: Condição**\n",
    "\n",
    "Abaixo de 18,5: Abaixo do peso\n",
    "\n",
    "Entre 18,5 e 25: Peso normal\n",
    "\n",
    "Entre 25 e 30: Acima do peso\n",
    "\n",
    "Acima de 30: obeso"
   ]
  },
  {
   "cell_type": "code",
   "execution_count": 5,
   "metadata": {},
   "outputs": [
    {
     "name": "stdin",
     "output_type": "stream",
     "text": [
      "Digite o seu peso:  58\n",
      "Digite a sua altura:  1.68\n"
     ]
    },
    {
     "name": "stdout",
     "output_type": "stream",
     "text": [
      "Seu IMC é: 20.55. Você é considerado(a) peso normal.\n"
     ]
    }
   ],
   "source": [
    "peso = float(input('Digite o seu peso: '))\n",
    "altura = float(input('Digite a sua altura: '))\n",
    "imc = round(peso/(altura**2),2)\n",
    "\n",
    "if imc < 18.5:\n",
    "    print(f'Seu IMC é: {imc}. Você é considerado(a) abaixo do peso.')\n",
    "    \n",
    "elif imc >= 18.5 and imc <= 25:\n",
    "    print(f'Seu IMC é: {imc}. Você é considerado(a) peso normal.')\n",
    "    \n",
    "elif imc >= 25 and imc <= 30:\n",
    "    print(f'Seu IMC é: {imc}. Você é considerado(a) acima do peso.')\n",
    "\n",
    "else:\n",
    "    print(f'Seu IMC é: {imc}.Você é considerado(a) obeso(a).')"
   ]
  },
  {
   "cell_type": "markdown",
   "metadata": {},
   "source": [
    "---"
   ]
  },
  {
   "cell_type": "markdown",
   "metadata": {
    "id": "jVYGRrlA0Bo_"
   },
   "source": [
    "### Questão 6:\n",
    "\n",
    "Escreva um algoritmo que leia as 3 notas obtidas por um aluno nas 3 verificações e a média dos exercícios que fazem parte da avaliação, e calcule a média de aproveitamento, usando a fórmula:\n",
    "MA := (nota1 + nota 2 * 2 + nota 3 * 3 + ME)/7\n",
    "\n",
    "A atribuição dos conceitos obedece a tabela abaixo. O algoritmo deve escrever suas notas, a média dos exercícios, a média de aproveitamento, o conceito correspondente e a mensagem 'Aprovado' se o conceito for A, B ou C, e 'Reprovado' se o conceito for D ou E.\n",
    "\n",
    "**Média de aproveitamento -> Conceito**\n",
    "\n",
    "$>=$ 90  -> A\n",
    "\n",
    "$>=$ 75 e $<$ 90 -> B\n",
    "\n",
    "$>=$ 60 e $<$ 75 -> C\n",
    "\n",
    "$>=$ 40 e $<$ 60 -> D\n",
    "\n",
    "$<$ 40 -> E"
   ]
  },
  {
   "cell_type": "code",
   "execution_count": 6,
   "metadata": {},
   "outputs": [
    {
     "name": "stdin",
     "output_type": "stream",
     "text": [
      "Digite a sua primeira nota (0 a 100):  100\n",
      "Digite a sua segunda nota (0 a 100):  78\n",
      "Digite a sua terceira nota (0 a 100):  63\n",
      "Digite a media dos exercícios (0 a 100):  87\n"
     ]
    },
    {
     "name": "stdout",
     "output_type": "stream",
     "text": [
      "MA = 76.0. Seu conceito é B\n"
     ]
    }
   ],
   "source": [
    "nota1 = float(input('Digite a sua primeira nota (0 a 100): '))\n",
    "nota2 = float(input('Digite a sua segunda nota (0 a 100): '))\n",
    "nota3 = float(input('Digite a sua terceira nota (0 a 100): '))\n",
    "media_exercicios = float(input('Digite a media dos exercícios (0 a 100): '))\n",
    "media_aproveitamento = round((nota1 + nota2 * 2 + nota3 * 3 + media_exercicios)/7,2)\n",
    "\n",
    "if media_aproveitamento < 40:\n",
    "    print(f'MA = {media_aproveitamento}. Seu conceito é: E')\n",
    "    \n",
    "elif media_aproveitamento >= 40 and media_aproveitamento < 60:\n",
    "    print(f'MA = {media_aproveitamento}. Seu conceito é: D')\n",
    "\n",
    "elif media_aproveitamento >= 60 and media_aproveitamento < 75:\n",
    "    print(f'MA = {media_aproveitamento}. Seu conceito é: C')\n",
    "\n",
    "elif media_aproveitamento >= 75 and media_aproveitamento < 90:\n",
    "    print(f'MA = {media_aproveitamento}. Seu conceito é B')\n",
    "\n",
    "else:\n",
    "    print(f'MA = {media_aproveitamento}. Seu conceito é A')"
   ]
  },
  {
   "cell_type": "markdown",
   "metadata": {},
   "source": [
    "---"
   ]
  },
  {
   "cell_type": "markdown",
   "metadata": {
    "id": "qfj38C95yTh9"
   },
   "source": [
    "### Questão 7:\n",
    "\n",
    "Escreva um programa que funciona como uma calculadora para operações binárias (com dois operandos):\n",
    "O usuário deve dar os valores de ponto flutuante X e Y dos operandos e o tipo da operação (que pode ser “+”, “-”, “*”, “/”) como entrada.\n",
    "\n",
    "O programa deve imprimir na tela o cálculo da operação:\n",
    "X OPERACAO Y.\n",
    "\n"
   ]
  },
  {
   "cell_type": "code",
   "execution_count": 7,
   "metadata": {},
   "outputs": [
    {
     "name": "stdin",
     "output_type": "stream",
     "text": [
      "Digite o 1º número da operação:  6\n",
      "Digite o 2º número da operação:  9\n",
      "Informe a operação que deseja realizar (+, -, *, /):  -\n"
     ]
    },
    {
     "name": "stdout",
     "output_type": "stream",
     "text": [
      "Resultado: -3.0\n"
     ]
    }
   ],
   "source": [
    "X = float(input('Digite o 1º número da operação: '))\n",
    "Y = float(input('Digite o 2º número da operação: '))\n",
    "operacao = input('Informe a operação que deseja realizar (+, -, *, /): ')\n",
    "\n",
    "if operacao == '+':\n",
    "    print(f'Resultado: {X+Y}')\n",
    "\n",
    "elif operacao == '-':\n",
    "    print(f'Resultado: {X-Y}')\n",
    "\n",
    "elif operacao == '*':\n",
    "    print(f'Resultado: {X*Y}')\n",
    "\n",
    "elif operacao == '/':\n",
    "    print(f'Resultado: {X/Y}')"
   ]
  }
 ],
 "metadata": {
  "colab": {
   "provenance": []
  },
  "kernelspec": {
   "display_name": "Python 3 (ipykernel)",
   "language": "python",
   "name": "python3"
  },
  "language_info": {
   "codemirror_mode": {
    "name": "ipython",
    "version": 3
   },
   "file_extension": ".py",
   "mimetype": "text/x-python",
   "name": "python",
   "nbconvert_exporter": "python",
   "pygments_lexer": "ipython3",
   "version": "3.12.3"
  }
 },
 "nbformat": 4,
 "nbformat_minor": 4
}
