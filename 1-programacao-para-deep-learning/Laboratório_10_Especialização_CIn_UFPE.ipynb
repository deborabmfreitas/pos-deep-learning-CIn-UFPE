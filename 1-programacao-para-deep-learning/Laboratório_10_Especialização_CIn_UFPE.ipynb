{
 "cells": [
  {
   "cell_type": "markdown",
   "metadata": {
    "id": "tXaXWavE0wbL"
   },
   "source": [
    "#### Assunto do Laboratório 10:\n",
    "- Prática da biblioteca NUMPY."
   ]
  },
  {
   "cell_type": "code",
   "execution_count": 1,
   "metadata": {},
   "outputs": [],
   "source": [
    "import numpy as np"
   ]
  },
  {
   "cell_type": "markdown",
   "metadata": {
    "id": "YzYMWhKC0yh0"
   },
   "source": [
    "### Questão 1:\n",
    "\n",
    "Construa uma função que recebe uma matriz de números float e imprime os dados estatísticos de cada coluna: média, mediana, desvio padrão, valor mínimo, valor máximo.\n",
    "\n",
    "Use a função criada \"\"geraMatriz\" para testar sua função."
   ]
  },
  {
   "cell_type": "code",
   "execution_count": 2,
   "metadata": {
    "id": "RERdAgNd0vsU"
   },
   "outputs": [],
   "source": [
    "np.random.seed(0)\n",
    "\n",
    "def geraMatriz(n,m):\n",
    "  \"\"\"\n",
    "  gera uma matriz aleatória de 'n' linhas e 'm' colunas de números reais\n",
    "  n: inteiro, representa a quantidade de linhas\n",
    "  m: inteiro, representa a quantidade de colunas\n",
    "  retorno: uma matriz numpy\n",
    "  \"\"\"\n",
    "  return np.random.rand(n,m)"
   ]
  },
  {
   "cell_type": "code",
   "execution_count": 3,
   "metadata": {
    "id": "f8tJm0k8e957"
   },
   "outputs": [],
   "source": [
    "def imprimeEstatisticaDescritivaMatriz(m):\n",
    "  ### implemente esta função\n",
    "  None\n",
    "\n",
    "m = geraMatriz(10,5)\n",
    "imprimeEstatisticaDescritivaMatriz(m)"
   ]
  },
  {
   "cell_type": "markdown",
   "metadata": {},
   "source": [
    "---"
   ]
  },
  {
   "cell_type": "markdown",
   "metadata": {
    "id": "FwJsKotI06EJ"
   },
   "source": [
    "### Questão 2:\n",
    "\n",
    "Construa uma função que recebe uma matriz em que cada coluna é um atributo categórico. Um atributo categórico é uma informação que pode ser rotulada. Por exemplo: a cor de cabelo é um atributo categórico que pode ser \"louro\", \"ruivo\", \"preto\", \"branco\". Sua função deve transformar, para cada coluna, o atributo categórico em atributo numérico. Ou seja, associar para cada categoria possível, um valor numérico. Por exemplo \"\"louro\"\"=1, \"\"ruivo\"\"=2, \"\"preto\"\"=3, \"\"branco\"\"=4. A função deve retornar esta nova matriz de números inteiros. Considere cada coluna independente. Cada coluna terá seu conjunto de valores possíveis independente das outras colunas.\n",
    "\n",
    "Use a função criada \"\"geraMatriz\" para testar sua função.\n",
    "\n",
    "Dica: procure sobre as funções do NUMPY: unique e where.\n"
   ]
  },
  {
   "cell_type": "code",
   "execution_count": 4,
   "metadata": {
    "id": "5jo5Wx7109aG"
   },
   "outputs": [],
   "source": [
    "np.random.seed(0)\n",
    "\n",
    "nCategorias = 10\n",
    "categorias = [\"tipo \"+str(i) for i in range(nCategorias)]\n",
    "\n",
    "def geraMatriz(n,m):\n",
    "  \"\"\"\n",
    "  gera uma matriz aleatoria de 'n' linhas e 'm' colunas\n",
    "  podendo ter em cada posicao uma das categorias criadas\n",
    "  no vetor anteriormente criado\n",
    "  n: inteiro, quantidade de linhas\n",
    "  m: inteiro, quantidade de colunas\n",
    "  retorno: uma matriz numpy\n",
    "  \"\"\"\n",
    "  for coluna in range(m):\n",
    "    v_n_elementos = np.random.randint(nCategorias, size=n) #gera um vetor com numeros aleatorios, de tamanho n, com os valores que vao de 0 a nCategorias.\n",
    "    colunaMatriz = np.array([[categorias[i]] for i in v_n_elementos])\n",
    "    if coluna == 0: #primeira coluna\n",
    "      matrizFinal = colunaMatriz\n",
    "    else:\n",
    "      matrizFinal = np.concatenate((matrizFinal, colunaMatriz), axis=1)\n",
    "  return matrizFinal"
   ]
  },
  {
   "cell_type": "markdown",
   "metadata": {},
   "source": [
    "---"
   ]
  },
  {
   "cell_type": "markdown",
   "metadata": {
    "id": "XhaW_BzU0_Bb"
   },
   "source": [
    "### Questão 3:\n",
    "\n",
    "Crie uma função que receba uma matriz de inteiros.\n",
    "A matriz possui dados da presença/falta de funcionários de uma empresa.\n",
    "A coleta dos dados iniciou no dia 01/01/2020. Cada coluna representa um dia. Ou seja, a primeira coluna representa o dia 01/01/2020, a segunda coluna o dia 02/01/2020, e assim sucessivamente. Cada linha da matriz representa um funcionário. Funcionário 0 está na linha. 0, funcionário 1 está na linha 1, e assim sucessivamente.\n",
    "Na tabela, o valor 1 significa presente, e o valor 0 significa que o funcionário teve falta.\n",
    "\n",
    "Você precisa:\n",
    "\n",
    "a) Criar um gráfico mostrando a quantidade de faltas em cada dia.\n",
    "\n",
    "b) Criar um gráfico mostrando a quantidade de faltas a cada mês (considere que cada mês tem sempre 30 dias). Não precisa tratar anos bissextos, nem feriados.\n",
    "\n",
    "c) Criar um gráfico onde compare a quantidade de presença a cada mês dos 3 funcionários mais faltosos com os 3 funcionários mais presentes\n"
   ]
  },
  {
   "cell_type": "code",
   "execution_count": 5,
   "metadata": {
    "id": "Z1XZle0w1COP"
   },
   "outputs": [],
   "source": [
    "np.random.seed(0)\n",
    "\n",
    "def geraMatrizODePresencasDeFuncionarios(n,m):\n",
    "  \"\"\"\n",
    "  gera uma matriz aleatória de 'n' linhas e 'm' colunas de números reais\n",
    "  n: inteiro, representa a quantidade de linhas\n",
    "  m: inteiro, representa a quantidade de colunas\n",
    "  retorno: uma matriz numpy\n",
    "  \"\"\"\n",
    "  m = np.random.choice([0, 1], size=n*m, p=[.3, .7]).reshape(n,m)\n",
    "  return m"
   ]
  },
  {
   "cell_type": "code",
   "execution_count": 6,
   "metadata": {
    "colab": {
     "base_uri": "https://localhost:8080/"
    },
    "id": "OGTaOh2tG0Vu",
    "outputId": "e736f7fa-47b0-4881-d557-0af6a20e869a"
   },
   "outputs": [
    {
     "data": {
      "text/plain": [
       "array([[1, 1, 1, 1, 1, 1, 1, 1, 1, 1, 1, 1, 1, 1, 0, 0, 0, 1, 1, 1, 1, 1,\n",
       "        1, 1, 0, 1, 0, 1, 1, 1],\n",
       "       [0, 1, 1, 1, 0, 1, 1, 1, 1, 1, 1, 1, 1, 0, 1, 1, 0, 0, 1, 1, 1, 1,\n",
       "        1, 0, 0, 0, 1, 0, 1, 0],\n",
       "       [0, 0, 1, 0, 0, 1, 1, 0, 1, 0, 1, 1, 1, 1, 1, 0, 0, 0, 0, 0, 1, 1,\n",
       "        0, 1, 1, 0, 1, 0, 1, 1],\n",
       "       [1, 1, 0, 1, 0, 0, 1, 0, 1, 0, 1, 0, 1, 1, 0, 1, 1, 1, 0, 1, 1, 1,\n",
       "        1, 0, 1, 1, 1, 1, 1, 1],\n",
       "       [1, 1, 1, 1, 1, 1, 0, 1, 1, 0, 1, 1, 0, 0, 1, 1, 1, 1, 1, 1, 1, 1,\n",
       "        1, 1, 1, 1, 0, 1, 1, 1],\n",
       "       [0, 1, 0, 1, 0, 1, 1, 1, 1, 0, 1, 1, 1, 1, 1, 1, 0, 1, 1, 0, 1, 0,\n",
       "        0, 0, 1, 0, 1, 1, 1, 0],\n",
       "       [0, 1, 1, 0, 1, 1, 1, 1, 1, 1, 1, 0, 0, 1, 1, 1, 0, 0, 0, 1, 1, 1,\n",
       "        1, 0, 0, 0, 1, 1, 1, 1],\n",
       "       [1, 0, 1, 0, 0, 1, 1, 1, 1, 1, 1, 1, 0, 1, 0, 1, 1, 0, 1, 1, 0, 0,\n",
       "        1, 0, 0, 1, 1, 1, 0, 1],\n",
       "       [1, 0, 1, 0, 1, 1, 1, 0, 0, 1, 1, 1, 1, 1, 1, 0, 1, 1, 1, 0, 0, 0,\n",
       "        0, 1, 1, 1, 0, 1, 0, 1],\n",
       "       [1, 1, 1, 1, 0, 1, 1, 1, 1, 1, 0, 1, 1, 0, 1, 0, 1, 1, 1, 1, 1, 0,\n",
       "        1, 0, 1, 0, 0, 1, 1, 1]])"
      ]
     },
     "execution_count": 6,
     "metadata": {},
     "output_type": "execute_result"
    }
   ],
   "source": [
    "geraMatrizODePresencasDeFuncionarios(10,30)"
   ]
  }
 ],
 "metadata": {
  "colab": {
   "provenance": []
  },
  "kernelspec": {
   "display_name": "Python 3 (ipykernel)",
   "language": "python",
   "name": "python3"
  },
  "language_info": {
   "codemirror_mode": {
    "name": "ipython",
    "version": 3
   },
   "file_extension": ".py",
   "mimetype": "text/x-python",
   "name": "python",
   "nbconvert_exporter": "python",
   "pygments_lexer": "ipython3",
   "version": "3.12.3"
  }
 },
 "nbformat": 4,
 "nbformat_minor": 4
}
