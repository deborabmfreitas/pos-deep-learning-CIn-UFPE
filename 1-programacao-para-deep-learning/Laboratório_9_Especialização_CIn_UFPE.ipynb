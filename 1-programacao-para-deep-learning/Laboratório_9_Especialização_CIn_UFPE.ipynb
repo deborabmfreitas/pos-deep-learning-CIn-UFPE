{
 "cells": [
  {
   "cell_type": "markdown",
   "metadata": {
    "id": "tXaXWavE0wbL"
   },
   "source": [
    "#### Assunto do Laboratório 9:\n",
    "- Uso de vetores e matrizes da biblioteca NUMPY."
   ]
  },
  {
   "cell_type": "code",
   "execution_count": 1,
   "metadata": {},
   "outputs": [],
   "source": [
    "import numpy as np"
   ]
  },
  {
   "cell_type": "markdown",
   "metadata": {
    "id": "YzYMWhKC0yh0"
   },
   "source": [
    "### Questão 1:\n",
    "\n",
    "Construa um programa que preenche um vetor de inteiros de 100 números, colocando 0 nas posições pares e 1 nas ímpares.\n"
   ]
  },
  {
   "cell_type": "code",
   "execution_count": 2,
   "metadata": {
    "id": "RERdAgNd0vsU"
   },
   "outputs": [
    {
     "name": "stdout",
     "output_type": "stream",
     "text": [
      "[0 1 0 1 0 1 0 1 0 1 0 1 0 1 0 1 0 1 0 1 0 1 0 1 0 1 0 1 0 1 0 1 0 1 0 1 0\n",
      " 1 0 1 0 1 0 1 0 1 0 1 0 1 0 1 0 1 0 1 0 1 0 1 0 1 0 1 0 1 0 1 0 1 0 1 0 1\n",
      " 0 1 0 1 0 1 0 1 0 1 0 1 0 1 0 1 0 1 0 1 0 1 0 1 0 1]\n"
     ]
    }
   ],
   "source": [
    "# Cria um vetor de 100 inteiros\n",
    "vetor = np.zeros(100, dtype=int)\n",
    "\n",
    "# Coloca 1 nas posições ímpares\n",
    "vetor[1::2] = 1\n",
    "\n",
    "print(vetor)"
   ]
  },
  {
   "cell_type": "markdown",
   "metadata": {},
   "source": [
    "- np.zeros(100, dtype=int) cria um vetor de 100 posições, inicializado com zero.  \n",
    "- vetor[1::2] = 1 seleciona todas as posições ímpares (começando em índice 1, pulando de 2 em 2) e coloca 1.  "
   ]
  },
  {
   "cell_type": "markdown",
   "metadata": {},
   "source": [
    "---"
   ]
  },
  {
   "cell_type": "markdown",
   "metadata": {
    "id": "FwJsKotI06EJ"
   },
   "source": [
    "### Questão 2:\n",
    "\n",
    "Construa um programa que lê, soma e imprime o resultado da soma de um vetor de inteiros de 10 posições.\n"
   ]
  },
  {
   "cell_type": "code",
   "execution_count": 4,
   "metadata": {
    "id": "5jo5Wx7109aG"
   },
   "outputs": [],
   "source": [
    "def somar_vetor():\n",
    "    vetor = []\n",
    "\n",
    "    for i in range(10):\n",
    "        num = int(input(f'Digite o {i+1}º número: '))\n",
    "        vetor.append(num)\n",
    "\n",
    "    soma = sum(vetor)\n",
    "\n",
    "    print(f'Soma dos elementos: {soma}')"
   ]
  },
  {
   "cell_type": "code",
   "execution_count": 5,
   "metadata": {},
   "outputs": [
    {
     "name": "stdin",
     "output_type": "stream",
     "text": [
      "Digite o 1º número:  6\n",
      "Digite o 2º número:  7\n",
      "Digite o 3º número:  8\n",
      "Digite o 4º número:  89\n",
      "Digite o 5º número:  12\n",
      "Digite o 6º número:  1\n",
      "Digite o 7º número:  0\n",
      "Digite o 8º número:  9\n",
      "Digite o 9º número:  8\n",
      "Digite o 10º número:  7\n"
     ]
    },
    {
     "name": "stdout",
     "output_type": "stream",
     "text": [
      "Soma dos elementos: 147\n"
     ]
    }
   ],
   "source": [
    "somar_vetor()"
   ]
  },
  {
   "cell_type": "markdown",
   "metadata": {},
   "source": [
    "- Lê 10 números inteiros do usuário  \n",
    "- Armazena em uma lista vetor  \n",
    "- Calcula a soma usando sum()  \n",
    "- Imprime o resultado"
   ]
  },
  {
   "cell_type": "markdown",
   "metadata": {},
   "source": [
    "---"
   ]
  },
  {
   "cell_type": "markdown",
   "metadata": {
    "id": "XhaW_BzU0_Bb"
   },
   "source": [
    "### Questão 3:\n",
    "\n",
    "Construa um programa que multiplique os valores de um vetor de reais de 20 posições pelos valores de um outro vetor de reais de 20 posições. O primeiro vetor deve ser inicializado com valores crescentes a partir de 1 e o segundo vetor com valores decrescentes a partir de 20. Os resultados das multiplicações devem ser armazenados num terceiro vetor.\n"
   ]
  },
  {
   "cell_type": "code",
   "execution_count": 6,
   "metadata": {
    "id": "Z1XZle0w1COP"
   },
   "outputs": [],
   "source": [
    "def multiplicar_vetores():\n",
    "    vetor1 = [i + 1 for i in range(20)]        # Valores de 1 a 20\n",
    "    vetor2 = [20 - i for i in range(20)]      # Valores de 20 a 1\n",
    "    vetor3 = []\n",
    "\n",
    "    for i in range(20):\n",
    "        produto = vetor1[i] * vetor2[i]\n",
    "        vetor3.append(produto)\n",
    "\n",
    "    print('Vetor 1:', vetor1)\n",
    "    print('Vetor 2:', vetor2)\n",
    "    print('Vetor resultado:', vetor3)"
   ]
  },
  {
   "cell_type": "code",
   "execution_count": 7,
   "metadata": {},
   "outputs": [],
   "source": [
    "# multiplicar_vetores()"
   ]
  },
  {
   "cell_type": "markdown",
   "metadata": {},
   "source": [
    "---"
   ]
  },
  {
   "cell_type": "markdown",
   "metadata": {
    "id": "Fbe5FYjW1D9g"
   },
   "source": [
    "### Questão 4:\n",
    "\n",
    "Leia um vetor de 16 posições e troque os 8 primeiros valores pelos 8 últimos e vice-versa. Escreva ao final o vetor obtido.\n"
   ]
  },
  {
   "cell_type": "code",
   "execution_count": 8,
   "metadata": {
    "id": "oUKcB_Dg1HB0"
   },
   "outputs": [],
   "source": [
    "def trocar_metades():\n",
    "    vetor = []\n",
    "\n",
    "    print('Digite 16 números:')\n",
    "    for i in range(16):\n",
    "        num = input(f'Número {i+1}: ')\n",
    "        vetor.append(num)\n",
    "\n",
    "    # Troca as metades\n",
    "    vetor[:8], vetor[8:] = vetor[8:], vetor[:8]\n",
    "\n",
    "    print('\\nVetor após troca das metades:')\n",
    "    print(vetor)"
   ]
  },
  {
   "cell_type": "code",
   "execution_count": 10,
   "metadata": {},
   "outputs": [],
   "source": [
    "# trocar_metades()"
   ]
  },
  {
   "cell_type": "markdown",
   "metadata": {},
   "source": [
    "---"
   ]
  },
  {
   "cell_type": "markdown",
   "metadata": {
    "id": "te8fv3b81R-W"
   },
   "source": [
    "### Questão 6:\n",
    "\n",
    "Construa um algoritmo que efetue e apresente o resultado da soma entre duas matrizes 3 x 5. Inicialize a matriz com valores quaisquer e imprima o resultado na tela.\n"
   ]
  },
  {
   "cell_type": "code",
   "execution_count": 11,
   "metadata": {
    "id": "0jM3Vn7z1NxC"
   },
   "outputs": [],
   "source": [
    "def soma_matrizes():\n",
    "    matriz1 = [\n",
    "        [1, 2, 3, 4, 5],\n",
    "        [6, 7, 8, 9, 10],\n",
    "        [11, 12, 13, 14, 15]\n",
    "    ]\n",
    "\n",
    "    matriz2 = [\n",
    "        [15, 14, 13, 12, 11],\n",
    "        [10, 9, 8, 7, 6],\n",
    "        [5, 4, 3, 2, 1]\n",
    "    ]\n",
    "\n",
    "    matriz_soma = []\n",
    "\n",
    "    for i in range(3):\n",
    "        linha_soma = []\n",
    "        for j in range(5):\n",
    "            linha_soma.append(matriz1[i][j] + matriz2[i][j])\n",
    "        matriz_soma.append(linha_soma)\n",
    "\n",
    "    print('Matriz 1:')\n",
    "    for linha in matriz1:\n",
    "        print(linha)\n",
    "\n",
    "    print('\\nMatriz 2:')\n",
    "    for linha in matriz2:\n",
    "        print(linha)\n",
    "\n",
    "    print('\\nSoma das matrizes:')\n",
    "    for linha in matriz_soma:\n",
    "        print(linha)"
   ]
  },
  {
   "cell_type": "code",
   "execution_count": 12,
   "metadata": {},
   "outputs": [
    {
     "name": "stdout",
     "output_type": "stream",
     "text": [
      "Matriz 1:\n",
      "[1, 2, 3, 4, 5]\n",
      "[6, 7, 8, 9, 10]\n",
      "[11, 12, 13, 14, 15]\n",
      "\n",
      "Matriz 2:\n",
      "[15, 14, 13, 12, 11]\n",
      "[10, 9, 8, 7, 6]\n",
      "[5, 4, 3, 2, 1]\n",
      "\n",
      "Soma das matrizes:\n",
      "[16, 16, 16, 16, 16]\n",
      "[16, 16, 16, 16, 16]\n",
      "[16, 16, 16, 16, 16]\n"
     ]
    }
   ],
   "source": [
    "soma_matrizes()"
   ]
  },
  {
   "cell_type": "markdown",
   "metadata": {},
   "source": [
    "---"
   ]
  },
  {
   "cell_type": "markdown",
   "metadata": {
    "id": "bISoZPfB1V6E"
   },
   "source": [
    "### Questão 7:\n",
    "Faça um programa que multiplica uma matriz 3 x 3 de inteiros por um escalar k e imprima o resultado na tela. O usuário deve fornecer os valores da matriz e de k.\n"
   ]
  },
  {
   "cell_type": "code",
   "execution_count": 13,
   "metadata": {
    "id": "sCYqV3Vu1Ylm"
   },
   "outputs": [],
   "source": [
    "def multiplicar_matriz_por_escalar():\n",
    "    matriz = []\n",
    "\n",
    "    print('Digite os valores da matriz 3x3:')\n",
    "    for i in range(3):\n",
    "        linha = []\n",
    "        for j in range(3):\n",
    "            valor = int(input(f'Elemento [{i+1},{j+1}]: '))\n",
    "            linha.append(valor)\n",
    "        matriz.append(linha)\n",
    "\n",
    "    k = int(input('Digite o valor do escalar k: '))\n",
    "\n",
    "    matriz_resultado = []\n",
    "    for i in range(3):\n",
    "        linha_resultado = []\n",
    "        for j in range(3):\n",
    "            linha_resultado.append(matriz[i][j] * k)\n",
    "        matriz_resultado.append(linha_resultado)\n",
    "\n",
    "    print('\\nMatriz resultante da multiplicação por', k)\n",
    "    for linha in matriz_resultado:\n",
    "        print(linha)"
   ]
  },
  {
   "cell_type": "code",
   "execution_count": 14,
   "metadata": {},
   "outputs": [],
   "source": [
    "# multiplicar_matriz_por_escalar()"
   ]
  },
  {
   "cell_type": "markdown",
   "metadata": {},
   "source": [
    "---"
   ]
  },
  {
   "cell_type": "markdown",
   "metadata": {
    "id": "OzIzJ84M1Zws"
   },
   "source": [
    "### Questão 8:\n",
    "Leia uma matriz 20 x 20. Leia também um valor X. O programa deverá fazer uma busca desse valor na matriz e, ao final escrever a localização (linha e coluna) ou uma mensagem de “não encontrado”.\n"
   ]
  },
  {
   "cell_type": "code",
   "execution_count": 16,
   "metadata": {
    "id": "0thIFpbb1c5D"
   },
   "outputs": [],
   "source": [
    "def buscar_valor_matriz():\n",
    "    matriz = []\n",
    "\n",
    "    print('Digite os valores da matriz 20x20:')\n",
    "    for i in range(20):\n",
    "        linha = []\n",
    "        for j in range(20):\n",
    "            valor = input(f'Elemento [{i+1},{j+1}]: ')\n",
    "            linha.append(valor)\n",
    "        matriz.append(linha)\n",
    "\n",
    "    x = input('Digite o valor a buscar: ')\n",
    "    encontrado = False\n",
    "\n",
    "    for i in range(20):\n",
    "        for j in range(20):\n",
    "            if matriz[i][j] == x:\n",
    "                print(f'Valor {x} encontrado na linha {i+1}, coluna {j+1}.')\n",
    "                encontrado = True\n",
    "                break\n",
    "        if encontrado:\n",
    "            break\n",
    "\n",
    "    if not encontrado:\n",
    "        print('Valor não encontrado.')"
   ]
  },
  {
   "cell_type": "code",
   "execution_count": 17,
   "metadata": {},
   "outputs": [],
   "source": [
    "# buscar_valor_matriz()"
   ]
  },
  {
   "cell_type": "markdown",
   "metadata": {},
   "source": [
    "---"
   ]
  },
  {
   "cell_type": "markdown",
   "metadata": {
    "id": "68o_kwr-1eGd"
   },
   "source": [
    "### Questão 9:\n",
    "\n",
    "Dada uma matriz 5x5, elabore um algoritmo que imprima:\n",
    "\n",
    "- A diagonal principal\n",
    "\n",
    "- A diagonal secundária\n",
    "\n",
    "- A soma da linha 4\n",
    "- A soma da coluna 2\n",
    "\n",
    "- Tudo, exceto a diagonal principal\n"
   ]
  },
  {
   "cell_type": "code",
   "execution_count": 18,
   "metadata": {
    "id": "MIlE9sfB1jNL"
   },
   "outputs": [],
   "source": [
    "def processar_matriz():\n",
    "    matriz = []\n",
    "\n",
    "    print('Digite os valores da matriz 5x5:')\n",
    "    for i in range(5):\n",
    "        linha = []\n",
    "        for j in range(5):\n",
    "            valor = int(input(f'Elemento [{i+1},{j+1}]: '))\n",
    "            linha.append(valor)\n",
    "        matriz.append(linha)\n",
    "\n",
    "    # Diagonal principal\n",
    "    diagonal_principal = [matriz[i][i] for i in range(5)]\n",
    "    print('\\nDiagonal principal:', diagonal_principal)\n",
    "\n",
    "    # Diagonal secundária\n",
    "    diagonal_secundaria = [matriz[i][4 - i] for i in range(5)]\n",
    "    print('Diagonal secundária:', diagonal_secundaria)\n",
    "\n",
    "    # Soma da linha 4 (índice 3)\n",
    "    soma_linha4 = sum(matriz[3])\n",
    "    print('Soma da linha 4:', soma_linha4)\n",
    "\n",
    "    # Soma da coluna 2 (índice 1)\n",
    "    soma_coluna2 = sum(matriz[i][1] for i in range(5))\n",
    "    print('Soma da coluna 2:', soma_coluna2)\n",
    "\n",
    "    # Tudo exceto diagonal principal\n",
    "    print('\\nElementos exceto da diagonal principal:')\n",
    "    for i in range(5):\n",
    "        linha_sem_diag = []\n",
    "        for j in range(5):\n",
    "            if i != j:\n",
    "                linha_sem_diag.append(matriz[i][j])\n",
    "            else:\n",
    "                linha_sem_diag.append('')  # pode deixar vazio ou outro marcador\n",
    "        print(linha_sem_diag)"
   ]
  },
  {
   "cell_type": "code",
   "execution_count": 19,
   "metadata": {},
   "outputs": [],
   "source": [
    "# processar_matriz()"
   ]
  },
  {
   "cell_type": "markdown",
   "metadata": {},
   "source": [
    "---"
   ]
  },
  {
   "cell_type": "markdown",
   "metadata": {
    "id": "ODjF9wgX1qOi"
   },
   "source": [
    "### Questão 10:\n",
    "\n",
    "Faça um programa para multiplicar duas matrizes com tamanho até 10x10, armazenando o resultado em uma terceira matriz.\n",
    "\n",
    "- O programa deve solicitar ao usuário as duas dimensões das duas matrizes;\n",
    "\n",
    "- O programa deve verificar se as matrizes podem ser multiplicadas e apresentar uma mensagem de erro, caso não seja possível.\n"
   ]
  },
  {
   "cell_type": "code",
   "execution_count": 20,
   "metadata": {
    "id": "_DPrLvAg1suk"
   },
   "outputs": [],
   "source": [
    "def multiplicar_matrizes():\n",
    "    print('Dimensões da primeira matriz (max 10x10)')\n",
    "    linhas1 = int(input('Número de linhas: '))\n",
    "    colunas1 = int(input('Número de colunas: '))\n",
    "    if linhas1 > 10 or colunas1 > 10:\n",
    "        print('Dimensões excedem o limite de 10x10.')\n",
    "        return\n",
    "\n",
    "    print('Dimensões da segunda matriz (max 10x10)')\n",
    "    linhas2 = int(input('Número de linhas: '))\n",
    "    colunas2 = int(input('Número de colunas: '))\n",
    "    if linhas2 > 10 or colunas2 > 10:\n",
    "        print('Dimensões excedem o limite de 10x10.')\n",
    "        return\n",
    "\n",
    "    if colunas1 != linhas2:\n",
    "        print('Erro: multiplicação impossível. Colunas da 1ª matriz devem ser iguais às linhas da 2ª.')\n",
    "        return\n",
    "\n",
    "    print('Digite os elementos da primeira matriz:')\n",
    "    matriz1 = []\n",
    "    for i in range(linhas1):\n",
    "        linha = []\n",
    "        for j in range(colunas1):\n",
    "            valor = int(input(f'Elemento [{i+1},{j+1}]: '))\n",
    "            linha.append(valor)\n",
    "        matriz1.append(linha)\n",
    "\n",
    "    print('Digite os elementos da segunda matriz:')\n",
    "    matriz2 = []\n",
    "    for i in range(linhas2):\n",
    "        linha = []\n",
    "        for j in range(colunas2):\n",
    "            valor = int(input(f'Elemento [{i+1},{j+1}]: '))\n",
    "            linha.append(valor)\n",
    "        matriz2.append(linha)\n",
    "\n",
    "    # Inicializa matriz resultado\n",
    "    resultado = []\n",
    "    for i in range(linhas1):\n",
    "        linha_resultado = []\n",
    "        for j in range(colunas2):\n",
    "            soma = 0\n",
    "            for k in range(colunas1):\n",
    "                soma += matriz1[i][k] * matriz2[k][j]\n",
    "            linha_resultado.append(soma)\n",
    "        resultado.append(linha_resultado)\n",
    "\n",
    "    print('\\nMatriz resultado da multiplicação:')\n",
    "    for linha in resultado:\n",
    "        print(linha)"
   ]
  },
  {
   "cell_type": "code",
   "execution_count": 21,
   "metadata": {},
   "outputs": [],
   "source": [
    "# multiplicar_matrizes()"
   ]
  },
  {
   "cell_type": "code",
   "execution_count": null,
   "metadata": {
    "colab": {
     "base_uri": "https://localhost:8080/"
    },
    "id": "fvnGGzigOTfa",
    "outputId": "86f3cdd6-28a4-4697-e7c9-9a25d754b9ec"
   },
   "outputs": [
    {
     "name": "stdout",
     "output_type": "stream",
     "text": [
      "/content/drive/My Drive/arquivos-digitos/colorized-MNIST-master\n"
     ]
    }
   ],
   "source": [
    "%cd /content/drive/My Drive/arquivos-digitos/colorized-MNIST-master"
   ]
  },
  {
   "cell_type": "code",
   "execution_count": null,
   "metadata": {
    "id": "ApeJxChlLzRf"
   },
   "outputs": [],
   "source": [
    "import os\n",
    "import pandas as pd\n",
    "import numpy as np\n",
    "from PIL import Image\n",
    "import random\n",
    "import matplotlib.pyplot as plt\n",
    "from mpl_toolkits.mplot3d import Axes3D\n",
    "\n",
    "\n",
    "%matplotlib inline"
   ]
  },
  {
   "cell_type": "code",
   "execution_count": null,
   "metadata": {
    "id": "pKrGYcCMLwLF"
   },
   "outputs": [],
   "source": []
  }
 ],
 "metadata": {
  "colab": {
   "provenance": []
  },
  "kernelspec": {
   "display_name": "Python 3 (ipykernel)",
   "language": "python",
   "name": "python3"
  },
  "language_info": {
   "codemirror_mode": {
    "name": "ipython",
    "version": 3
   },
   "file_extension": ".py",
   "mimetype": "text/x-python",
   "name": "python",
   "nbconvert_exporter": "python",
   "pygments_lexer": "ipython3",
   "version": "3.12.3"
  }
 },
 "nbformat": 4,
 "nbformat_minor": 4
}
