{
 "cells": [
  {
   "cell_type": "markdown",
   "metadata": {
    "id": "5b0JgHd19utr"
   },
   "source": [
    "#### Assunto do Laboratório 8:\n",
    "- Dicionários"
   ]
  },
  {
   "cell_type": "markdown",
   "metadata": {
    "id": "S20Kdlr691MV"
   },
   "source": [
    "### Questão 1:\n",
    "\n",
    "Crie uma função que receba como parâmetro um dicionário.\n",
    "Sua função deve imprimir todas as chaves e valores respectivos deste dicionário."
   ]
  },
  {
   "cell_type": "code",
   "execution_count": 10,
   "metadata": {},
   "outputs": [],
   "source": [
    "def imprimir_dicionario(dicionario):\n",
    "    for chave, valor in dicionario.items():\n",
    "        print(f'Chave: {chave} | Valor: {valor}')"
   ]
  },
  {
   "cell_type": "code",
   "execution_count": 11,
   "metadata": {},
   "outputs": [
    {
     "name": "stdout",
     "output_type": "stream",
     "text": [
      "Chave: nome | Valor: Pepe\n",
      "Chave: idade | Valor: 5\n",
      "Chave: cidade | Valor: Recife\n"
     ]
    }
   ],
   "source": [
    "meu_dicionario = {'nome': 'Pepe', 'idade': 5, 'cidade': 'Recife'}\n",
    "\n",
    "imprimir_dicionario(meu_dicionario)"
   ]
  },
  {
   "cell_type": "markdown",
   "metadata": {},
   "source": [
    "---"
   ]
  },
  {
   "cell_type": "markdown",
   "metadata": {
    "id": "WMG3Jf7hd-8C"
   },
   "source": [
    "### Questão 2:\n",
    "\n",
    "Crie uma função sem parâmetros. Esta função deve perguntar ao usuário quantos clientes vão ser cadastrados. Deverá ser pedido o nome do cliente e o CNPJ da empresa. Em seguida, sua função deve cadastrá-los em um dicionário, considerando o CNPJ como chave. Retorne o dicionário criado."
   ]
  },
  {
   "cell_type": "code",
   "execution_count": 14,
   "metadata": {
    "id": "w79xkPy8d0f1"
   },
   "outputs": [],
   "source": [
    "def cadastrar_clientes():\n",
    "    clientes = {}\n",
    "    quantidade = int(input('Quantos clientes deseja cadastrar? '))\n",
    "    \n",
    "    for i in range(quantidade):\n",
    "        print(f'\\nCadastro do cliente {i + 1}:')\n",
    "        nome = input('Digite o nome do cliente: ')\n",
    "        cnpj = input('Digite o CNPJ da empresa: ')\n",
    "        clientes[cnpj] = nome\n",
    "    \n",
    "    return clientes"
   ]
  },
  {
   "cell_type": "code",
   "execution_count": 15,
   "metadata": {},
   "outputs": [
    {
     "name": "stdin",
     "output_type": "stream",
     "text": [
      "Quantos clientes deseja cadastrar?  2\n"
     ]
    },
    {
     "name": "stdout",
     "output_type": "stream",
     "text": [
      "\n",
      "Cadastro do cliente 1:\n"
     ]
    },
    {
     "name": "stdin",
     "output_type": "stream",
     "text": [
      "Digite o nome do cliente:  Pepe\n",
      "Digite o CNPJ da empresa:  47.009.871/0001-30\n"
     ]
    },
    {
     "name": "stdout",
     "output_type": "stream",
     "text": [
      "\n",
      "Cadastro do cliente 2:\n"
     ]
    },
    {
     "name": "stdin",
     "output_type": "stream",
     "text": [
      "Digite o nome do cliente:  Minerva\n",
      "Digite o CNPJ da empresa:  48.384.482/0001-57\n"
     ]
    },
    {
     "name": "stdout",
     "output_type": "stream",
     "text": [
      "\n",
      "Dicionário final de clientes:\n",
      "{'47.009.871/0001-30': 'Pepe', '48.384.482/0001-57': 'Minerva'}\n"
     ]
    }
   ],
   "source": [
    "meus_clientes = cadastrar_clientes()\n",
    "print('\\nDicionário final de clientes:')\n",
    "print(meus_clientes)"
   ]
  },
  {
   "cell_type": "markdown",
   "metadata": {},
   "source": [
    "---"
   ]
  },
  {
   "cell_type": "markdown",
   "metadata": {
    "id": "bcV9CPLSddH-"
   },
   "source": [
    "### Questão 3:\n",
    "\n",
    "Um dicionário armazena o CPF de clientes como chave, e para cada cliente inserido, armazena uma lista com as datas que houve compra daquele cliente na empresa.\n",
    "\n",
    "Seu programa deve ter 3 opções:\n",
    "\n",
    "1- Inserir nova data de compra para um dado cliente (solicitar como entrada essas duas informações ao usuário);\n",
    "\n",
    "2- Remover alguma data de compra para um dado cliente (solicitar como entrada essas duas informações ao usuário);\n",
    "\n",
    "3- Imprimir todas as datas de compras para um dado cliente (solicitar como entrada essa informação ao usuário);"
   ]
  },
  {
   "cell_type": "code",
   "execution_count": 16,
   "metadata": {
    "id": "eWqWJUhof8rP"
   },
   "outputs": [],
   "source": [
    "def gerenciar_compras():\n",
    "    clientes = {}\n",
    "    \n",
    "    while True:\n",
    "        print('\\n1 - Inserir nova data')\n",
    "        print('2 - Remover data')\n",
    "        print('3 - Imprimir datas')\n",
    "        print('0 - Sair')\n",
    "        opcao = input('Opção: ')\n",
    "        \n",
    "        if opcao == '1':\n",
    "            cpf = input('CPF: ')\n",
    "            data = input('Data da compra: ')\n",
    "            if cpf not in clientes:\n",
    "                clientes[cpf] = []\n",
    "            clientes[cpf].append(data)\n",
    "            print('Data adicionada.')\n",
    "        \n",
    "        elif opcao == '2':\n",
    "            cpf = input('CPF: ')\n",
    "            data = input('Data a remover: ')\n",
    "            if cpf in clientes and data in clientes[cpf]:\n",
    "                clientes[cpf].remove(data)\n",
    "                print('Data removida.')\n",
    "            else:\n",
    "                print('CPF ou data não encontrados.')\n",
    "        \n",
    "        elif opcao == '3':\n",
    "            cpf = input('CPF: ')\n",
    "            if cpf in clientes:\n",
    "                print('Datas de compra:')\n",
    "                for d in clientes[cpf]:\n",
    "                    print(d)\n",
    "            else:\n",
    "                print('Cliente não encontrado.')\n",
    "        \n",
    "        elif opcao == '0':\n",
    "            break\n",
    "        \n",
    "        else:\n",
    "            print('Opção inválida.')"
   ]
  },
  {
   "cell_type": "code",
   "execution_count": 17,
   "metadata": {},
   "outputs": [
    {
     "name": "stdout",
     "output_type": "stream",
     "text": [
      "\n",
      "1 - Inserir nova data\n",
      "2 - Remover data\n",
      "3 - Imprimir datas\n",
      "0 - Sair\n"
     ]
    },
    {
     "name": "stdin",
     "output_type": "stream",
     "text": [
      "Opção:  10/01/2025\n"
     ]
    },
    {
     "name": "stdout",
     "output_type": "stream",
     "text": [
      "Opção inválida.\n",
      "\n",
      "1 - Inserir nova data\n",
      "2 - Remover data\n",
      "3 - Imprimir datas\n",
      "0 - Sair\n"
     ]
    },
    {
     "name": "stdin",
     "output_type": "stream",
     "text": [
      "Opção:  3\n",
      "CPF:  111.222.333-44\n"
     ]
    },
    {
     "name": "stdout",
     "output_type": "stream",
     "text": [
      "Cliente não encontrado.\n",
      "\n",
      "1 - Inserir nova data\n",
      "2 - Remover data\n",
      "3 - Imprimir datas\n",
      "0 - Sair\n"
     ]
    },
    {
     "name": "stdin",
     "output_type": "stream",
     "text": [
      "Opção:  0\n"
     ]
    }
   ],
   "source": [
    "gerenciar_compras()"
   ]
  }
 ],
 "metadata": {
  "colab": {
   "provenance": []
  },
  "kernelspec": {
   "display_name": "Python 3 (ipykernel)",
   "language": "python",
   "name": "python3"
  },
  "language_info": {
   "codemirror_mode": {
    "name": "ipython",
    "version": 3
   },
   "file_extension": ".py",
   "mimetype": "text/x-python",
   "name": "python",
   "nbconvert_exporter": "python",
   "pygments_lexer": "ipython3",
   "version": "3.12.3"
  }
 },
 "nbformat": 4,
 "nbformat_minor": 4
}
